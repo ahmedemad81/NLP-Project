{
 "cells": [
  {
   "cell_type": "code",
   "execution_count": 6,
   "metadata": {},
   "outputs": [],
   "source": [
    "import pickle\n",
    "import numpy as np\n",
    "import pandas as pd\n",
    "import matplotlib.pyplot as plt\n",
    "import re\n",
    "import pyarabic.araby as araby\n",
    "from keras.preprocessing.text import Tokenizer\n",
    "from keras.preprocessing.sequence import pad_sequences\n",
    "from keras.utils import to_categorical\n",
    "import farasa\n",
    "from farasa.segmenter import FarasaSegmenter \n",
    "import unicodedata\n",
    "import torch"
   ]
  },
  {
   "cell_type": "code",
   "execution_count": 7,
   "metadata": {},
   "outputs": [
    {
     "name": "stdout",
     "output_type": "stream",
     "text": [
      "cuda\n",
      "NVIDIA GeForce RTX 3060\n",
      "1\n",
      "0\n"
     ]
    }
   ],
   "source": [
    "# Run on GPU\n",
    "use_cuda = torch.cuda.is_available()\n",
    "device = torch.device(\"cuda\" if use_cuda else \"cpu\")\n",
    "print (device)\n",
    "# print the cpu or gpu\n",
    "print(torch.cuda.get_device_name(0))\n",
    "# print the number of gpus you have\n",
    "print(torch.cuda.device_count())\n",
    "# print current gpu\n",
    "print(torch.cuda.current_device())"
   ]
  },
  {
   "cell_type": "code",
   "execution_count": 46,
   "metadata": {},
   "outputs": [],
   "source": [
    "# Load the dataset\n",
    "# Specify the file path\n",
    "file_path = \"./dataset/train.txt\"\n",
    "\n",
    "# Read the contents of the file located at file_path \n",
    "# and append each line to the list data_before_preprocessing\n",
    "with open(file_path, 'r', encoding='utf-8') as file:\n",
    "    data_before_preprocessing = file.readlines()\n",
    "    # remove '\\n' from each line\n",
    "    data_before_preprocessing = [line.strip() for line in data_before_preprocessing]\n",
    "    \n",
    "    "
   ]
  },
  {
   "cell_type": "code",
   "execution_count": 59,
   "metadata": {},
   "outputs": [],
   "source": [
    "# Remove diacritics\n",
    "def remove_diacritics(text):\n",
    "    text = araby.strip_tashkeel(text)\n",
    "    return text\n",
    "\n",
    "# Remove any non-Arabic letters\n",
    "def remove_non_arabic(text):\n",
    "    text = re.sub(r'[^\\u0600-\\u06FF\\s]|،|؛', '', text)\n",
    "    return text\n",
    "\n",
    "def input_preprocessing_text(text):\n",
    "    # Correct most common errors on word like repetetion of harakats, or tanween before alef\n",
    "    text = araby.autocorrect(text)\n",
    "\n",
    "    # Remove any non-Arabic letters\n",
    "    text = remove_non_arabic(text)\n",
    "\n",
    "    # Remove diacritics\n",
    "    text = remove_diacritics(text)\n",
    "\n",
    "    # Tokenize\n",
    "    text = araby.tokenize(text)\n",
    "\n",
    "    return text\n",
    "\n",
    "def save_tokenized_input(text,path):\n",
    "    words = input_preprocessing_text(text)\n",
    "    # Write and append on the tokenized input to a file\n",
    "    with open(f'./generatedFiles/{path}.txt', 'a', encoding='utf-8') as file:\n",
    "        for word in words:\n",
    "            file.write(word + '\\n')\n",
    "\n",
    "def save_gold_output(text,path):\n",
    "    # Remove any non-Arabic letters and extra spaces\n",
    "    text = remove_non_arabic(text)\n",
    "\n",
    "    # Tokenize\n",
    "    text = araby.tokenize(text)\n",
    "\n",
    "    # Write and append on the gold output to a file\n",
    "    with open(f'./generatedFiles/{path}.txt', 'a', encoding='utf-8') as file:\n",
    "        for word in text:\n",
    "            # if last word in the text don't add '\\n'\n",
    "            file.write(word + '\\n')\n",
    "\n",
    "\n",
    "def is_not_arabic_diacritic(char):\n",
    "   category = unicodedata.category(char)\n",
    "   return not (category == 'Mn' or category == 'Mc')\n"
   ]
  },
  {
   "cell_type": "code",
   "execution_count": 48,
   "metadata": {},
   "outputs": [
    {
     "name": "stdout",
     "output_type": "stream",
     "text": [
      "The character is an Arabic diacritic.\n",
      "3\n"
     ]
    }
   ],
   "source": [
    "# Example usage:\n",
    "character = 'ذْ'\n",
    "if is_not_arabic_diacritic(character[1]):\n",
    "   print(\"The character is not an Arabic diacritic.\")\n",
    "else:\n",
    "   print(\"The character is an Arabic diacritic.\")\n",
    "\n",
    "\n",
    "# Testing of is_not_arabic_diacritic() function with gettting the index of the first non diacritic character in the word\n",
    "word = 'زَّراع'\n",
    " \n",
    "for i in range(1, len(word)): # start from 1 because the first character is not a diacritic\n",
    "    if is_not_arabic_diacritic(word[i]):\n",
    "        print(i)\n",
    "        break "
   ]
  },
  {
   "cell_type": "code",
   "execution_count": 49,
   "metadata": {},
   "outputs": [],
   "source": [
    "# # RUN ONE TIME ONLY THIS CODE AGAIN \n",
    "# # Generate Gold Input file\n",
    "# for i in range(len(data_before_preprocessing)):\n",
    "#     save_tokenized_input(data_before_preprocessing[i])"
   ]
  },
  {
   "cell_type": "code",
   "execution_count": 50,
   "metadata": {},
   "outputs": [],
   "source": [
    "# #RUN ONE TIME ONLY THIS CODE AGAIN\n",
    "# # Generate Gold Output file\n",
    "# for i in range(len(data_before_preprocessing)):\n",
    "#     test = data_before_preprocessing[i]\n",
    "#     text1 = save_gold_output(test)"
   ]
  },
  {
   "cell_type": "code",
   "execution_count": 24,
   "metadata": {},
   "outputs": [
    {
     "name": "stdout",
     "output_type": "stream",
     "text": [
      "['قال', 'ابن', 'القاسم', 'قال', 'مالك', 'في', 'مكي', 'أحرم', 'بحجة', 'من', 'الحرم', 'ثم', 'أحصر', 'أنه', 'يخرج', 'إلى', 'الحل', 'فيلبي', 'من', 'هناك', 'لأنه', 'أمر', 'من', 'فاته', 'الحج', 'وقد', 'أحرم', 'من', 'مكة', 'أن', 'يخرج', 'إلى', 'الحل', 'فيعمل', 'فيما', 'بقي', 'عليه', 'ما', 'يعمل', 'المعتمر', 'ويحل']\n"
     ]
    }
   ],
   "source": [
    "# For testing\n",
    "test = \"قَالَ ابْنُ الْقَاسِمِ : قَالَ مَالِكٌ فِي مَكِّيٍّ أَحْرَمَ بِحَجَّةٍ مِنْ الْحَرَمِ ثُمَّ أُحْصِرَ ، أَنَّهُ يَخْرُجُ إلَى الْحِلِّ فَيُلَبِّي مِنْ هُنَاكَ لِأَنَّهُ أَمَرَ مَنْ فَاتَهُ الْحَجُّ وَقَدْ أَحْرَمَ مِنْ مَكَّةَ ، أَنْ يَخْرُجَ إلَى الْحِلِّ فَيَعْمَلَ فِيمَا بَقِيَ عَلَيْهِ مَا يَعْمَلُ الْمُعْتَمِرُ وَيُحِلُّ .( 2 / 437 ) \"\n",
    "text2 = input_preprocessing_text(test)\n",
    "print(text2)\n",
    "text3 = remove_non_arabic(test)"
   ]
  },
  {
   "cell_type": "code",
   "execution_count": 25,
   "metadata": {},
   "outputs": [],
   "source": [
    "# Important functions in PyArabic\n",
    "\n",
    "# araby.tokenize(text) # Tokenize the sentence text into words\n",
    "# araby.is_arabicrange(text) # Check if the text is Arabic\n",
    "# araby.sentence_tokenize(text) # Tokenize the text into sentences\n",
    "# araby.strip_tashkeel(text) # Remove diacritics (FATHA, DAMMA, KASRA, SUKUN, SHADDA, FATHATAN, DAMMATAN, KASRATAN)\n",
    "# araby.strip_diacritics(text) # Remove diacritics (Small Alef الألف الخنجرية, Harakat + Shadda, Quranic marks)\n",
    "# araby.strip_tatweel(text) # Remove tatweel\n",
    "# araby.strip_shadda(text) # Remove shadda\n",
    "# araby.autocorrect(text) # Correct most common errors on word like repetetion of harakats,or tanwin befor alef\n",
    "# araby.arabicrange() # Return a list of Arabic characters\n",
    "\n",
    "# New Functions in PyArabic\n",
    "# araby.vocalized_similarity(word1, word2) # if the two words has the same letters and the same harakats, this function return True. \n",
    "# The two words can be full vocalized, or partial vocalized\n",
    "\n",
    "# araby.vocalizedlike(word1, word2) Same as vocalized_similarity but return True and False\n",
    "\n",
    "# araby.joint(word1, word2) # joint the letters with the marks the length ot letters and marks must be equal return word\n",
    "\n",
    "\n",
    "\n",
    "# Return the text, its tashkeel and shadda if extract_shadda is True\n",
    "# text, marks, shada = araby.separate(text,extract_shadda=True) # Separate diacritics from the text\n",
    "# print (text)\n",
    "# for m in marks:\n",
    "#     print (araby.name(m))\n",
    "\n",
    "# for s in shada:\n",
    "#     print (araby.name(s))"
   ]
  },
  {
   "cell_type": "code",
   "execution_count": 72,
   "metadata": {},
   "outputs": [
    {
     "name": "stdout",
     "output_type": "stream",
     "text": [
      "2104308\n",
      "['قوله', 'أو', 'قطع', 'الأول', 'يده', 'إلخ', 'قال', 'الزركشي', 'ابن', 'عرفة']\n"
     ]
    }
   ],
   "source": [
    "# read the tokenized input file\n",
    "with open('./generatedFiles/tokenized_input.txt', 'r', encoding='utf-8') as file:\n",
    "    tokenized_input = file.readlines()\n",
    "    print(len(tokenized_input))\n",
    "    # Remove '\\n' from each line\n",
    "    tokenized_input = [line.strip() for line in tokenized_input]\n",
    "    # Put the tokenized input of length 1 in tokenized_input list \n",
    "    # tokenized_input = [(line.strip(), i) for i,line in enumerate(tokenized_input) if (len(line.strip())== 1 and line.strip() != '؟')]\n",
    "\n",
    "print(tokenized_input[:10])\n",
    "\n"
   ]
  },
  {
   "cell_type": "code",
   "execution_count": 73,
   "metadata": {},
   "outputs": [
    {
     "name": "stdout",
     "output_type": "stream",
     "text": [
      "2104308\n"
     ]
    }
   ],
   "source": [
    "print(len(tokenized_input))"
   ]
  },
  {
   "cell_type": "markdown",
   "metadata": {},
   "source": [
    "# **Core Word (CW) Diacritization**"
   ]
  },
  {
   "cell_type": "markdown",
   "metadata": {},
   "source": [
    "## **Feature Extraction**"
   ]
  },
  {
   "cell_type": "markdown",
   "metadata": {},
   "source": [
    "### 1 - Characters: \n",
    "Here we extract each character from all tokenized words and create a vector of size 50 for each character."
   ]
  },
  {
   "cell_type": "code",
   "execution_count": 74,
   "metadata": {},
   "outputs": [],
   "source": [
    "tokenizer_char = Tokenizer(char_level=True)\n",
    "tokenizer_char.fit_on_texts(tokenized_input)\n",
    "sequences_char = tokenizer_char.texts_to_sequences(tokenized_input)\n",
    "char_features = pad_sequences(sequences_char)   # padding the sequences to have the same length as the longest sequence (word)\n",
    "char_embeddings = np.random.rand(len(tokenizer_char.word_index) + 1, 50)"
   ]
  },
  {
   "cell_type": "code",
   "execution_count": 29,
   "metadata": {},
   "outputs": [
    {
     "name": "stdout",
     "output_type": "stream",
     "text": [
      "(2104308, 13)\n",
      "(38, 50)\n"
     ]
    }
   ],
   "source": [
    "print(char_features.shape) # (number of words, max length of word in the dataset)\n",
    "\n",
    "\n",
    "print(char_embeddings.shape)\n",
    "\n",
    "# 38 rows: 37 unique characters identified by the tokenizer, 1 row for handling characters not seen in the training data\n",
    "# 50 columns: Each character is encoded as a 50-dimensional vector"
   ]
  },
  {
   "cell_type": "code",
   "execution_count": 30,
   "metadata": {},
   "outputs": [
    {
     "name": "stdout",
     "output_type": "stream",
     "text": [
      "[ 0  0  0  0  0  0  0  0  0 13  5  1  7]\n"
     ]
    }
   ],
   "source": [
    "print(char_features[0]) \n",
    "# the number of non zero elements corresponds to the length of the word \n",
    "# and the value of each element corresponds to the index of the character in the tokenizer\n",
    "# which means that every character now is encoded as a number and this number is the index of the character in the tokenizer"
   ]
  },
  {
   "cell_type": "code",
   "execution_count": 31,
   "metadata": {},
   "outputs": [
    {
     "name": "stdout",
     "output_type": "stream",
     "text": [
      "[0.82718437 0.4224459  0.16871503 0.62382641 0.32524436 0.87265325\n",
      " 0.0577308  0.33543328 0.68879951 0.73667659 0.61688437 0.9953354\n",
      " 0.17036873 0.9519963  0.86273352 0.46042732 0.44972585 0.33441949\n",
      " 0.45360105 0.35258226 0.55844318 0.58011174 0.39465262 0.89635392\n",
      " 0.33452824 0.13378085 0.23381511 0.92304843 0.74989829 0.94401159\n",
      " 0.22424333 0.38812339 0.97364285 0.21564904 0.54669863 0.10668212\n",
      " 0.39008205 0.38445956 0.71925058 0.58768456 0.76962771 0.78860936\n",
      " 0.24047497 0.93822055 0.36737086 0.27888135 0.9513102  0.38241166\n",
      " 0.47530879 0.37132545]\n"
     ]
    }
   ],
   "source": [
    "print(char_embeddings[0])\n",
    "# this is the embedding of each character in the tokenizer"
   ]
  },
  {
   "cell_type": "code",
   "execution_count": 32,
   "metadata": {},
   "outputs": [
    {
     "name": "stdout",
     "output_type": "stream",
     "text": [
      "(13, 50)\n",
      "[[0.82718437 0.4224459  0.16871503 0.62382641 0.32524436 0.87265325\n",
      "  0.0577308  0.33543328 0.68879951 0.73667659 0.61688437 0.9953354\n",
      "  0.17036873 0.9519963  0.86273352 0.46042732 0.44972585 0.33441949\n",
      "  0.45360105 0.35258226 0.55844318 0.58011174 0.39465262 0.89635392\n",
      "  0.33452824 0.13378085 0.23381511 0.92304843 0.74989829 0.94401159\n",
      "  0.22424333 0.38812339 0.97364285 0.21564904 0.54669863 0.10668212\n",
      "  0.39008205 0.38445956 0.71925058 0.58768456 0.76962771 0.78860936\n",
      "  0.24047497 0.93822055 0.36737086 0.27888135 0.9513102  0.38241166\n",
      "  0.47530879 0.37132545]\n",
      " [0.82718437 0.4224459  0.16871503 0.62382641 0.32524436 0.87265325\n",
      "  0.0577308  0.33543328 0.68879951 0.73667659 0.61688437 0.9953354\n",
      "  0.17036873 0.9519963  0.86273352 0.46042732 0.44972585 0.33441949\n",
      "  0.45360105 0.35258226 0.55844318 0.58011174 0.39465262 0.89635392\n",
      "  0.33452824 0.13378085 0.23381511 0.92304843 0.74989829 0.94401159\n",
      "  0.22424333 0.38812339 0.97364285 0.21564904 0.54669863 0.10668212\n",
      "  0.39008205 0.38445956 0.71925058 0.58768456 0.76962771 0.78860936\n",
      "  0.24047497 0.93822055 0.36737086 0.27888135 0.9513102  0.38241166\n",
      "  0.47530879 0.37132545]\n",
      " [0.82718437 0.4224459  0.16871503 0.62382641 0.32524436 0.87265325\n",
      "  0.0577308  0.33543328 0.68879951 0.73667659 0.61688437 0.9953354\n",
      "  0.17036873 0.9519963  0.86273352 0.46042732 0.44972585 0.33441949\n",
      "  0.45360105 0.35258226 0.55844318 0.58011174 0.39465262 0.89635392\n",
      "  0.33452824 0.13378085 0.23381511 0.92304843 0.74989829 0.94401159\n",
      "  0.22424333 0.38812339 0.97364285 0.21564904 0.54669863 0.10668212\n",
      "  0.39008205 0.38445956 0.71925058 0.58768456 0.76962771 0.78860936\n",
      "  0.24047497 0.93822055 0.36737086 0.27888135 0.9513102  0.38241166\n",
      "  0.47530879 0.37132545]\n",
      " [0.82718437 0.4224459  0.16871503 0.62382641 0.32524436 0.87265325\n",
      "  0.0577308  0.33543328 0.68879951 0.73667659 0.61688437 0.9953354\n",
      "  0.17036873 0.9519963  0.86273352 0.46042732 0.44972585 0.33441949\n",
      "  0.45360105 0.35258226 0.55844318 0.58011174 0.39465262 0.89635392\n",
      "  0.33452824 0.13378085 0.23381511 0.92304843 0.74989829 0.94401159\n",
      "  0.22424333 0.38812339 0.97364285 0.21564904 0.54669863 0.10668212\n",
      "  0.39008205 0.38445956 0.71925058 0.58768456 0.76962771 0.78860936\n",
      "  0.24047497 0.93822055 0.36737086 0.27888135 0.9513102  0.38241166\n",
      "  0.47530879 0.37132545]\n",
      " [0.82718437 0.4224459  0.16871503 0.62382641 0.32524436 0.87265325\n",
      "  0.0577308  0.33543328 0.68879951 0.73667659 0.61688437 0.9953354\n",
      "  0.17036873 0.9519963  0.86273352 0.46042732 0.44972585 0.33441949\n",
      "  0.45360105 0.35258226 0.55844318 0.58011174 0.39465262 0.89635392\n",
      "  0.33452824 0.13378085 0.23381511 0.92304843 0.74989829 0.94401159\n",
      "  0.22424333 0.38812339 0.97364285 0.21564904 0.54669863 0.10668212\n",
      "  0.39008205 0.38445956 0.71925058 0.58768456 0.76962771 0.78860936\n",
      "  0.24047497 0.93822055 0.36737086 0.27888135 0.9513102  0.38241166\n",
      "  0.47530879 0.37132545]\n",
      " [0.82718437 0.4224459  0.16871503 0.62382641 0.32524436 0.87265325\n",
      "  0.0577308  0.33543328 0.68879951 0.73667659 0.61688437 0.9953354\n",
      "  0.17036873 0.9519963  0.86273352 0.46042732 0.44972585 0.33441949\n",
      "  0.45360105 0.35258226 0.55844318 0.58011174 0.39465262 0.89635392\n",
      "  0.33452824 0.13378085 0.23381511 0.92304843 0.74989829 0.94401159\n",
      "  0.22424333 0.38812339 0.97364285 0.21564904 0.54669863 0.10668212\n",
      "  0.39008205 0.38445956 0.71925058 0.58768456 0.76962771 0.78860936\n",
      "  0.24047497 0.93822055 0.36737086 0.27888135 0.9513102  0.38241166\n",
      "  0.47530879 0.37132545]\n",
      " [0.82718437 0.4224459  0.16871503 0.62382641 0.32524436 0.87265325\n",
      "  0.0577308  0.33543328 0.68879951 0.73667659 0.61688437 0.9953354\n",
      "  0.17036873 0.9519963  0.86273352 0.46042732 0.44972585 0.33441949\n",
      "  0.45360105 0.35258226 0.55844318 0.58011174 0.39465262 0.89635392\n",
      "  0.33452824 0.13378085 0.23381511 0.92304843 0.74989829 0.94401159\n",
      "  0.22424333 0.38812339 0.97364285 0.21564904 0.54669863 0.10668212\n",
      "  0.39008205 0.38445956 0.71925058 0.58768456 0.76962771 0.78860936\n",
      "  0.24047497 0.93822055 0.36737086 0.27888135 0.9513102  0.38241166\n",
      "  0.47530879 0.37132545]\n",
      " [0.82718437 0.4224459  0.16871503 0.62382641 0.32524436 0.87265325\n",
      "  0.0577308  0.33543328 0.68879951 0.73667659 0.61688437 0.9953354\n",
      "  0.17036873 0.9519963  0.86273352 0.46042732 0.44972585 0.33441949\n",
      "  0.45360105 0.35258226 0.55844318 0.58011174 0.39465262 0.89635392\n",
      "  0.33452824 0.13378085 0.23381511 0.92304843 0.74989829 0.94401159\n",
      "  0.22424333 0.38812339 0.97364285 0.21564904 0.54669863 0.10668212\n",
      "  0.39008205 0.38445956 0.71925058 0.58768456 0.76962771 0.78860936\n",
      "  0.24047497 0.93822055 0.36737086 0.27888135 0.9513102  0.38241166\n",
      "  0.47530879 0.37132545]\n",
      " [0.82718437 0.4224459  0.16871503 0.62382641 0.32524436 0.87265325\n",
      "  0.0577308  0.33543328 0.68879951 0.73667659 0.61688437 0.9953354\n",
      "  0.17036873 0.9519963  0.86273352 0.46042732 0.44972585 0.33441949\n",
      "  0.45360105 0.35258226 0.55844318 0.58011174 0.39465262 0.89635392\n",
      "  0.33452824 0.13378085 0.23381511 0.92304843 0.74989829 0.94401159\n",
      "  0.22424333 0.38812339 0.97364285 0.21564904 0.54669863 0.10668212\n",
      "  0.39008205 0.38445956 0.71925058 0.58768456 0.76962771 0.78860936\n",
      "  0.24047497 0.93822055 0.36737086 0.27888135 0.9513102  0.38241166\n",
      "  0.47530879 0.37132545]\n",
      " [0.58672878 0.7386062  0.25775515 0.45786709 0.15913198 0.02813656\n",
      "  0.58967473 0.38490442 0.44413796 0.05944643 0.52299051 0.95621419\n",
      "  0.42949843 0.41216402 0.07606088 0.43138347 0.03461807 0.15101531\n",
      "  0.32067061 0.45965413 0.75247352 0.15144218 0.74463392 0.50431778\n",
      "  0.21292987 0.97767121 0.94402486 0.09588901 0.74973774 0.86659481\n",
      "  0.50961569 0.64807239 0.05634276 0.68109104 0.40304406 0.06247137\n",
      "  0.15607975 0.06703177 0.72311129 0.08874067 0.68496787 0.59366621\n",
      "  0.44751128 0.74259962 0.95123724 0.89801524 0.48774164 0.24460623\n",
      "  0.30854967 0.21775396]\n",
      " [0.09875606 0.28102675 0.16433959 0.40650403 0.14621027 0.41330625\n",
      "  0.13379861 0.91745611 0.59581885 0.81116864 0.80269246 0.93872401\n",
      "  0.69046734 0.19988334 0.06434468 0.10502145 0.80324772 0.54617695\n",
      "  0.09214126 0.63800642 0.92679667 0.36376033 0.53356301 0.20663618\n",
      "  0.36564941 0.01047727 0.14820479 0.75098408 0.36918721 0.47765481\n",
      "  0.69766058 0.09735922 0.61965624 0.8919331  0.31019845 0.78078168\n",
      "  0.42849711 0.1986037  0.34272935 0.14309333 0.28832903 0.65011925\n",
      "  0.98533297 0.06119128 0.82733753 0.02395595 0.41627312 0.42766945\n",
      "  0.05475962 0.81305426]\n",
      " [0.58586445 0.96053212 0.73725117 0.30134754 0.30770673 0.18617898\n",
      "  0.50688167 0.32233028 0.72792075 0.54283463 0.85748858 0.15960491\n",
      "  0.30448101 0.00882319 0.20286813 0.49633555 0.61666478 0.03446245\n",
      "  0.45643679 0.10837681 0.78134044 0.77153467 0.85702594 0.62222461\n",
      "  0.06022804 0.86845498 0.40606115 0.62926831 0.9600252  0.11395208\n",
      "  0.94069321 0.33944384 0.81326062 0.83777046 0.16989127 0.10400053\n",
      "  0.95981546 0.79420586 0.16771389 0.54340385 0.51211641 0.62092221\n",
      "  0.13129302 0.79030512 0.84688005 0.58488061 0.56174741 0.80373427\n",
      "  0.54247179 0.60250446]\n",
      " [0.21042595 0.09486027 0.75188889 0.24923453 0.20697807 0.84822215\n",
      "  0.51359494 0.49941228 0.48872844 0.4820964  0.75687623 0.66976979\n",
      "  0.39955198 0.37072139 0.93788942 0.47552034 0.63841626 0.69088892\n",
      "  0.77861004 0.54338673 0.21702004 0.82511573 0.99744888 0.03897639\n",
      "  0.40286002 0.29416573 0.16551533 0.76534902 0.91161808 0.42561427\n",
      "  0.55271721 0.46222475 0.2613927  0.53712275 0.54601478 0.55663433\n",
      "  0.88044888 0.07584433 0.54867822 0.33711435 0.67056247 0.46291128\n",
      "  0.87291687 0.89100146 0.1269969  0.55392029 0.14255246 0.63278346\n",
      "  0.17276664 0.33878305]]\n"
     ]
    }
   ],
   "source": [
    "print(char_embeddings[char_features[0]].shape)\n",
    "# 13 is the word of characters and 50 is the embedding size of each character\n",
    "\n",
    "print(char_embeddings[char_features[0]])\n",
    "# this is the embedding of each character in the first tokenized word, this is the 1st feature and the input of the model"
   ]
  },
  {
   "cell_type": "markdown",
   "metadata": {},
   "source": [
    "### 2 - The position of the character in a word segment:\n",
    "For example, given the word “wAlktAb” , which is composed of three segments “w+Al+ktAb”. Letters were marked as “B” if they begin a segment, “M” if they are in the middle of a segment, “E” if they end a segment, and “S” if they are single letter segments. So for “w+Al+ktAb”, the corresponding character positions are “S+BE+BMME.”"
   ]
  },
  {
   "cell_type": "code",
   "execution_count": 67,
   "metadata": {},
   "outputs": [
    {
     "name": "stderr",
     "output_type": "stream",
     "text": [
      "[2024-01-01 03:47:42,127 - farasapy_logger - WARNING]: Be careful with large lines as they may break on interactive mode. You may switch to Standalone mode for such cases.\n"
     ]
    }
   ],
   "source": [
    "segmenter = FarasaSegmenter(interactive=True) # The default behaviour"
   ]
  },
  {
   "cell_type": "code",
   "execution_count": 68,
   "metadata": {},
   "outputs": [
    {
     "name": "stdout",
     "output_type": "stream",
     "text": [
      "Segmented word: ['ك', 'قلم', 'ه']\n",
      "SEG tags: ['S', 'B', 'M', 'E', 'S']\n"
     ]
    }
   ],
   "source": [
    "def get_seg_tags(word):                 # word = \"wAlktAb\"\n",
    "    segments = segmenter.segment(word)  # segments will be a list: [\"w\", \"Al\", \"ktAb\"]\n",
    "    segments = segments.split('+')\n",
    "    seg_tags = []\n",
    "    for segment in segments:\n",
    "        if len(segment) == 1:\n",
    "            seg_tags.append(\"S\")\n",
    "        else:\n",
    "            seg_tags.append(\"B\")  # First letter\n",
    "            seg_tags.extend(\"M\" * (len(segment) - 2))  # Middle letters\n",
    "            seg_tags.append(\"E\")  # Last letter\n",
    "    return segments, seg_tags\n",
    "\n",
    "word = \"كقلمه\"\n",
    "segments, seg_tags = get_seg_tags(word)\n",
    "print(\"Segmented word:\", segments)\n",
    "print(\"SEG tags:\", seg_tags)\n"
   ]
  },
  {
   "cell_type": "code",
   "execution_count": 35,
   "metadata": {},
   "outputs": [],
   "source": [
    "# # DON'T RUN THIS CODE AGAIN, THIS CELL TOOK 25m 4.5s TO RUN\n",
    "# # The Output of this code is the input_segments.txt file\n",
    "\n",
    "# for i in range(len(tokenized_input)):\n",
    "#     segments, seg_tags = get_seg_tags(tokenized_input[i])\n",
    "#     # Write and append on the tokenized input to a file\n",
    "#     with open('./generatedFiles/input_segments.txt', 'a', encoding='utf-8') as file:\n",
    "#         for tag in seg_tags:\n",
    "#             file.write(tag)\n",
    "#         file.write('\\n')"
   ]
  },
  {
   "cell_type": "code",
   "execution_count": 76,
   "metadata": {},
   "outputs": [
    {
     "name": "stdout",
     "output_type": "stream",
     "text": [
      "2104308\n",
      "['BMES', 'BE', 'BME', 'BEBME', 'BES', 'BME', 'BME', 'BEBMMME', 'BME', 'BMES']\n"
     ]
    }
   ],
   "source": [
    "# Read the input_segments file\n",
    "with open('./generatedFiles/input_segments.txt', 'r', encoding='utf-8') as file:\n",
    "    input_segments = file.readlines()\n",
    "    print(len(input_segments))\n",
    "    # Remove '\\n' from each line\n",
    "    input_segments = [line.strip() for line in input_segments]\n",
    "    # Put the tokenized input of length 1 in the tokenized_input list\n",
    "    # tokenized_input = [(line.strip(), i) for i,line in enumerate(tokenized_input) if (len(line.strip())== 1 and line.strip() != '؟')]\n",
    "\n",
    "print(input_segments[:10])"
   ]
  },
  {
   "cell_type": "code",
   "execution_count": 77,
   "metadata": {},
   "outputs": [],
   "source": [
    "tokenizer_tags = Tokenizer(char_level=True)\n",
    "tokenizer_tags.fit_on_texts(input_segments)\n",
    "sequences_tags = tokenizer_tags.texts_to_sequences(input_segments)\n",
    "tags_features = pad_sequences(sequences_tags)   \n",
    "tags_embeddings = np.random.rand(len(tokenizer_tags.word_index) + 1, 50)"
   ]
  },
  {
   "cell_type": "code",
   "execution_count": 38,
   "metadata": {},
   "outputs": [
    {
     "name": "stdout",
     "output_type": "stream",
     "text": [
      "(2104308, 13)\n",
      "(5, 50)\n"
     ]
    }
   ],
   "source": [
    "print(tags_features.shape) \n",
    "print(tags_embeddings.shape)"
   ]
  },
  {
   "cell_type": "code",
   "execution_count": 39,
   "metadata": {},
   "outputs": [
    {
     "data": {
      "text/plain": [
       "array([0, 0, 0, 0, 0, 0, 0, 0, 0, 1, 3, 2, 4])"
      ]
     },
     "execution_count": 39,
     "metadata": {},
     "output_type": "execute_result"
    }
   ],
   "source": [
    "tags_features[0]"
   ]
  },
  {
   "cell_type": "code",
   "execution_count": 40,
   "metadata": {},
   "outputs": [
    {
     "data": {
      "text/plain": [
       "array([0.00352603, 0.69221287, 0.30273659, 0.11188011, 0.89065211,\n",
       "       0.49201768, 0.68695663, 0.16368839, 0.56587932, 0.88104962,\n",
       "       0.9849579 , 0.91881847, 0.15517539, 0.12924416, 0.56370847,\n",
       "       0.61223982, 0.76536904, 0.62366   , 0.57627321, 0.42726112,\n",
       "       0.54336608, 0.53620942, 0.19644801, 0.39810245, 0.60179897,\n",
       "       0.27066639, 0.36974522, 0.31703842, 0.26838852, 0.2407861 ,\n",
       "       0.05064811, 0.08938926, 0.75855506, 0.81586703, 0.98943101,\n",
       "       0.85699995, 0.89626381, 0.93447942, 0.98596828, 0.60570575,\n",
       "       0.88464929, 0.41572764, 0.55302554, 0.9256604 , 0.10286387,\n",
       "       0.86617492, 0.44862383, 0.73284923, 0.49109846, 0.74762704])"
      ]
     },
     "execution_count": 40,
     "metadata": {},
     "output_type": "execute_result"
    }
   ],
   "source": [
    "tags_embeddings[tags_features[0][0]]"
   ]
  },
  {
   "cell_type": "markdown",
   "metadata": {},
   "source": [
    "### 3 - PRIOR: \n",
    "diacritics seen in the training set per segment. Since we used a character-level model, this feature informed the model with word-level information. For example, the word “ktAb”  was observed to have two diacritized forms in the training set, namely “kitaAb” ( – book) and “kut∼aAb” ( – writers). The first letter in the word (“k”) accepted the diacritics “i” and “u.” Thus, given a binary vector representing whether a character is allowed to assume any of the eight primitive Arabic diacritic marks (a, i, u, o, K, N, F, and ∼ in order), the first letter would be given the following vector “01100000.” If a word segment was never observed during training, then the vector for all letters therein would be set to 11111111."
   ]
  },
  {
   "cell_type": "code",
   "execution_count": 41,
   "metadata": {},
   "outputs": [
    {
     "name": "stdout",
     "output_type": "stream",
     "text": [
      "2104308\n",
      "['قَوْلُهُ', 'أَوْ', 'قَطَعَ', 'الْأَوَّلُ', 'يَدَهُ', 'إلَخْ', 'قَالَ', 'الزَّرْكَشِيُّ', 'ابْنُ', 'عَرَفَةَ']\n"
     ]
    }
   ],
   "source": [
    "# read the gold_output file\n",
    "with open('./generatedFiles/gold_output.txt', 'r', encoding='utf-8') as file:\n",
    "    gold_output = file.readlines()\n",
    "    print(len(gold_output))\n",
    "    # remove '\\n' from each line\n",
    "    gold_output = [line.strip() for line in gold_output]\n",
    "    # put in tokenized_input list the tokenized input of length 1\n",
    "    # tokenized_input = [(line.strip(), i) for i,line in enumerate(tokenized_input) if (len(line.strip())== 1 and line.strip() != '؟')]\n",
    "    # get the inde\n",
    "\n",
    "print(gold_output[:10])"
   ]
  },
  {
   "cell_type": "code",
   "execution_count": 42,
   "metadata": {},
   "outputs": [
    {
     "name": "stdout",
     "output_type": "stream",
     "text": [
      "2104308\n",
      "['قوله', 'أو', 'قطع', 'الأول', 'يده', 'إلخ', 'قال', 'الزركشي', 'ابن', 'عرفة']\n"
     ]
    }
   ],
   "source": [
    "print(len(tokenized_input))\n",
    "print(tokenized_input[:10])"
   ]
  },
  {
   "cell_type": "code",
   "execution_count": 43,
   "metadata": {},
   "outputs": [],
   "source": [
    "# Map each diacrtics to its unicode\n",
    "diacritics_mapping = {\n",
    "    'FATHA': '\\u064E',\n",
    "    'DAMMA': '\\u064F',\n",
    "    'KASRA': '\\u0650',\n",
    "    'SHADDA': '\\u0651',\n",
    "    'SUKUN': '\\u0652',\n",
    "    'FATHATAN': '\\u064B',\n",
    "    'DAMMATAN': '\\u064C',\n",
    "    'KASRATAN': '\\u064D'\n",
    "}"
   ]
  },
  {
   "cell_type": "code",
   "execution_count": 44,
   "metadata": {},
   "outputs": [],
   "source": [
    "# # Extract diacritics by returning a list containing a tuple of 3 elements: (letter, tashkeel, shadda)\n",
    "# def extract_arabic_diacritics(word):\n",
    "#     diacritics_list = []\n",
    "#     extracted_word, tashkeel, shadda = araby.separate(word, extract_shadda=True)\n",
    "#     for i in range(len(extracted_word)):\n",
    "#         print(f'{araby.name(extracted_word[i])} {araby.name(tashkeel[i])} {araby.name(shadda[i])}')\n",
    "#         diacritics_list.append((extracted_word[i], (tashkeel[i].encode(\"utf8\")).decode(), (shadda[i].encode(\"utf8\")).decode()))\n",
    "#     return diacritics_list"
   ]
  },
  {
   "cell_type": "code",
   "execution_count": 45,
   "metadata": {},
   "outputs": [],
   "source": [
    "# # firstly, initialize an empty dictionary for the 'prior' feature\n",
    "# # the value will be the 8 arabic marks (FATHA, DAMMA, KASRA, FATHATAN, DAMMATAN, KASRATAN, SUKUN, SHADDA) as a binary vector\n",
    "\n",
    "# # then, loop over the tokenized input and check if the each character and word pair is not in the dictionary, get the indices of this word and its duplicates in the tokenized input array\n",
    "# def get_prior(tokenized_input, gold_output):\n",
    "#     prior = {} # this dictionary will hold a key of tuple of 3 elements (word, character, index of character in the word) and the value will be the 8 arabic marks\n",
    "#     for i in range(len(tokenized_input)):\n",
    "#         if (tokenized_input[i], tokenized_input[i][0], 0) not in prior:\n",
    "#             # get the indices of the word in the tokenized input array\n",
    "#             indices = [j for j, x in enumerate(tokenized_input) if x == tokenized_input[i]]\n",
    "#             print(indices)\n",
    "#             # get the words in the gold_output array with the same indices\n",
    "#             words = [gold_output[j] for j in indices]\n",
    "#             extracted_diac_all_words = []\n",
    "#             for word in words:\n",
    "#                 extracted_diac_all_words.append(extract_arabic_diacritics(word))\n",
    "#             for indx, charac in enumerate(tokenized_input[i]):\n",
    "#                 for extracted_diac_per_word in extracted_diac_all_words:\n",
    "#                     # extract the diacritics of word[indx]\n",
    "#                     prior[(tokenized_input[i], charac, indx)] = [0, 0, 0, 0, 0, 0, 0, 0] # initialize the value of the key with zeros\n",
    "#                     if diacritics_mapping['SHADDA'] in extracted_diac_per_word[indx]:\n",
    "#                         prior[(tokenized_input[i], charac, indx)][4] = 1 if diacritics_mapping['FATHA'] in extracted_diac_per_word[indx] else 0\n",
    "#                         prior[(tokenized_input[i], charac, indx)][5] = 1 if diacritics_mapping['DAMMA'] in extracted_diac_per_word[indx] else 0\n",
    "#                         prior[(tokenized_input[i], charac, indx)][6] = 1 if diacritics_mapping['KASRA'] in extracted_diac_per_word[indx] else 0\n",
    "#                         prior[(tokenized_input[i], charac, indx)][7] = 1 if not  diacritics_mapping['FATHA'] in extracted_diac_per_word[indx] and not diacritics_mapping['DAMMA'] in word[indx: indx+2]  and not diacritics_mapping['KASRA'] in word[indx: indx+2] else 0\n",
    "#                     else:\n",
    "#                         prior[(tokenized_input[i], charac,indx)][0] = 1 if diacritics_mapping['FATHA'] in extracted_diac_per_word[indx] else 0\n",
    "#                         prior[(tokenized_input[i], charac,indx)][1] = 1 if diacritics_mapping['DAMMA'] in extracted_diac_per_word[indx] else 0\n",
    "#                         prior[(tokenized_input[i], charac,indx)][2] = 1 if diacritics_mapping['KASRA'] in extracted_diac_per_word[indx] else 0\n",
    "#                         prior[(tokenized_input[i], charac,indx)][3] = 1 if diacritics_mapping['SUKUN'] in extracted_diac_per_word[indx] else 0\n",
    "#     return prior"
   ]
  },
  {
   "cell_type": "code",
   "execution_count": 46,
   "metadata": {},
   "outputs": [
    {
     "name": "stdout",
     "output_type": "stream",
     "text": [
      "FATHA in tashkeel:  True\n",
      "DAMMA in tashkeel:  False\n",
      "KASRA in tashkeel:  False\n",
      "SUKUN in tashkeel:  True\n",
      "FATHATAN in tashkeel:  False\n",
      "DAMMATAN in tashkeel:  False\n",
      "KASRATAN in tashkeel:  False\n",
      "SHADDA in tashkeel:  False\n",
      "=============================\n",
      "FATHA in shadda:  False\n",
      "DAMMA in shadda:  False\n",
      "KASRA in shadda:  False\n",
      "SUKUN in shadda:  False\n",
      "FATHATAN in shadda:  False\n",
      "DAMMATAN in shadda:  False\n",
      "KASRATAN in shadda:  False\n",
      "SHADDA in shadda:  True\n",
      "testt False\n",
      "yarab False\n"
     ]
    }
   ],
   "source": [
    "letter, tashkeel, shadda = araby.separate('زَّ', extract_shadda=True)   # SHADDA + FATHA Example\n",
    "# letter, tashkeel, shadda = araby.separate('وَ', extract_shadda=True)   # FATHA Example\n",
    "# letter, tashkeel, shadda = araby.separate('مً', extract_shadda=True)   # FATHATAN Example\n",
    "# letter, tashkeel, shadda = araby.separate('عٌ', extract_shadda=True)   # DAMMATAN Example\n",
    "# letter, tashkeel, shadda = araby.separate('يُّ', extract_shadda=True)   # SHADDA + DAMMA Example\n",
    "# letter, tashkeel, shadda = araby.separate('ذْ', extract_shadda=True)   # SUKUN Example\n",
    "enkar = 'كَإِنْكَارِ'\n",
    "# print(enkar[4:6])\n",
    "# print( diacritics_mapping['FATHA'] in enkar[0:1])\n",
    "# print( diacritics_mapping['SHADDA'] in 'زَّ')\n",
    "# print( diacritics_mapping['DAMMA'] in 'زَّ')\n",
    "\n",
    "print('FATHA in tashkeel: ', diacritics_mapping['FATHA'] in tashkeel)\n",
    "print('DAMMA in tashkeel: ', diacritics_mapping['DAMMA'] in tashkeel)\n",
    "print('KASRA in tashkeel: ', diacritics_mapping['KASRA'] in tashkeel)\n",
    "print('SUKUN in tashkeel: ', diacritics_mapping['SUKUN'] in tashkeel)\n",
    "print('FATHATAN in tashkeel: ', diacritics_mapping['FATHATAN'] in tashkeel)\n",
    "print('DAMMATAN in tashkeel: ', diacritics_mapping['DAMMATAN'] in tashkeel)\n",
    "print('KASRATAN in tashkeel: ', diacritics_mapping['KASRATAN'] in tashkeel)\n",
    "print('SHADDA in tashkeel: ', diacritics_mapping['SHADDA'] in tashkeel)\n",
    "print('=============================')\n",
    "print('FATHA in shadda: ', diacritics_mapping['FATHA'] in shadda)\n",
    "print('DAMMA in shadda: ', diacritics_mapping['DAMMA'] in shadda)\n",
    "print('KASRA in shadda: ', diacritics_mapping['KASRA'] in shadda)\n",
    "print('SUKUN in shadda: ', diacritics_mapping['SUKUN'] in shadda)\n",
    "print('FATHATAN in shadda: ', diacritics_mapping['FATHATAN'] in shadda)\n",
    "print('DAMMATAN in shadda: ', diacritics_mapping['DAMMATAN'] in shadda)\n",
    "print('KASRATAN in shadda: ', diacritics_mapping['KASRATAN'] in shadda)\n",
    "print('SHADDA in shadda: ', diacritics_mapping['SHADDA'] in shadda)\n",
    "\n",
    "print('testt', (diacritics_mapping['SUKUN'] in tashkeel and diacritics_mapping['FATHA'] not in tashkeel and diacritics_mapping['DAMMA'] not in tashkeel and diacritics_mapping['KASRA'] not in tashkeel))\n",
    "print('yarab', (diacritics_mapping['SUKUN'] in tashkeel and diacritics_mapping['SHADDA'] not in shadda))"
   ]
  },
  {
   "cell_type": "code",
   "execution_count": 47,
   "metadata": {},
   "outputs": [],
   "source": [
    "# firstly, initialize an empty dictionary for the 'prior' feature\n",
    "# the value will be the 8 arabic marks (FATHA, DAMMA, KASRA, FATHATAN, DAMMATAN, KASRATAN, SUKUN, SHADDA) as a binary vector\n",
    "\n",
    "# then, loop over the tokenized input and check if the each character and word pair is not in the dictionary, get the indices of this word and its duplicates in the tokenized input array\n",
    "def get_prior(tokenized_input, gold_output):\n",
    "    prior = {}  # this dictionary will hold a key of tuple of 3 elements (word, character, index of character in the word) and the value will be the 8 arabic marks\n",
    "    for i in range(len(tokenized_input)):\n",
    "        if (tokenized_input[i], tokenized_input[i][0], 0) not in prior:\n",
    "            # get the indices of the word in the tokenized input array\n",
    "            indices = [j for j, x in enumerate(tokenized_input) if x == tokenized_input[i]]\n",
    "            # print(indices)\n",
    "            # get the words in the gold_output array with the same indices\n",
    "            words = []\n",
    "            maxi_len = 0\n",
    "            for j in indices:\n",
    "                if gold_output[j] not in words:\n",
    "                    words.append(gold_output[j])\n",
    "                    maxi_len = max(maxi_len, len(gold_output[j]))\n",
    "\n",
    "            for t in range(len(tokenized_input[i])):\n",
    "                prior[(tokenized_input[i], tokenized_input[i][t], t)] = [0, 0, 0, 0, 0, 0, 0, 0] # initialize the value of the key with zeros\n",
    "            \n",
    "            indx2 = 0\n",
    "            for word in words:\n",
    "                indx = 0\n",
    "                while indx < maxi_len:\n",
    "                    # extract the diacritics of word[indx]\n",
    "                    for iter in range(indx+1, len(word)):\n",
    "                        if is_not_arabic_diacritic(word[iter]):\n",
    "                            # print(iter)\n",
    "                            letter, tashkeel, shadda = araby.separate(word[indx: iter], extract_shadda=True) \n",
    "                            if diacritics_mapping['FATHA'] in tashkeel:         prior[(tokenized_input[i], word[indx], indx2)][0] = 1 \n",
    "                            if diacritics_mapping['DAMMA'] in tashkeel:         prior[(tokenized_input[i], word[indx], indx2)][1] = 1\n",
    "                            if diacritics_mapping['KASRA'] in tashkeel:         prior[(tokenized_input[i], word[indx], indx2)][2] = 1\n",
    "                            if diacritics_mapping['FATHATAN'] in tashkeel:      prior[(tokenized_input[i], word[indx], indx2)][3] = 1\n",
    "                            if diacritics_mapping['DAMMATAN'] in tashkeel:      prior[(tokenized_input[i], word[indx], indx2)][4] = 1\n",
    "                            if diacritics_mapping['KASRATAN'] in tashkeel:      prior[(tokenized_input[i], word[indx], indx2)][5] = 1\n",
    "                            if (diacritics_mapping['SUKUN'] in tashkeel and diacritics_mapping['SHADDA'] not in shadda):  \n",
    "                                prior[(tokenized_input[i], word[indx], indx2)][6] = 1 # if the letter has SHADDA, araby.separate() will return SUKUN in tashkeel and SHADDA in shadda, so to avoid this mislabeling we check if SHADDA not in shadda and if SUKUN in tashkeel, then this is a true SUKUN\n",
    "                            if diacritics_mapping['SHADDA'] in shadda:          prior[(tokenized_input[i], word[indx], indx2)][7] = 1\n",
    "                            indx = iter - 1\n",
    "                            indx2 += 1\n",
    "                            break \n",
    "                    indx += 1\n",
    "                indx2 = 0\n",
    "\n",
    "\n",
    "                indx = len(word) - 1    # my assumption is that the last character in the not a diacritic\n",
    "                if (not is_not_arabic_diacritic(word[len(word) - 1]) and is_not_arabic_diacritic(word[len(word) - 2])):  # if the last character is a diacritic and the one before it is not, then the index of the last character is len(word) - 2\n",
    "                    indx = len(word) - 2\n",
    "                elif (not is_not_arabic_diacritic(word[len(word) - 1]) and not is_not_arabic_diacritic(word[len(word) - 2])):  # if the last character is a diacritic and the one before it is also a diacritic (in shadda case), then the index of the last character is len(word) - 3\n",
    "                    indx = len(word) - 3\n",
    "\n",
    "\n",
    "                if (tokenized_input[i], word[indx], indx) not in prior:\n",
    "                    letter, tashkeel, shadda = araby.separate(word[indx: len(word)], extract_shadda=True) \n",
    "                    if diacritics_mapping['FATHA'] in tashkeel:         prior[(tokenized_input[i], word[indx], len(tokenized_input[i])-1)][0] = 1\n",
    "                    if diacritics_mapping['DAMMA'] in tashkeel:         prior[(tokenized_input[i], word[indx], len(tokenized_input[i])-1)][1] = 1\n",
    "                    if diacritics_mapping['KASRA'] in tashkeel:         prior[(tokenized_input[i], word[indx], len(tokenized_input[i])-1)][2] = 1 \n",
    "                    if diacritics_mapping['FATHATAN'] in tashkeel:      prior[(tokenized_input[i], word[indx], len(tokenized_input[i])-1)][3] = 1 \n",
    "                    if diacritics_mapping['DAMMATAN'] in tashkeel:      prior[(tokenized_input[i], word[indx], len(tokenized_input[i])-1)][4] = 1 \n",
    "                    if diacritics_mapping['KASRATAN'] in tashkeel:      prior[(tokenized_input[i], word[indx], len(tokenized_input[i])-1)][5] = 1\n",
    "                    if (diacritics_mapping['SUKUN'] in tashkeel and diacritics_mapping['SHADDA'] not in shadda):\n",
    "                        prior[(tokenized_input[i], word[indx], len(tokenized_input[i])-1)][6] = 1  # if the letter has SHADDA, araby.separate() will return SUKUN in tashkeel and SHADDA in shadda, so to avoid this mislabeling we check if SHADDA not in shadda and if SUKUN in tashkeel, then this is a true SUKUN\n",
    "                    if diacritics_mapping['SHADDA'] in shadda:          prior[(tokenized_input[i], word[indx], len(tokenized_input[i])-1)][7] = 1\n",
    "                    \n",
    "    return prior"
   ]
  },
  {
   "cell_type": "code",
   "execution_count": 48,
   "metadata": {},
   "outputs": [
    {
     "name": "stdout",
     "output_type": "stream",
     "text": [
      "{('كإنكار', 'ك', 0): [1, 0, 0, 0, 0, 0, 0, 0], ('كإنكار', 'إ', 1): [0, 0, 1, 0, 0, 0, 0, 0], ('كإنكار', 'ن', 2): [0, 0, 0, 0, 0, 0, 1, 0], ('كإنكار', 'ك', 3): [1, 0, 0, 0, 0, 0, 0, 0], ('كإنكار', 'ا', 4): [0, 0, 0, 0, 0, 0, 0, 0], ('كإنكار', 'ر', 5): [0, 0, 1, 0, 0, 1, 0, 0], ('بقذر', 'ب', 0): [0, 0, 1, 0, 0, 0, 0, 0], ('بقذر', 'ق', 1): [1, 0, 0, 0, 0, 0, 0, 0], ('بقذر', 'ذ', 2): [1, 0, 0, 0, 0, 0, 0, 0], ('بقذر', 'ر', 3): [0, 0, 0, 0, 0, 1, 0, 0], ('أكثر', 'أ', 0): [1, 0, 0, 0, 0, 0, 0, 0], ('أكثر', 'ك', 1): [0, 0, 0, 0, 0, 0, 1, 0], ('أكثر', 'ث', 2): [1, 0, 0, 0, 0, 0, 0, 0], ('أكثر', 'ر', 3): [1, 1, 0, 0, 0, 0, 0, 0], ('الزركشي', 'ا', 0): [0, 0, 0, 0, 0, 0, 0, 0], ('الزركشي', 'ل', 1): [0, 0, 0, 0, 0, 0, 0, 0], ('الزركشي', 'ز', 2): [1, 0, 0, 0, 0, 0, 0, 1], ('الزركشي', 'ر', 3): [0, 0, 0, 0, 0, 0, 1, 0], ('الزركشي', 'ك', 4): [1, 0, 0, 0, 0, 0, 0, 0], ('الزركشي', 'ش', 5): [0, 0, 1, 0, 0, 0, 0, 0], ('الزركشي', 'ي', 6): [0, 1, 0, 0, 0, 0, 0, 1]}\n"
     ]
    }
   ],
   "source": [
    "test_tokenized_input = ['كإنكار', 'كإنكار', 'بقذر','بقذر', 'أكثر', 'أكثر', 'الزركشي']\n",
    "test_gold_output = ['كَإِنْكَارِ','كَإِنْكَارٍ', 'بِقَذَر', 'بِقَذَرٍ','أكْثَرَ', 'أَكْثَرُ', 'الزَّرْكَشِيُّ']\n",
    "print (get_prior(test_tokenized_input, test_gold_output))"
   ]
  },
  {
   "cell_type": "code",
   "execution_count": 49,
   "metadata": {},
   "outputs": [],
   "source": [
    "# # DON'T RUN THIS CODE AGAIN, THIS CELL TOOK 276 minutes TO RUN\n",
    "# # write in a file the prior feature\n",
    "# prior_feature = get_prior(tokenized_input, gold_output)\n",
    "# with open('./generatedFiles/prior_feature.txt', 'w', encoding='utf-8') as file:\n",
    "#     for key, value in prior_feature.items():\n",
    "#         file.write(f'{key}: {value}\\n')"
   ]
  },
  {
   "cell_type": "code",
   "execution_count": 79,
   "metadata": {},
   "outputs": [
    {
     "name": "stdout",
     "output_type": "stream",
     "text": [
      "[1, 0, 0, 0, 0, 0, 0, 0]\n"
     ]
    }
   ],
   "source": [
    "# read the prior feature file in a dictionary called prior_feature \n",
    "prior_feature = {}\n",
    "with open('./generatedFiles/prior_feature.txt', 'r', encoding='utf-8') as file:\n",
    "    for line in file:\n",
    "        key, value = line.strip().split(':')\n",
    "        key = key.strip()\n",
    "        value = value.strip()\n",
    "        key = key[1:-1].split(',')\n",
    "        value = value[1:-1].split(',')\n",
    "        key = (key[0][1:-1], key[1][2:-1], int(key[2]))\n",
    "        value = [int(i) for i in value]\n",
    "        prior_feature[key] = value\n",
    "\n",
    "print(prior_feature[('قوله', 'ق', 0)])"
   ]
  },
  {
   "cell_type": "markdown",
   "metadata": {},
   "source": [
    "### 4 - CASE Feature: \n",
    "whether the letter expects a core word diacritic or a case ending. Case endings are placed on only one letter in a word, which may or may not be the last letter in the word. This is a binary feature."
   ]
  },
  {
   "cell_type": "code",
   "execution_count": 51,
   "metadata": {},
   "outputs": [
    {
     "name": "stderr",
     "output_type": "stream",
     "text": [
      "[2024-01-01 00:47:22,675 - farasapy_logger - WARNING]: Be careful with large lines as they may break on interactive mode. You may switch to Standalone mode for such cases.\n"
     ]
    },
    {
     "name": "stdout",
     "output_type": "stream",
     "text": [
      "Original text: الكتابة باللغة العربية\n",
      "Stemmed text: كتابة لغة عربي\n"
     ]
    }
   ],
   "source": [
    "from farasa.stemmer import FarasaStemmer\n",
    "\n",
    "def arabic_stemmer(text):\n",
    "    stemmer = FarasaStemmer(interactive=True)  # Set interactive to True for better performance\n",
    "\n",
    "    # Perform stemming\n",
    "    stemmed_text = stemmer.stem(text)\n",
    "\n",
    "    return stemmed_text\n",
    "\n",
    "# Example usage\n",
    "input_text = \"الكتابة باللغة العربية\"\n",
    "stemmed_text = arabic_stemmer(input_text)\n",
    "print(\"Original text:\", input_text)\n",
    "print(\"Stemmed text:\", stemmed_text)\n"
   ]
  },
  {
   "cell_type": "code",
   "execution_count": 52,
   "metadata": {},
   "outputs": [],
   "source": [
    "# for i in range(10):\n",
    "#     stemmed_text = arabic_stemmer(tokenized_input[i])\n",
    "#     print(\"Original text:\", tokenized_input[i])\n",
    "#     print(\"Stemmed text:\", stemmed_text)"
   ]
  },
  {
   "cell_type": "code",
   "execution_count": 53,
   "metadata": {},
   "outputs": [],
   "source": [
    "# for i in range(len(tokenized_input)):\n",
    "#     stemmed_text = arabic_stemmer(tokenized_input[i])\n",
    "#     # Write and append on the tokenized input to a file\n",
    "#     with open('./generatedFiles/stemmed_input.txt', 'a', encoding='utf-8') as file:\n",
    "#         file.write(stemmed_text + '\\n')\n",
    "        "
   ]
  },
  {
   "cell_type": "code",
   "execution_count": 54,
   "metadata": {},
   "outputs": [],
   "source": [
    "# stemmed_text = stemmed_text.split(' ')\n",
    "# # write in a file the stemmed input\n",
    "# with open('./generatedFiles/stemmed_input.txt', 'w', encoding='utf-8') as file:\n",
    "#     for word in stemmed_text:\n",
    "#         file.write(word + '\\n')\n"
   ]
  },
  {
   "cell_type": "markdown",
   "metadata": {},
   "source": [
    "## **Model Building**"
   ]
  },
  {
   "cell_type": "code",
   "execution_count": 155,
   "metadata": {},
   "outputs": [],
   "source": [
    "# THIS CELL TOOK 12 minutes TO RUN\n",
    "# input layer\n",
    "char_features_vector=[]\n",
    "tag_features_vector=[]\n",
    "prior_features_vector=[]\n",
    "embeddings = []\n",
    "# with open('./generatedFiles/i_j.txt', 'a', encoding='utf-8') as file:\n",
    "for i in range(len(tokenized_input)):\n",
    "    for j in range(len(tokenized_input[i])):    \n",
    "        # write i and j in a file\n",
    "        # file.write(f'{i} {j}\\n')\n",
    "        char_index = tokenizer_char.word_index.get(tokenized_input[i][j])\n",
    "        char_features_vector= char_embeddings[char_index]\n",
    "        if (len(tokenized_input[i]) != len(input_segments[i])):\n",
    "            input_segments[i] = \"S\" * (len(tokenized_input[i]) - len(input_segments[i])) + input_segments[i]\n",
    "        tag_index = tokenizer_tags.word_index.get(input_segments[i][j].lower())\n",
    "        tag_features_vector= tags_embeddings[tag_index]\n",
    "        prior_features_vector= prior_feature[(tokenized_input[i], tokenized_input[i][j], j)]\n",
    "        # pad the prior feature vector with zeros to have the same length as the other features\n",
    "        prior_features_vector = np.pad(prior_features_vector, (0, 42), 'constant')\n",
    "        # concatenate the 3 features vectors to have a matrix of 3 columns\n",
    "        # embeddings.append(np.vstack((char_features_vector, tag_features_vector, prior_features_vector)))\n",
    "        embeddings.append(np.concatenate((char_features_vector, tag_features_vector, prior_features_vector)))\n",
    "\n",
    "embeddings = np.array(embeddings)\n",
    "\n",
    "# print(char_features_vector)\n",
    "# print(tag_features_vector)\n",
    "# print(prior_features_vector)\n",
    "print(embeddings.shape)"
   ]
  },
  {
   "cell_type": "code",
   "execution_count": 61,
   "metadata": {},
   "outputs": [],
   "source": [
    "# save the embeddings in a pickle file\n",
    "with open('./generatedFiles/embeddings.pickle', 'wb') as file:\n",
    "    pickle.dump(embeddings, file)"
   ]
  },
  {
   "cell_type": "code",
   "execution_count": 3,
   "metadata": {},
   "outputs": [],
   "source": [
    "# read the embeddings from the pickle file\n",
    "with open('./generatedFiles/embeddings.pickle', 'rb') as file:\n",
    "    embeddings = pickle.load(file)"
   ]
  },
  {
   "cell_type": "code",
   "execution_count": 4,
   "metadata": {},
   "outputs": [],
   "source": [
    "output_map = {\n",
    "    (1, 0, 0, 0, 0, 0, 0, 0) : 0, # FATHA\n",
    "    (0, 0, 0, 1, 0, 0, 0, 0) : 1, # FATHATAN\n",
    "    (0, 0, 1, 0, 0, 0, 0, 0) : 2, # KASRA\n",
    "    (0, 0, 0, 0, 0, 1, 0, 0) : 3, # KASRATAN\n",
    "    (0, 1, 0, 0, 0, 0, 0, 0) : 4, # DAMMA\n",
    "    (0, 0, 0, 0, 1, 0, 0, 0) : 5, # DAMMATAN\n",
    "    (0, 0, 0, 0, 0, 0, 1, 0) : 6, # SUKUN\n",
    "    (0, 0, 0, 0, 0, 0, 0, 1) : 7,  # SHADDA\n",
    "    (1, 0, 0, 0, 0, 0, 0, 1) : 8, # SHADDA FATHA\n",
    "    (0, 0, 0, 1, 0, 0, 0, 1) : 9, # SHADDA FATHATAN\n",
    "    (0, 0, 1, 0, 0, 0, 0, 1) : 10, # SHADDA KASRA\n",
    "    (0, 0, 0, 0, 0, 1, 0, 1) : 11, # SHADDA KASRATAN\n",
    "    (0, 1, 0, 0, 0, 0, 0, 1) : 12, # SHADDA DAMMA\n",
    "    (0, 0, 0, 0, 1, 0, 0, 1) : 13, # SHADDA DAMMATAN\n",
    "    (0, 0, 0, 0, 0, 0, 0, 0) : 14\n",
    "}"
   ]
  },
  {
   "cell_type": "code",
   "execution_count": 5,
   "metadata": {},
   "outputs": [
    {
     "ename": "NameError",
     "evalue": "name 'gold_output' is not defined",
     "output_type": "error",
     "traceback": [
      "\u001b[1;31m---------------------------------------------------------------------------\u001b[0m",
      "\u001b[1;31mNameError\u001b[0m                                 Traceback (most recent call last)",
      "Cell \u001b[1;32mIn[5], line 3\u001b[0m\n\u001b[0;32m      1\u001b[0m \u001b[38;5;66;03m# gold labels\u001b[39;00m\n\u001b[0;32m      2\u001b[0m \u001b[38;5;28;01mwith\u001b[39;00m \u001b[38;5;28mopen\u001b[39m(\u001b[38;5;124m'\u001b[39m\u001b[38;5;124m./generatedFiles/gold_output_dict.txt\u001b[39m\u001b[38;5;124m'\u001b[39m, \u001b[38;5;124m'\u001b[39m\u001b[38;5;124mw\u001b[39m\u001b[38;5;124m'\u001b[39m, encoding\u001b[38;5;241m=\u001b[39m\u001b[38;5;124m'\u001b[39m\u001b[38;5;124mutf-8\u001b[39m\u001b[38;5;124m'\u001b[39m) \u001b[38;5;28;01mas\u001b[39;00m file:\n\u001b[1;32m----> 3\u001b[0m     \u001b[38;5;28;01mfor\u001b[39;00m idx, word \u001b[38;5;129;01min\u001b[39;00m \u001b[38;5;28menumerate\u001b[39m(gold_output):\n\u001b[0;32m      4\u001b[0m         gold_diacritics \u001b[38;5;241m=\u001b[39m get_prior([tokenized_input[idx]], [word])\n\u001b[0;32m      5\u001b[0m         \u001b[38;5;28;01mfor\u001b[39;00m key, value \u001b[38;5;129;01min\u001b[39;00m gold_diacritics\u001b[38;5;241m.\u001b[39mitems():\n",
      "\u001b[1;31mNameError\u001b[0m: name 'gold_output' is not defined"
     ]
    }
   ],
   "source": [
    "# gold labels\n",
    "with open('./generatedFiles/gold_output_dict.txt', 'w', encoding='utf-8') as file:\n",
    "    for idx, word in enumerate(gold_output):\n",
    "        gold_diacritics = get_prior([tokenized_input[idx]], [word])\n",
    "        for key, value in gold_diacritics.items():\n",
    "            key = key + (idx,)\n",
    "            file.write(f'{key}: {value}\\n')"
   ]
  },
  {
   "cell_type": "code",
   "execution_count": null,
   "metadata": {},
   "outputs": [],
   "source": [
    "# read the prior feature file in a dictionary called prior_feature \n",
    "gold_output_dict = {}\n",
    "with open('./generatedFiles/gold_output_dict.txt', 'r', encoding='utf-8') as file:\n",
    "    for line in file:\n",
    "        key, value = line.strip().split(':')\n",
    "        key = key.strip()\n",
    "        value = value.strip()\n",
    "        key = key[1:-1].split(',')\n",
    "        value = value[1:-1].split(',')\n",
    "        key = (key[0][1:-1], key[1][2:-1], int(key[2]), int(key[3]))\n",
    "        value = [int(i) for i in value]\n",
    "        gold_output_dict[key] = value"
   ]
  },
  {
   "cell_type": "code",
   "execution_count": null,
   "metadata": {},
   "outputs": [
    {
     "data": {
      "text/plain": [
       "[1, 0, 0, 0, 0, 0, 0, 0]"
      ]
     },
     "execution_count": 66,
     "metadata": {},
     "output_type": "execute_result"
    }
   ],
   "source": [
    "gold_output_dict[('قوله', 'ق', 0, 0)]"
   ]
  },
  {
   "cell_type": "code",
   "execution_count": null,
   "metadata": {},
   "outputs": [],
   "source": [
    "# Change gold_output_dict.values() to a list of tuples\n",
    "for key, value in gold_output_dict.items():\n",
    "    gold_output_dict[key] = tuple(value)\n",
    "    \n",
    "gold_output_dict_values = list(gold_output_dict.values())"
   ]
  },
  {
   "cell_type": "code",
   "execution_count": 68,
   "metadata": {},
   "outputs": [],
   "source": [
    "with open('./generatedFiles/gold_output_id.txt', 'w', encoding='utf-8') as file:\n",
    "    for value in gold_output_dict_values:\n",
    "        file.write(f'{output_map[value]}\\n')"
   ]
  },
  {
   "cell_type": "code",
   "execution_count": 27,
   "metadata": {},
   "outputs": [],
   "source": [
    "# read the gold_output_id file\n",
    "with open('./generatedFiles/gold_output_id.txt', 'r', encoding='utf-8') as file:\n",
    "    gold_output_id = file.readlines()\n",
    "    gold_output_id = [line.strip() for line in gold_output_id]\n",
    "\n",
    "gold_output_id = np.array(gold_output_id)"
   ]
  },
  {
   "cell_type": "code",
   "execution_count": 28,
   "metadata": {},
   "outputs": [
    {
     "name": "stdout",
     "output_type": "stream",
     "text": [
      "(8353805,)\n",
      "['0' '6' '4' '4' '0' '6' '0' '0' '0' '14']\n"
     ]
    }
   ],
   "source": [
    "print(gold_output_id.shape)\n",
    "print(gold_output_id[:10])"
   ]
  },
  {
   "cell_type": "code",
   "execution_count": 29,
   "metadata": {},
   "outputs": [
    {
     "name": "stdout",
     "output_type": "stream",
     "text": [
      "8353805\n"
     ]
    }
   ],
   "source": [
    "print(len(embeddings))"
   ]
  },
  {
   "cell_type": "code",
   "execution_count": 30,
   "metadata": {},
   "outputs": [],
   "source": [
    "# Truncate emdeddings to have the 8353000\n",
    "embeddings_reshape = embeddings[:835300]\n",
    "gold_output_id = gold_output_id[:835300]\n",
    "\n",
    "# Make it np array \n",
    "embeddings_reshape = np.array(embeddings_reshape)\n",
    "gold_output_id = np.array(gold_output_id)\n"
   ]
  },
  {
   "cell_type": "code",
   "execution_count": 31,
   "metadata": {},
   "outputs": [
    {
     "name": "stdout",
     "output_type": "stream",
     "text": [
      "(835300, 150)\n",
      "(835300,)\n"
     ]
    }
   ],
   "source": [
    "print (embeddings_reshape.shape)\n",
    "print (gold_output_id.shape)"
   ]
  },
  {
   "cell_type": "code",
   "execution_count": 32,
   "metadata": {},
   "outputs": [],
   "source": [
    "# Reshape embeddings to have 3 dimensions \n",
    "embeddings_reshape = embeddings_reshape.reshape((-1, 100, 150))\n",
    "gold_output_id_reshape = gold_output_id.reshape(-1, 100, 1)"
   ]
  },
  {
   "cell_type": "code",
   "execution_count": 37,
   "metadata": {},
   "outputs": [
    {
     "name": "stdout",
     "output_type": "stream",
     "text": [
      "(8353, 100, 150)\n",
      "(8353, 100, 1)\n",
      "[['0']\n",
      " ['6']\n",
      " ['4']\n",
      " ['4']\n",
      " ['0']\n",
      " ['6']\n",
      " ['0']\n",
      " ['0']\n",
      " ['0']\n",
      " ['14']\n",
      " ['6']\n",
      " ['0']\n",
      " ['8']\n",
      " ['4']\n",
      " ['0']\n",
      " ['0']\n",
      " ['4']\n",
      " ['14']\n",
      " ['0']\n",
      " ['6']\n",
      " ['0']\n",
      " ['14']\n",
      " ['0']\n",
      " ['14']\n",
      " ['14']\n",
      " ['8']\n",
      " ['6']\n",
      " ['0']\n",
      " ['2']\n",
      " ['12']\n",
      " ['14']\n",
      " ['6']\n",
      " ['4']\n",
      " ['0']\n",
      " ['0']\n",
      " ['0']\n",
      " ['0']\n",
      " ['0']\n",
      " ['6']\n",
      " ['4']\n",
      " ['4']\n",
      " ['2']\n",
      " ['0']\n",
      " ['6']\n",
      " ['3']\n",
      " ['0']\n",
      " ['6']\n",
      " ['0']\n",
      " ['2']\n",
      " ['14']\n",
      " ['14']\n",
      " ['0']\n",
      " ['2']\n",
      " ['6']\n",
      " ['0']\n",
      " ['14']\n",
      " ['2']\n",
      " ['0']\n",
      " ['6']\n",
      " ['2']\n",
      " ['0']\n",
      " ['2']\n",
      " ['14']\n",
      " ['3']\n",
      " ['2']\n",
      " ['14']\n",
      " ['6']\n",
      " ['2']\n",
      " ['6']\n",
      " ['0']\n",
      " ['14']\n",
      " ['2']\n",
      " ['4']\n",
      " ['4']\n",
      " ['14']\n",
      " ['0']\n",
      " ['0']\n",
      " ['14']\n",
      " ['4']\n",
      " ['2']\n",
      " ['0']\n",
      " ['4']\n",
      " ['4']\n",
      " ['14']\n",
      " ['4']\n",
      " ['4']\n",
      " ['2']\n",
      " ['6']\n",
      " ['14']\n",
      " ['14']\n",
      " ['10']\n",
      " ['14']\n",
      " ['2']\n",
      " ['0']\n",
      " ['4']\n",
      " ['14']\n",
      " ['0']\n",
      " ['1']\n",
      " ['0']\n",
      " ['2']]\n",
      "[[1. 0. 0. ... 0. 0. 0.]\n",
      " [0. 0. 0. ... 0. 0. 0.]\n",
      " [0. 0. 0. ... 0. 0. 0.]\n",
      " ...\n",
      " [0. 1. 0. ... 0. 0. 0.]\n",
      " [1. 0. 0. ... 0. 0. 0.]\n",
      " [0. 0. 1. ... 0. 0. 0.]]\n"
     ]
    }
   ],
   "source": [
    "import tensorflow as tf\n",
    "# Print Shap\n",
    "#e\n",
    "print(embeddings_reshape.shape)\n",
    "print(gold_output_id_reshape.shape)\n",
    "\n",
    "# print the first 10 rows of the embeddings\n",
    "# print(embeddings[:10])\n",
    "\n",
    "# print the first 10 rows of the gold_output_id\n",
    "print(gold_output_id_reshape[:][0])\n",
    "\n",
    "# print the first 10 columns of the gold_output_id\n",
    "print(tf.keras.utils.to_categorical(gold_output_id_reshape[:][0]))"
   ]
  },
  {
   "cell_type": "code",
   "execution_count": 34,
   "metadata": {},
   "outputs": [
    {
     "name": "stdout",
     "output_type": "stream",
     "text": [
      "Model: \"sequential\"\n",
      "_________________________________________________________________\n",
      " Layer (type)                Output Shape              Param #   \n",
      "=================================================================\n",
      " bidirectional (Bidirection  (None, 100, 100)          80400     \n",
      " al)                                                             \n",
      "                                                                 \n",
      " time_distributed (TimeDist  (None, 100, 100)          10100     \n",
      " ributed)                                                        \n",
      "                                                                 \n",
      " time_distributed_1 (TimeDi  (None, 100, 15)           1515      \n",
      " stributed)                                                      \n",
      "                                                                 \n",
      "=================================================================\n",
      "Total params: 92015 (359.43 KB)\n",
      "Trainable params: 92015 (359.43 KB)\n",
      "Non-trainable params: 0 (0.00 Byte)\n",
      "_________________________________________________________________\n",
      "None\n"
     ]
    }
   ],
   "source": [
    "# build a training model, first we need input layer that take matrix \"embeddings\" as an input with dropout of 10%\n",
    "# then we need a bidirectional LSTM layer with 100 units\n",
    "# then we need a dense layer with 100 units and relu activation function\n",
    "# then we need an output layer with 14 units and softmax activation function\n",
    "# use early stopping with patience of five epochs, a learning rate of 0.001, a batch size of 256, and an Adamax optimizer\n",
    "\n",
    "# define the model\n",
    "import tensorflow as tf\n",
    "from tensorflow.keras.models import Sequential\n",
    "from tensorflow.keras.layers import Embedding, Bidirectional, LSTM, Dense, Dropout, TimeDistributed\n",
    "from tensorflow.keras.optimizers import Adamax\n",
    "from tensorflow.keras.callbacks import EarlyStopping\n",
    "from tensorflow.keras.activations import relu,linear\n",
    "\n",
    "input_shape = (100, 150)\n",
    "    # tf.keras.layers.Input(shape=150),\n",
    "    # Dropout(0.1),\n",
    "    # Bidirectional(LSTM(100)),\n",
    "    # Dense(100, activation='relu'),\n",
    "    # Dense(14, activation='softmax')\n",
    "\n",
    "model = Sequential()\n",
    "model.add(Bidirectional(LSTM(50, return_sequences=True), input_shape=input_shape))\n",
    "model.add(TimeDistributed(Dense(100, activation='relu')))\n",
    "model.add(TimeDistributed(Dense(15, activation='softmax')))\n",
    "\n",
    "# model = Sequential()\n",
    "# forward_layer = LSTM(50)\n",
    "# backward_layer = LSTM(50, activation='relu', go_backwards=True)\n",
    "# model.add(Bidirectional(forward_layer, backward_layer=backward_layer, input_shape=(1,150)))\n",
    "# # model.add(Dropout(0.1))\n",
    "# model.add(Dense(100, activation='relu'))\n",
    "# model.add(Dense(14, activation='softmax'))\n",
    "\n",
    "\n",
    "# compile the model\n",
    "model.compile(optimizer=Adamax(learning_rate=0.001), loss='categorical_crossentropy', metrics=['accuracy'])\n",
    "\n",
    "# model.build(reshaped_matrix.shape)\n",
    "# summarize the model\n",
    "print(model.summary())\n",
    "\n",
    "# early stopping\n",
    "# early_stopping = EarlyStopping(monitor='val_accuracy', patience=5)"
   ]
  },
  {
   "cell_type": "code",
   "execution_count": 39,
   "metadata": {},
   "outputs": [],
   "source": [
    "labels = []\n",
    "for i in range(len(gold_output_id_reshape)):\n",
    "    for j in range(100):\n",
    "        labels.append( tf.keras.utils.to_categorical(gold_output_id_reshape[i][j], num_classes=15))\n",
    "        \n",
    "labels = np.array(labels)"
   ]
  },
  {
   "cell_type": "code",
   "execution_count": 40,
   "metadata": {},
   "outputs": [
    {
     "name": "stdout",
     "output_type": "stream",
     "text": [
      "(8353, 100, 15)\n"
     ]
    }
   ],
   "source": [
    "labels = labels.reshape(-1, 100, 15)\n",
    "print(labels.shape)"
   ]
  },
  {
   "cell_type": "code",
   "execution_count": 42,
   "metadata": {},
   "outputs": [
    {
     "name": "stdout",
     "output_type": "stream",
     "text": [
      "Epoch 1/100\n",
      "33/33 [==============================] - 7s 196ms/step - loss: 0.7311 - accuracy: 0.7865\n",
      "Epoch 2/100\n",
      "33/33 [==============================] - 6s 197ms/step - loss: 0.6149 - accuracy: 0.8109\n",
      "Epoch 3/100\n",
      "33/33 [==============================] - 6s 193ms/step - loss: 0.5318 - accuracy: 0.8276\n",
      "Epoch 4/100\n",
      "33/33 [==============================] - 6s 192ms/step - loss: 0.4743 - accuracy: 0.8408\n",
      "Epoch 5/100\n",
      "33/33 [==============================] - 6s 195ms/step - loss: 0.4335 - accuracy: 0.8479\n",
      "Epoch 6/100\n",
      "33/33 [==============================] - 6s 194ms/step - loss: 0.4033 - accuracy: 0.8548\n",
      "Epoch 7/100\n",
      "33/33 [==============================] - 6s 193ms/step - loss: 0.3798 - accuracy: 0.8623\n",
      "Epoch 8/100\n",
      "33/33 [==============================] - 6s 194ms/step - loss: 0.3610 - accuracy: 0.8681\n",
      "Epoch 9/100\n",
      "33/33 [==============================] - 6s 197ms/step - loss: 0.3455 - accuracy: 0.8724\n",
      "Epoch 10/100\n",
      "33/33 [==============================] - 7s 204ms/step - loss: 0.3326 - accuracy: 0.8758\n",
      "Epoch 11/100\n",
      "33/33 [==============================] - 7s 204ms/step - loss: 0.3214 - accuracy: 0.8794\n",
      "Epoch 12/100\n",
      "33/33 [==============================] - 7s 207ms/step - loss: 0.3123 - accuracy: 0.8821\n",
      "Epoch 13/100\n",
      "33/33 [==============================] - 7s 200ms/step - loss: 0.3040 - accuracy: 0.8847\n",
      "Epoch 14/100\n",
      "33/33 [==============================] - 7s 199ms/step - loss: 0.2968 - accuracy: 0.8871\n",
      "Epoch 15/100\n",
      "33/33 [==============================] - 7s 203ms/step - loss: 0.2907 - accuracy: 0.8888\n",
      "Epoch 16/100\n",
      "33/33 [==============================] - 7s 200ms/step - loss: 0.2849 - accuracy: 0.8905\n",
      "Epoch 17/100\n",
      "33/33 [==============================] - 7s 200ms/step - loss: 0.2795 - accuracy: 0.8924\n",
      "Epoch 18/100\n",
      "33/33 [==============================] - 7s 200ms/step - loss: 0.2751 - accuracy: 0.8939\n",
      "Epoch 19/100\n",
      "13/33 [==========>...................] - ETA: 3s - loss: 0.2723 - accuracy: 0.8943"
     ]
    },
    {
     "ename": "KeyboardInterrupt",
     "evalue": "",
     "output_type": "error",
     "traceback": [
      "\u001b[1;31m---------------------------------------------------------------------------\u001b[0m",
      "\u001b[1;31mKeyboardInterrupt\u001b[0m                         Traceback (most recent call last)",
      "Cell \u001b[1;32mIn[42], line 8\u001b[0m\n\u001b[0;32m      1\u001b[0m \u001b[38;5;66;03m# fit the model on the training dataset and evaluate it on the validation dataset,\u001b[39;00m\n\u001b[0;32m      2\u001b[0m \u001b[38;5;66;03m# use early stopping with patience of five epochs, a learning rate of 0.001, a batch size of 256\u001b[39;00m\n\u001b[0;32m      3\u001b[0m \u001b[38;5;66;03m# before that, configure the model to use GPU\u001b[39;00m\n\u001b[0;32m      4\u001b[0m \n\u001b[0;32m      5\u001b[0m \u001b[38;5;66;03m# fit the model with gpu\u001b[39;00m\n\u001b[0;32m      7\u001b[0m \u001b[38;5;28;01mwith\u001b[39;00m tf\u001b[38;5;241m.\u001b[39mdevice(\u001b[38;5;124m'\u001b[39m\u001b[38;5;124m/GPU:0\u001b[39m\u001b[38;5;124m'\u001b[39m):\n\u001b[1;32m----> 8\u001b[0m     model\u001b[38;5;241m.\u001b[39mfit(embeddings_reshape, labels, epochs\u001b[38;5;241m=\u001b[39m\u001b[38;5;241m100\u001b[39m, batch_size\u001b[38;5;241m=\u001b[39m\u001b[38;5;241m256\u001b[39m)\n",
      "File \u001b[1;32mc:\\ProgramData\\anaconda3\\Lib\\site-packages\\keras\\src\\utils\\traceback_utils.py:65\u001b[0m, in \u001b[0;36mfilter_traceback.<locals>.error_handler\u001b[1;34m(*args, **kwargs)\u001b[0m\n\u001b[0;32m     63\u001b[0m filtered_tb \u001b[38;5;241m=\u001b[39m \u001b[38;5;28;01mNone\u001b[39;00m\n\u001b[0;32m     64\u001b[0m \u001b[38;5;28;01mtry\u001b[39;00m:\n\u001b[1;32m---> 65\u001b[0m     \u001b[38;5;28;01mreturn\u001b[39;00m fn(\u001b[38;5;241m*\u001b[39margs, \u001b[38;5;241m*\u001b[39m\u001b[38;5;241m*\u001b[39mkwargs)\n\u001b[0;32m     66\u001b[0m \u001b[38;5;28;01mexcept\u001b[39;00m \u001b[38;5;167;01mException\u001b[39;00m \u001b[38;5;28;01mas\u001b[39;00m e:\n\u001b[0;32m     67\u001b[0m     filtered_tb \u001b[38;5;241m=\u001b[39m _process_traceback_frames(e\u001b[38;5;241m.\u001b[39m__traceback__)\n",
      "File \u001b[1;32mc:\\ProgramData\\anaconda3\\Lib\\site-packages\\keras\\src\\engine\\training.py:1742\u001b[0m, in \u001b[0;36mModel.fit\u001b[1;34m(self, x, y, batch_size, epochs, verbose, callbacks, validation_split, validation_data, shuffle, class_weight, sample_weight, initial_epoch, steps_per_epoch, validation_steps, validation_batch_size, validation_freq, max_queue_size, workers, use_multiprocessing)\u001b[0m\n\u001b[0;32m   1734\u001b[0m \u001b[38;5;28;01mwith\u001b[39;00m tf\u001b[38;5;241m.\u001b[39mprofiler\u001b[38;5;241m.\u001b[39mexperimental\u001b[38;5;241m.\u001b[39mTrace(\n\u001b[0;32m   1735\u001b[0m     \u001b[38;5;124m\"\u001b[39m\u001b[38;5;124mtrain\u001b[39m\u001b[38;5;124m\"\u001b[39m,\n\u001b[0;32m   1736\u001b[0m     epoch_num\u001b[38;5;241m=\u001b[39mepoch,\n\u001b[1;32m   (...)\u001b[0m\n\u001b[0;32m   1739\u001b[0m     _r\u001b[38;5;241m=\u001b[39m\u001b[38;5;241m1\u001b[39m,\n\u001b[0;32m   1740\u001b[0m ):\n\u001b[0;32m   1741\u001b[0m     callbacks\u001b[38;5;241m.\u001b[39mon_train_batch_begin(step)\n\u001b[1;32m-> 1742\u001b[0m     tmp_logs \u001b[38;5;241m=\u001b[39m \u001b[38;5;28mself\u001b[39m\u001b[38;5;241m.\u001b[39mtrain_function(iterator)\n\u001b[0;32m   1743\u001b[0m     \u001b[38;5;28;01mif\u001b[39;00m data_handler\u001b[38;5;241m.\u001b[39mshould_sync:\n\u001b[0;32m   1744\u001b[0m         context\u001b[38;5;241m.\u001b[39masync_wait()\n",
      "File \u001b[1;32mc:\\ProgramData\\anaconda3\\Lib\\site-packages\\tensorflow\\python\\util\\traceback_utils.py:150\u001b[0m, in \u001b[0;36mfilter_traceback.<locals>.error_handler\u001b[1;34m(*args, **kwargs)\u001b[0m\n\u001b[0;32m    148\u001b[0m filtered_tb \u001b[38;5;241m=\u001b[39m \u001b[38;5;28;01mNone\u001b[39;00m\n\u001b[0;32m    149\u001b[0m \u001b[38;5;28;01mtry\u001b[39;00m:\n\u001b[1;32m--> 150\u001b[0m   \u001b[38;5;28;01mreturn\u001b[39;00m fn(\u001b[38;5;241m*\u001b[39margs, \u001b[38;5;241m*\u001b[39m\u001b[38;5;241m*\u001b[39mkwargs)\n\u001b[0;32m    151\u001b[0m \u001b[38;5;28;01mexcept\u001b[39;00m \u001b[38;5;167;01mException\u001b[39;00m \u001b[38;5;28;01mas\u001b[39;00m e:\n\u001b[0;32m    152\u001b[0m   filtered_tb \u001b[38;5;241m=\u001b[39m _process_traceback_frames(e\u001b[38;5;241m.\u001b[39m__traceback__)\n",
      "File \u001b[1;32mc:\\ProgramData\\anaconda3\\Lib\\site-packages\\tensorflow\\python\\eager\\polymorphic_function\\polymorphic_function.py:825\u001b[0m, in \u001b[0;36mFunction.__call__\u001b[1;34m(self, *args, **kwds)\u001b[0m\n\u001b[0;32m    822\u001b[0m compiler \u001b[38;5;241m=\u001b[39m \u001b[38;5;124m\"\u001b[39m\u001b[38;5;124mxla\u001b[39m\u001b[38;5;124m\"\u001b[39m \u001b[38;5;28;01mif\u001b[39;00m \u001b[38;5;28mself\u001b[39m\u001b[38;5;241m.\u001b[39m_jit_compile \u001b[38;5;28;01melse\u001b[39;00m \u001b[38;5;124m\"\u001b[39m\u001b[38;5;124mnonXla\u001b[39m\u001b[38;5;124m\"\u001b[39m\n\u001b[0;32m    824\u001b[0m \u001b[38;5;28;01mwith\u001b[39;00m OptionalXlaContext(\u001b[38;5;28mself\u001b[39m\u001b[38;5;241m.\u001b[39m_jit_compile):\n\u001b[1;32m--> 825\u001b[0m   result \u001b[38;5;241m=\u001b[39m \u001b[38;5;28mself\u001b[39m\u001b[38;5;241m.\u001b[39m_call(\u001b[38;5;241m*\u001b[39margs, \u001b[38;5;241m*\u001b[39m\u001b[38;5;241m*\u001b[39mkwds)\n\u001b[0;32m    827\u001b[0m new_tracing_count \u001b[38;5;241m=\u001b[39m \u001b[38;5;28mself\u001b[39m\u001b[38;5;241m.\u001b[39mexperimental_get_tracing_count()\n\u001b[0;32m    828\u001b[0m without_tracing \u001b[38;5;241m=\u001b[39m (tracing_count \u001b[38;5;241m==\u001b[39m new_tracing_count)\n",
      "File \u001b[1;32mc:\\ProgramData\\anaconda3\\Lib\\site-packages\\tensorflow\\python\\eager\\polymorphic_function\\polymorphic_function.py:857\u001b[0m, in \u001b[0;36mFunction._call\u001b[1;34m(self, *args, **kwds)\u001b[0m\n\u001b[0;32m    854\u001b[0m   \u001b[38;5;28mself\u001b[39m\u001b[38;5;241m.\u001b[39m_lock\u001b[38;5;241m.\u001b[39mrelease()\n\u001b[0;32m    855\u001b[0m   \u001b[38;5;66;03m# In this case we have created variables on the first call, so we run the\u001b[39;00m\n\u001b[0;32m    856\u001b[0m   \u001b[38;5;66;03m# defunned version which is guaranteed to never create variables.\u001b[39;00m\n\u001b[1;32m--> 857\u001b[0m   \u001b[38;5;28;01mreturn\u001b[39;00m \u001b[38;5;28mself\u001b[39m\u001b[38;5;241m.\u001b[39m_no_variable_creation_fn(\u001b[38;5;241m*\u001b[39margs, \u001b[38;5;241m*\u001b[39m\u001b[38;5;241m*\u001b[39mkwds)  \u001b[38;5;66;03m# pylint: disable=not-callable\u001b[39;00m\n\u001b[0;32m    858\u001b[0m \u001b[38;5;28;01melif\u001b[39;00m \u001b[38;5;28mself\u001b[39m\u001b[38;5;241m.\u001b[39m_variable_creation_fn \u001b[38;5;129;01mis\u001b[39;00m \u001b[38;5;129;01mnot\u001b[39;00m \u001b[38;5;28;01mNone\u001b[39;00m:\n\u001b[0;32m    859\u001b[0m   \u001b[38;5;66;03m# Release the lock early so that multiple threads can perform the call\u001b[39;00m\n\u001b[0;32m    860\u001b[0m   \u001b[38;5;66;03m# in parallel.\u001b[39;00m\n\u001b[0;32m    861\u001b[0m   \u001b[38;5;28mself\u001b[39m\u001b[38;5;241m.\u001b[39m_lock\u001b[38;5;241m.\u001b[39mrelease()\n",
      "File \u001b[1;32mc:\\ProgramData\\anaconda3\\Lib\\site-packages\\tensorflow\\python\\eager\\polymorphic_function\\tracing_compiler.py:148\u001b[0m, in \u001b[0;36mTracingCompiler.__call__\u001b[1;34m(self, *args, **kwargs)\u001b[0m\n\u001b[0;32m    145\u001b[0m \u001b[38;5;28;01mwith\u001b[39;00m \u001b[38;5;28mself\u001b[39m\u001b[38;5;241m.\u001b[39m_lock:\n\u001b[0;32m    146\u001b[0m   (concrete_function,\n\u001b[0;32m    147\u001b[0m    filtered_flat_args) \u001b[38;5;241m=\u001b[39m \u001b[38;5;28mself\u001b[39m\u001b[38;5;241m.\u001b[39m_maybe_define_function(args, kwargs)\n\u001b[1;32m--> 148\u001b[0m \u001b[38;5;28;01mreturn\u001b[39;00m concrete_function\u001b[38;5;241m.\u001b[39m_call_flat(\n\u001b[0;32m    149\u001b[0m     filtered_flat_args, captured_inputs\u001b[38;5;241m=\u001b[39mconcrete_function\u001b[38;5;241m.\u001b[39mcaptured_inputs)\n",
      "File \u001b[1;32mc:\\ProgramData\\anaconda3\\Lib\\site-packages\\tensorflow\\python\\eager\\polymorphic_function\\monomorphic_function.py:1349\u001b[0m, in \u001b[0;36mConcreteFunction._call_flat\u001b[1;34m(self, args, captured_inputs)\u001b[0m\n\u001b[0;32m   1345\u001b[0m possible_gradient_type \u001b[38;5;241m=\u001b[39m gradients_util\u001b[38;5;241m.\u001b[39mPossibleTapeGradientTypes(args)\n\u001b[0;32m   1346\u001b[0m \u001b[38;5;28;01mif\u001b[39;00m (possible_gradient_type \u001b[38;5;241m==\u001b[39m gradients_util\u001b[38;5;241m.\u001b[39mPOSSIBLE_GRADIENT_TYPES_NONE\n\u001b[0;32m   1347\u001b[0m     \u001b[38;5;129;01mand\u001b[39;00m executing_eagerly):\n\u001b[0;32m   1348\u001b[0m   \u001b[38;5;66;03m# No tape is watching; skip to running the function.\u001b[39;00m\n\u001b[1;32m-> 1349\u001b[0m   \u001b[38;5;28;01mreturn\u001b[39;00m \u001b[38;5;28mself\u001b[39m\u001b[38;5;241m.\u001b[39m_build_call_outputs(\u001b[38;5;28mself\u001b[39m\u001b[38;5;241m.\u001b[39m_inference_function(\u001b[38;5;241m*\u001b[39margs))\n\u001b[0;32m   1350\u001b[0m forward_backward \u001b[38;5;241m=\u001b[39m \u001b[38;5;28mself\u001b[39m\u001b[38;5;241m.\u001b[39m_select_forward_and_backward_functions(\n\u001b[0;32m   1351\u001b[0m     args,\n\u001b[0;32m   1352\u001b[0m     possible_gradient_type,\n\u001b[0;32m   1353\u001b[0m     executing_eagerly)\n\u001b[0;32m   1354\u001b[0m forward_function, args_with_tangents \u001b[38;5;241m=\u001b[39m forward_backward\u001b[38;5;241m.\u001b[39mforward()\n",
      "File \u001b[1;32mc:\\ProgramData\\anaconda3\\Lib\\site-packages\\tensorflow\\python\\eager\\polymorphic_function\\atomic_function.py:196\u001b[0m, in \u001b[0;36mAtomicFunction.__call__\u001b[1;34m(self, *args)\u001b[0m\n\u001b[0;32m    194\u001b[0m \u001b[38;5;28;01mwith\u001b[39;00m record\u001b[38;5;241m.\u001b[39mstop_recording():\n\u001b[0;32m    195\u001b[0m   \u001b[38;5;28;01mif\u001b[39;00m \u001b[38;5;28mself\u001b[39m\u001b[38;5;241m.\u001b[39m_bound_context\u001b[38;5;241m.\u001b[39mexecuting_eagerly():\n\u001b[1;32m--> 196\u001b[0m     outputs \u001b[38;5;241m=\u001b[39m \u001b[38;5;28mself\u001b[39m\u001b[38;5;241m.\u001b[39m_bound_context\u001b[38;5;241m.\u001b[39mcall_function(\n\u001b[0;32m    197\u001b[0m         \u001b[38;5;28mself\u001b[39m\u001b[38;5;241m.\u001b[39mname,\n\u001b[0;32m    198\u001b[0m         \u001b[38;5;28mlist\u001b[39m(args),\n\u001b[0;32m    199\u001b[0m         \u001b[38;5;28mlen\u001b[39m(\u001b[38;5;28mself\u001b[39m\u001b[38;5;241m.\u001b[39mfunction_type\u001b[38;5;241m.\u001b[39mflat_outputs),\n\u001b[0;32m    200\u001b[0m     )\n\u001b[0;32m    201\u001b[0m   \u001b[38;5;28;01melse\u001b[39;00m:\n\u001b[0;32m    202\u001b[0m     outputs \u001b[38;5;241m=\u001b[39m make_call_op_in_graph(\u001b[38;5;28mself\u001b[39m, \u001b[38;5;28mlist\u001b[39m(args))\n",
      "File \u001b[1;32mc:\\ProgramData\\anaconda3\\Lib\\site-packages\\tensorflow\\python\\eager\\context.py:1457\u001b[0m, in \u001b[0;36mContext.call_function\u001b[1;34m(self, name, tensor_inputs, num_outputs)\u001b[0m\n\u001b[0;32m   1455\u001b[0m cancellation_context \u001b[38;5;241m=\u001b[39m cancellation\u001b[38;5;241m.\u001b[39mcontext()\n\u001b[0;32m   1456\u001b[0m \u001b[38;5;28;01mif\u001b[39;00m cancellation_context \u001b[38;5;129;01mis\u001b[39;00m \u001b[38;5;28;01mNone\u001b[39;00m:\n\u001b[1;32m-> 1457\u001b[0m   outputs \u001b[38;5;241m=\u001b[39m execute\u001b[38;5;241m.\u001b[39mexecute(\n\u001b[0;32m   1458\u001b[0m       name\u001b[38;5;241m.\u001b[39mdecode(\u001b[38;5;124m\"\u001b[39m\u001b[38;5;124mutf-8\u001b[39m\u001b[38;5;124m\"\u001b[39m),\n\u001b[0;32m   1459\u001b[0m       num_outputs\u001b[38;5;241m=\u001b[39mnum_outputs,\n\u001b[0;32m   1460\u001b[0m       inputs\u001b[38;5;241m=\u001b[39mtensor_inputs,\n\u001b[0;32m   1461\u001b[0m       attrs\u001b[38;5;241m=\u001b[39mattrs,\n\u001b[0;32m   1462\u001b[0m       ctx\u001b[38;5;241m=\u001b[39m\u001b[38;5;28mself\u001b[39m,\n\u001b[0;32m   1463\u001b[0m   )\n\u001b[0;32m   1464\u001b[0m \u001b[38;5;28;01melse\u001b[39;00m:\n\u001b[0;32m   1465\u001b[0m   outputs \u001b[38;5;241m=\u001b[39m execute\u001b[38;5;241m.\u001b[39mexecute_with_cancellation(\n\u001b[0;32m   1466\u001b[0m       name\u001b[38;5;241m.\u001b[39mdecode(\u001b[38;5;124m\"\u001b[39m\u001b[38;5;124mutf-8\u001b[39m\u001b[38;5;124m\"\u001b[39m),\n\u001b[0;32m   1467\u001b[0m       num_outputs\u001b[38;5;241m=\u001b[39mnum_outputs,\n\u001b[1;32m   (...)\u001b[0m\n\u001b[0;32m   1471\u001b[0m       cancellation_manager\u001b[38;5;241m=\u001b[39mcancellation_context,\n\u001b[0;32m   1472\u001b[0m   )\n",
      "File \u001b[1;32mc:\\ProgramData\\anaconda3\\Lib\\site-packages\\tensorflow\\python\\eager\\execute.py:53\u001b[0m, in \u001b[0;36mquick_execute\u001b[1;34m(op_name, num_outputs, inputs, attrs, ctx, name)\u001b[0m\n\u001b[0;32m     51\u001b[0m \u001b[38;5;28;01mtry\u001b[39;00m:\n\u001b[0;32m     52\u001b[0m   ctx\u001b[38;5;241m.\u001b[39mensure_initialized()\n\u001b[1;32m---> 53\u001b[0m   tensors \u001b[38;5;241m=\u001b[39m pywrap_tfe\u001b[38;5;241m.\u001b[39mTFE_Py_Execute(ctx\u001b[38;5;241m.\u001b[39m_handle, device_name, op_name,\n\u001b[0;32m     54\u001b[0m                                       inputs, attrs, num_outputs)\n\u001b[0;32m     55\u001b[0m \u001b[38;5;28;01mexcept\u001b[39;00m core\u001b[38;5;241m.\u001b[39m_NotOkStatusException \u001b[38;5;28;01mas\u001b[39;00m e:\n\u001b[0;32m     56\u001b[0m   \u001b[38;5;28;01mif\u001b[39;00m name \u001b[38;5;129;01mis\u001b[39;00m \u001b[38;5;129;01mnot\u001b[39;00m \u001b[38;5;28;01mNone\u001b[39;00m:\n",
      "\u001b[1;31mKeyboardInterrupt\u001b[0m: "
     ]
    }
   ],
   "source": [
    "# fit the model on the training dataset and evaluate it on the validation dataset,\n",
    "# use early stopping with patience of five epochs, a learning rate of 0.001, a batch size of 256\n",
    "# before that, configure the model to use GPU\n",
    "\n",
    "# fit the model with gpu\n",
    "\n",
    "with tf.device('/GPU:0'):\n",
    "    model.fit(embeddings_reshape, labels, epochs=100, batch_size=256)\n"
   ]
  },
  {
   "cell_type": "code",
   "execution_count": 56,
   "metadata": {},
   "outputs": [],
   "source": [
    "# Load the dataset\n",
    "# Specify the file path\n",
    "file_path = \"./dataset/val.txt\"\n",
    "\n",
    "# Read the contents of the file located at file_path \n",
    "# and append each line to the list data_before_preprocessing\n",
    "with open(file_path, 'r', encoding='utf-8') as file:\n",
    "    val_data_before_preprocessing = file.readlines()\n",
    "    # remove '\\n' from each line\n",
    "    val_data_before_preprocessing = [line.strip() for line in val_data_before_preprocessing]\n",
    "    \n",
    "    "
   ]
  },
  {
   "cell_type": "code",
   "execution_count": 57,
   "metadata": {},
   "outputs": [],
   "source": [
    "for i in range(len(val_data_before_preprocessing)):\n",
    "    save_tokenized_input(val_data_before_preprocessing[i],\"val_tokenized_input\")"
   ]
  },
  {
   "cell_type": "code",
   "execution_count": 64,
   "metadata": {},
   "outputs": [
    {
     "name": "stdout",
     "output_type": "stream",
     "text": [
      "106184\n"
     ]
    }
   ],
   "source": [
    "# Read the tokenized input file\n",
    "# read the tokenized input file\n",
    "with open('./generatedFiles/val_tokenized_input.txt', 'r', encoding='utf-8') as file:\n",
    "    val_tokenized_input = file.readlines()\n",
    "    # Remove '\\n' from each line\n",
    "    val_tokenized_input = [line.strip() for line in val_tokenized_input]\n",
    "    \n",
    "print(len(val_tokenized_input))"
   ]
  },
  {
   "cell_type": "code",
   "execution_count": 63,
   "metadata": {},
   "outputs": [
    {
     "name": "stdout",
     "output_type": "stream",
     "text": [
      "2500\n"
     ]
    }
   ],
   "source": [
    "for i in range(len(val_data_before_preprocessing)):\n",
    "    save_gold_output(val_data_before_preprocessing[i],\"val_gold_output\")\n",
    "    "
   ]
  },
  {
   "cell_type": "code",
   "execution_count": 69,
   "metadata": {},
   "outputs": [],
   "source": [
    "for i in range(len(val_tokenized_input)):\n",
    "    val_segments, val_seg_tags = get_seg_tags(val_tokenized_input[i])\n",
    "    # Write and append on the tokenized input to a file\n",
    "    with open('./generatedFiles/val_input_segments.txt', 'a', encoding='utf-8') as file:\n",
    "        for tag in val_seg_tags:\n",
    "            file.write(tag)\n",
    "        file.write('\\n')"
   ]
  },
  {
   "cell_type": "code",
   "execution_count": 81,
   "metadata": {},
   "outputs": [
    {
     "name": "stdout",
     "output_type": "stream",
     "text": [
      "(50,)\n",
      "(50,)\n",
      "(50,)\n",
      "(50,)\n",
      "(1, 5, 50)\n",
      "(50,)\n"
     ]
    },
    {
     "ename": "ValueError",
     "evalue": "all the input arrays must have same number of dimensions, but the array at index 0 has 1 dimension(s) and the array at index 1 has 3 dimension(s)",
     "output_type": "error",
     "traceback": [
      "\u001b[1;31m---------------------------------------------------------------------------\u001b[0m",
      "\u001b[1;31mValueError\u001b[0m                                Traceback (most recent call last)",
      "Cell \u001b[1;32mIn[81], line 26\u001b[0m\n\u001b[0;32m     24\u001b[0m         \u001b[38;5;28mprint\u001b[39m (tag_features_vector\u001b[38;5;241m.\u001b[39mshape)\n\u001b[0;32m     25\u001b[0m         \u001b[38;5;28mprint\u001b[39m (prior_features_vector\u001b[38;5;241m.\u001b[39mshape)\n\u001b[1;32m---> 26\u001b[0m         val_embeddings\u001b[38;5;241m.\u001b[39mappend(np\u001b[38;5;241m.\u001b[39mconcatenate((char_features_vector, tag_features_vector, prior_features_vector)))\n\u001b[0;32m     28\u001b[0m val_embeddings \u001b[38;5;241m=\u001b[39m np\u001b[38;5;241m.\u001b[39marray(val_embeddings)\n\u001b[0;32m     30\u001b[0m \u001b[38;5;66;03m# print(char_features_vector)\u001b[39;00m\n\u001b[0;32m     31\u001b[0m \u001b[38;5;66;03m# print(tag_features_vector)\u001b[39;00m\n\u001b[0;32m     32\u001b[0m \u001b[38;5;66;03m# print(prior_features_vector)\u001b[39;00m\n",
      "File \u001b[1;32m<__array_function__ internals>:200\u001b[0m, in \u001b[0;36mconcatenate\u001b[1;34m(*args, **kwargs)\u001b[0m\n",
      "\u001b[1;31mValueError\u001b[0m: all the input arrays must have same number of dimensions, but the array at index 0 has 1 dimension(s) and the array at index 1 has 3 dimension(s)"
     ]
    }
   ],
   "source": [
    "# THIS CELL TOOK 12 minutes TO RUN\n",
    "# input layer\n",
    "val_char_features_vector=[]\n",
    "val_tag_features_vector=[]\n",
    "val_prior_features_vector=[]\n",
    "val_embeddings = []\n",
    "# with open('./generatedFiles/i_j.txt', 'a', encoding='utf-8') as file:\n",
    "for i in range(len(val_tokenized_input)):\n",
    "    for j in range(len(val_tokenized_input[i])):    \n",
    "        # write i and j in a file\n",
    "        # file.write(f'{i} {j}\\n')\n",
    "        char_index = tokenizer_char.word_index.get(val_tokenized_input[i][j])\n",
    "        char_features_vector= char_embeddings[char_index]\n",
    "        if (len(val_tokenized_input[i]) != len(val_segments[i])):\n",
    "            val_segments[i] = \"S\" * (len(val_tokenized_input[i]) - len(val_segments[i])) + val_segments[i]\n",
    "        tag_index = tokenizer_tags.word_index.get(val_segments[i][j].lower())\n",
    "        tag_features_vector= tags_embeddings[tag_index]\n",
    "        prior_features_vector= (prior_feature[(val_tokenized_input[i], val_tokenized_input[i][j], j)]) if (val_tokenized_input[i], val_tokenized_input[i][j], j) in prior_feature else [1, 1, 1, 1, 1, 1, 1, 1]\n",
    "        # pad the prior feature vector with zeros to have the same length as the other features\n",
    "        prior_features_vector = np.pad(prior_features_vector, (0, 42), 'constant')\n",
    "        # concatenate the 3 features vectors to have a matrix of 3 columns\n",
    "        # embeddings.append(np.vstack((char_features_vector, tag_features_vector, prior_features_vector)))\n",
    "        print (char_features_vector.shape)\n",
    "        print (tag_features_vector.shape)\n",
    "        print (prior_features_vector.shape)\n",
    "        val_embeddings.append(np.concatenate((char_features_vector, tag_features_vector, prior_features_vector)))\n",
    "\n",
    "val_embeddings = np.array(val_embeddings)\n",
    "\n",
    "# print(char_features_vector)\n",
    "# print(tag_features_vector)\n",
    "# print(prior_features_vector)\n",
    "print(val_embeddings.shape)"
   ]
  },
  {
   "cell_type": "code",
   "execution_count": null,
   "metadata": {},
   "outputs": [],
   "source": [
    "# evaluate the model on the validation dataset\n",
    "\n",
    "# evaluate the model\n",
    "loss, accuracy = model.evaluate(embeddings_reshape, labels, verbose=0)\n",
    "print('Accuracy: %f' % (accuracy*100))\n",
    "\n"
   ]
  }
 ],
 "metadata": {
  "kernelspec": {
   "display_name": "base",
   "language": "python",
   "name": "python3"
  },
  "language_info": {
   "codemirror_mode": {
    "name": "ipython",
    "version": 3
   },
   "file_extension": ".py",
   "mimetype": "text/x-python",
   "name": "python",
   "nbconvert_exporter": "python",
   "pygments_lexer": "ipython3",
   "version": "3.11.5"
  }
 },
 "nbformat": 4,
 "nbformat_minor": 2
}
