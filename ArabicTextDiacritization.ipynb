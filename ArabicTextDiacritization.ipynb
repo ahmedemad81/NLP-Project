{
 "cells": [
  {
   "cell_type": "code",
   "execution_count": 149,
   "metadata": {},
   "outputs": [],
   "source": [
    "import pickle\n",
    "import numpy as np\n",
    "import pandas as pd\n",
    "import matplotlib.pyplot as plt\n",
    "import re\n",
    "import pyarabic.araby as araby\n",
    "from keras.preprocessing.text import Tokenizer\n",
    "from keras.preprocessing.sequence import pad_sequences\n",
    "from keras.utils import to_categorical\n",
    "import farasa\n",
    "from farasa.segmenter import FarasaSegmenter \n",
    "import unicodedata"
   ]
  },
  {
   "cell_type": "code",
   "execution_count": 104,
   "metadata": {},
   "outputs": [],
   "source": [
    "# Load the dataset\n",
    "# Specify the file path\n",
    "file_path = \"./dataset/train.txt\"\n",
    "\n",
    "# Read the contents of the file located at file_path \n",
    "# and append each line to the list data_before_preprocessing\n",
    "with open(file_path, 'r', encoding='utf-8') as file:\n",
    "    data_before_preprocessing = file.readlines()\n",
    "    # remove '\\n' from each line\n",
    "    data_before_preprocessing = [line.strip() for line in data_before_preprocessing]\n",
    "    \n",
    "    "
   ]
  },
  {
   "cell_type": "code",
   "execution_count": 151,
   "metadata": {},
   "outputs": [],
   "source": [
    "# Remove diacritics\n",
    "def remove_diacritics(text):\n",
    "    text = araby.strip_tashkeel(text)\n",
    "    return text\n",
    "\n",
    "# Remove any non-Arabic letters\n",
    "def remove_non_arabic(text):\n",
    "    text = re.sub(r'[^\\u0600-\\u06FF\\s]|،|؛', '', text)\n",
    "    return text\n",
    "\n",
    "def input_preprocessing_text(text):\n",
    "    # Correct most common errors on word like repetetion of harakats, or tanween before alef\n",
    "    text = araby.autocorrect(text)\n",
    "\n",
    "    # Remove any non-Arabic letters\n",
    "    text = remove_non_arabic(text)\n",
    "\n",
    "    # Remove diacritics\n",
    "    text = remove_diacritics(text)\n",
    "\n",
    "    # Tokenize\n",
    "    text = araby.tokenize(text)\n",
    "\n",
    "    return text\n",
    "\n",
    "def save_tokenized_input(text):\n",
    "    words = input_preprocessing_text(text)\n",
    "    # Write and append on the tokenized input to a file\n",
    "    with open('./generatedFiles/tokenized_input.txt', 'a', encoding='utf-8') as file:\n",
    "        for word in words:\n",
    "            file.write(word + '\\n')\n",
    "\n",
    "def save_gold_output(text):\n",
    "    # Remove any non-Arabic letters and extra spaces\n",
    "    text = remove_non_arabic(text)\n",
    "\n",
    "    # Tokenize\n",
    "    text = araby.tokenize(text)\n",
    "\n",
    "    # Write and append on the gold output to a file\n",
    "    with open('./generatedFiles/gold_output.txt', 'a', encoding='utf-8') as file:\n",
    "        for word in text:\n",
    "            # if last word in the text don't add '\\n'\n",
    "            file.write(word + '\\n')\n",
    "\n",
    "\n",
    "def is_not_arabic_diacritic(char):\n",
    "   category = unicodedata.category(char)\n",
    "   return not (category == 'Mn' or category == 'Mc')\n"
   ]
  },
  {
   "cell_type": "code",
   "execution_count": 316,
   "metadata": {},
   "outputs": [
    {
     "name": "stdout",
     "output_type": "stream",
     "text": [
      "The character is an Arabic diacritic.\n",
      "3\n"
     ]
    }
   ],
   "source": [
    "# Example usage:\n",
    "character = 'ذْ'\n",
    "if is_not_arabic_diacritic(character[1]):\n",
    "   print(\"The character is not an Arabic diacritic.\")\n",
    "else:\n",
    "   print(\"The character is an Arabic diacritic.\")\n",
    "\n",
    "\n",
    "# Testing of is_not_arabic_diacritic() function with gettting the index of the first non diacritic character in the word\n",
    "word = 'زَّراع'\n",
    " \n",
    "for i in range(1, len(word)): # start from 1 because the first character is not a diacritic\n",
    "    if is_not_arabic_diacritic(word[i]):\n",
    "        print(i)\n",
    "        break "
   ]
  },
  {
   "cell_type": "code",
   "execution_count": 106,
   "metadata": {},
   "outputs": [],
   "source": [
    "# # RUN ONE TIME ONLY THIS CODE AGAIN \n",
    "# # Generate Gold Input file\n",
    "# for i in range(len(data_before_preprocessing)):\n",
    "#     save_tokenized_input(data_before_preprocessing[i])"
   ]
  },
  {
   "cell_type": "code",
   "execution_count": 107,
   "metadata": {},
   "outputs": [],
   "source": [
    "# #RUN ONE TIME ONLY THIS CODE AGAIN\n",
    "# # Generate Gold Output file\n",
    "# for i in range(len(data_before_preprocessing)):\n",
    "#     test = data_before_preprocessing[i]\n",
    "#     text1 = save_gold_output(test)"
   ]
  },
  {
   "cell_type": "code",
   "execution_count": 108,
   "metadata": {},
   "outputs": [
    {
     "name": "stdout",
     "output_type": "stream",
     "text": [
      "['قال', 'ابن', 'القاسم', 'قال', 'مالك', 'في', 'مكي', 'أحرم', 'بحجة', 'من', 'الحرم', 'ثم', 'أحصر', 'أنه', 'يخرج', 'إلى', 'الحل', 'فيلبي', 'من', 'هناك', 'لأنه', 'أمر', 'من', 'فاته', 'الحج', 'وقد', 'أحرم', 'من', 'مكة', 'أن', 'يخرج', 'إلى', 'الحل', 'فيعمل', 'فيما', 'بقي', 'عليه', 'ما', 'يعمل', 'المعتمر', 'ويحل']\n"
     ]
    }
   ],
   "source": [
    "# For testing\n",
    "test = \"قَالَ ابْنُ الْقَاسِمِ : قَالَ مَالِكٌ فِي مَكِّيٍّ أَحْرَمَ بِحَجَّةٍ مِنْ الْحَرَمِ ثُمَّ أُحْصِرَ ، أَنَّهُ يَخْرُجُ إلَى الْحِلِّ فَيُلَبِّي مِنْ هُنَاكَ لِأَنَّهُ أَمَرَ مَنْ فَاتَهُ الْحَجُّ وَقَدْ أَحْرَمَ مِنْ مَكَّةَ ، أَنْ يَخْرُجَ إلَى الْحِلِّ فَيَعْمَلَ فِيمَا بَقِيَ عَلَيْهِ مَا يَعْمَلُ الْمُعْتَمِرُ وَيُحِلُّ .( 2 / 437 ) \"\n",
    "text2 = input_preprocessing_text(test)\n",
    "print(text2)\n",
    "text3 = remove_non_arabic(test)"
   ]
  },
  {
   "cell_type": "code",
   "execution_count": 109,
   "metadata": {},
   "outputs": [],
   "source": [
    "# Important functions in PyArabic\n",
    "\n",
    "# araby.tokenize(text) # Tokenize the sentence text into words\n",
    "# araby.is_arabicrange(text) # Check if the text is Arabic\n",
    "# araby.sentence_tokenize(text) # Tokenize the text into sentences\n",
    "# araby.strip_tashkeel(text) # Remove diacritics (FATHA, DAMMA, KASRA, SUKUN, SHADDA, FATHATAN, DAMMATAN, KASRATAN)\n",
    "# araby.strip_diacritics(text) # Remove diacritics (Small Alef الألف الخنجرية, Harakat + Shadda, Quranic marks)\n",
    "# araby.strip_tatweel(text) # Remove tatweel\n",
    "# araby.strip_shadda(text) # Remove shadda\n",
    "# araby.autocorrect(text) # Correct most common errors on word like repetetion of harakats,or tanwin befor alef\n",
    "# araby.arabicrange() # Return a list of Arabic characters\n",
    "\n",
    "# New Functions in PyArabic\n",
    "# araby.vocalized_similarity(word1, word2) # if the two words has the same letters and the same harakats, this function return True. \n",
    "# The two words can be full vocalized, or partial vocalized\n",
    "\n",
    "# araby.vocalizedlike(word1, word2) Same as vocalized_similarity but return True and False\n",
    "\n",
    "# araby.joint(word1, word2) # joint the letters with the marks the length ot letters and marks must be equal return word\n",
    "\n",
    "\n",
    "\n",
    "# Return the text, its tashkeel and shadda if extract_shadda is True\n",
    "# text, marks, shada = araby.separate(text,extract_shadda=True) # Separate diacritics from the text\n",
    "# print (text)\n",
    "# for m in marks:\n",
    "#     print (araby.name(m))\n",
    "\n",
    "# for s in shada:\n",
    "#     print (araby.name(s))"
   ]
  },
  {
   "cell_type": "code",
   "execution_count": 110,
   "metadata": {},
   "outputs": [
    {
     "name": "stdout",
     "output_type": "stream",
     "text": [
      "2104308\n",
      "['قوله', 'أو', 'قطع', 'الأول', 'يده', 'إلخ', 'قال', 'الزركشي', 'ابن', 'عرفة']\n"
     ]
    }
   ],
   "source": [
    "# read the tokenized input file\n",
    "with open('./generatedFiles/tokenized_input.txt', 'r', encoding='utf-8') as file:\n",
    "    tokenized_input = file.readlines()\n",
    "    print(len(tokenized_input))\n",
    "    # Remove '\\n' from each line\n",
    "    tokenized_input = [line.strip() for line in tokenized_input]\n",
    "    # Put the tokenized input of length 1 in tokenized_input list \n",
    "    # tokenized_input = [(line.strip(), i) for i,line in enumerate(tokenized_input) if (len(line.strip())== 1 and line.strip() != '؟')]\n",
    "\n",
    "print(tokenized_input[:10])\n",
    "\n"
   ]
  },
  {
   "cell_type": "code",
   "execution_count": 111,
   "metadata": {},
   "outputs": [
    {
     "name": "stdout",
     "output_type": "stream",
     "text": [
      "2104308\n"
     ]
    }
   ],
   "source": [
    "print(len(tokenized_input))"
   ]
  },
  {
   "cell_type": "markdown",
   "metadata": {},
   "source": [
    "# **Core Word (CW) Diacritization**"
   ]
  },
  {
   "cell_type": "markdown",
   "metadata": {},
   "source": [
    "## **Feature Extraction**"
   ]
  },
  {
   "cell_type": "markdown",
   "metadata": {},
   "source": [
    "### 1 - Characters: \n",
    "Here we extract each character from all tokenized words and create a vector of size 50 for each character."
   ]
  },
  {
   "cell_type": "code",
   "execution_count": 112,
   "metadata": {},
   "outputs": [],
   "source": [
    "tokenizer_char = Tokenizer(char_level=True)\n",
    "tokenizer_char.fit_on_texts(tokenized_input)\n",
    "sequences_char = tokenizer_char.texts_to_sequences(tokenized_input)\n",
    "char_features = pad_sequences(sequences_char)   # padding the sequences to have the same length as the longest sequence (word)\n",
    "char_embeddings = np.random.rand(len(tokenizer_char.word_index) + 1, 50)"
   ]
  },
  {
   "cell_type": "code",
   "execution_count": 113,
   "metadata": {},
   "outputs": [
    {
     "name": "stdout",
     "output_type": "stream",
     "text": [
      "(2104308, 13)\n",
      "(38, 50)\n"
     ]
    }
   ],
   "source": [
    "print(char_features.shape) # (number of words, max length of word in the dataset)\n",
    "\n",
    "\n",
    "print(char_embeddings.shape)\n",
    "\n",
    "# 38 rows: 37 unique characters identified by the tokenizer, 1 row for handling characters not seen in the training data\n",
    "# 50 columns: Each character is encoded as a 50-dimensional vector"
   ]
  },
  {
   "cell_type": "code",
   "execution_count": 114,
   "metadata": {},
   "outputs": [
    {
     "name": "stdout",
     "output_type": "stream",
     "text": [
      "[ 0  0  0  0  0  0  0  0  0 13  5  1  7]\n"
     ]
    }
   ],
   "source": [
    "print(char_features[0]) \n",
    "# the number of non zero elements corresponds to the length of the word \n",
    "# and the value of each element corresponds to the index of the character in the tokenizer\n",
    "# which means that every character now is encoded as a number and this number is the index of the character in the tokenizer"
   ]
  },
  {
   "cell_type": "code",
   "execution_count": 115,
   "metadata": {},
   "outputs": [
    {
     "name": "stdout",
     "output_type": "stream",
     "text": [
      "[0.22378258 0.78951081 0.42997947 0.26328269 0.89364315 0.54965583\n",
      " 0.26866303 0.8560125  0.44303647 0.75162934 0.88370525 0.12672468\n",
      " 0.32528978 0.83298015 0.95295242 0.16253179 0.63915775 0.27110329\n",
      " 0.95486124 0.77466769 0.69329182 0.34505101 0.24829454 0.61339652\n",
      " 0.13867092 0.87697618 0.85485515 0.2882282  0.67719534 0.29000675\n",
      " 0.65942063 0.85916126 0.33125566 0.00197783 0.75748238 0.20142802\n",
      " 0.44028011 0.87027288 0.73466927 0.02289713 0.49069527 0.40826526\n",
      " 0.30834503 0.97284199 0.5990529  0.44210666 0.03305908 0.51951044\n",
      " 0.4268262  0.08394591]\n"
     ]
    }
   ],
   "source": [
    "print(char_embeddings[0])\n",
    "# this is the embedding of each character in the tokenizer"
   ]
  },
  {
   "cell_type": "code",
   "execution_count": 116,
   "metadata": {},
   "outputs": [
    {
     "name": "stdout",
     "output_type": "stream",
     "text": [
      "(13, 50)\n",
      "[[2.23782579e-01 7.89510812e-01 4.29979470e-01 2.63282685e-01\n",
      "  8.93643150e-01 5.49655834e-01 2.68663032e-01 8.56012498e-01\n",
      "  4.43036467e-01 7.51629339e-01 8.83705250e-01 1.26724676e-01\n",
      "  3.25289780e-01 8.32980155e-01 9.52952419e-01 1.62531785e-01\n",
      "  6.39157752e-01 2.71103287e-01 9.54861236e-01 7.74667690e-01\n",
      "  6.93291820e-01 3.45051013e-01 2.48294537e-01 6.13396521e-01\n",
      "  1.38670919e-01 8.76976183e-01 8.54855149e-01 2.88228197e-01\n",
      "  6.77195342e-01 2.90006752e-01 6.59420634e-01 8.59161260e-01\n",
      "  3.31255657e-01 1.97782600e-03 7.57482378e-01 2.01428025e-01\n",
      "  4.40280111e-01 8.70272884e-01 7.34669265e-01 2.28971332e-02\n",
      "  4.90695271e-01 4.08265256e-01 3.08345030e-01 9.72841987e-01\n",
      "  5.99052896e-01 4.42106660e-01 3.30590830e-02 5.19510436e-01\n",
      "  4.26826199e-01 8.39459133e-02]\n",
      " [2.23782579e-01 7.89510812e-01 4.29979470e-01 2.63282685e-01\n",
      "  8.93643150e-01 5.49655834e-01 2.68663032e-01 8.56012498e-01\n",
      "  4.43036467e-01 7.51629339e-01 8.83705250e-01 1.26724676e-01\n",
      "  3.25289780e-01 8.32980155e-01 9.52952419e-01 1.62531785e-01\n",
      "  6.39157752e-01 2.71103287e-01 9.54861236e-01 7.74667690e-01\n",
      "  6.93291820e-01 3.45051013e-01 2.48294537e-01 6.13396521e-01\n",
      "  1.38670919e-01 8.76976183e-01 8.54855149e-01 2.88228197e-01\n",
      "  6.77195342e-01 2.90006752e-01 6.59420634e-01 8.59161260e-01\n",
      "  3.31255657e-01 1.97782600e-03 7.57482378e-01 2.01428025e-01\n",
      "  4.40280111e-01 8.70272884e-01 7.34669265e-01 2.28971332e-02\n",
      "  4.90695271e-01 4.08265256e-01 3.08345030e-01 9.72841987e-01\n",
      "  5.99052896e-01 4.42106660e-01 3.30590830e-02 5.19510436e-01\n",
      "  4.26826199e-01 8.39459133e-02]\n",
      " [2.23782579e-01 7.89510812e-01 4.29979470e-01 2.63282685e-01\n",
      "  8.93643150e-01 5.49655834e-01 2.68663032e-01 8.56012498e-01\n",
      "  4.43036467e-01 7.51629339e-01 8.83705250e-01 1.26724676e-01\n",
      "  3.25289780e-01 8.32980155e-01 9.52952419e-01 1.62531785e-01\n",
      "  6.39157752e-01 2.71103287e-01 9.54861236e-01 7.74667690e-01\n",
      "  6.93291820e-01 3.45051013e-01 2.48294537e-01 6.13396521e-01\n",
      "  1.38670919e-01 8.76976183e-01 8.54855149e-01 2.88228197e-01\n",
      "  6.77195342e-01 2.90006752e-01 6.59420634e-01 8.59161260e-01\n",
      "  3.31255657e-01 1.97782600e-03 7.57482378e-01 2.01428025e-01\n",
      "  4.40280111e-01 8.70272884e-01 7.34669265e-01 2.28971332e-02\n",
      "  4.90695271e-01 4.08265256e-01 3.08345030e-01 9.72841987e-01\n",
      "  5.99052896e-01 4.42106660e-01 3.30590830e-02 5.19510436e-01\n",
      "  4.26826199e-01 8.39459133e-02]\n",
      " [2.23782579e-01 7.89510812e-01 4.29979470e-01 2.63282685e-01\n",
      "  8.93643150e-01 5.49655834e-01 2.68663032e-01 8.56012498e-01\n",
      "  4.43036467e-01 7.51629339e-01 8.83705250e-01 1.26724676e-01\n",
      "  3.25289780e-01 8.32980155e-01 9.52952419e-01 1.62531785e-01\n",
      "  6.39157752e-01 2.71103287e-01 9.54861236e-01 7.74667690e-01\n",
      "  6.93291820e-01 3.45051013e-01 2.48294537e-01 6.13396521e-01\n",
      "  1.38670919e-01 8.76976183e-01 8.54855149e-01 2.88228197e-01\n",
      "  6.77195342e-01 2.90006752e-01 6.59420634e-01 8.59161260e-01\n",
      "  3.31255657e-01 1.97782600e-03 7.57482378e-01 2.01428025e-01\n",
      "  4.40280111e-01 8.70272884e-01 7.34669265e-01 2.28971332e-02\n",
      "  4.90695271e-01 4.08265256e-01 3.08345030e-01 9.72841987e-01\n",
      "  5.99052896e-01 4.42106660e-01 3.30590830e-02 5.19510436e-01\n",
      "  4.26826199e-01 8.39459133e-02]\n",
      " [2.23782579e-01 7.89510812e-01 4.29979470e-01 2.63282685e-01\n",
      "  8.93643150e-01 5.49655834e-01 2.68663032e-01 8.56012498e-01\n",
      "  4.43036467e-01 7.51629339e-01 8.83705250e-01 1.26724676e-01\n",
      "  3.25289780e-01 8.32980155e-01 9.52952419e-01 1.62531785e-01\n",
      "  6.39157752e-01 2.71103287e-01 9.54861236e-01 7.74667690e-01\n",
      "  6.93291820e-01 3.45051013e-01 2.48294537e-01 6.13396521e-01\n",
      "  1.38670919e-01 8.76976183e-01 8.54855149e-01 2.88228197e-01\n",
      "  6.77195342e-01 2.90006752e-01 6.59420634e-01 8.59161260e-01\n",
      "  3.31255657e-01 1.97782600e-03 7.57482378e-01 2.01428025e-01\n",
      "  4.40280111e-01 8.70272884e-01 7.34669265e-01 2.28971332e-02\n",
      "  4.90695271e-01 4.08265256e-01 3.08345030e-01 9.72841987e-01\n",
      "  5.99052896e-01 4.42106660e-01 3.30590830e-02 5.19510436e-01\n",
      "  4.26826199e-01 8.39459133e-02]\n",
      " [2.23782579e-01 7.89510812e-01 4.29979470e-01 2.63282685e-01\n",
      "  8.93643150e-01 5.49655834e-01 2.68663032e-01 8.56012498e-01\n",
      "  4.43036467e-01 7.51629339e-01 8.83705250e-01 1.26724676e-01\n",
      "  3.25289780e-01 8.32980155e-01 9.52952419e-01 1.62531785e-01\n",
      "  6.39157752e-01 2.71103287e-01 9.54861236e-01 7.74667690e-01\n",
      "  6.93291820e-01 3.45051013e-01 2.48294537e-01 6.13396521e-01\n",
      "  1.38670919e-01 8.76976183e-01 8.54855149e-01 2.88228197e-01\n",
      "  6.77195342e-01 2.90006752e-01 6.59420634e-01 8.59161260e-01\n",
      "  3.31255657e-01 1.97782600e-03 7.57482378e-01 2.01428025e-01\n",
      "  4.40280111e-01 8.70272884e-01 7.34669265e-01 2.28971332e-02\n",
      "  4.90695271e-01 4.08265256e-01 3.08345030e-01 9.72841987e-01\n",
      "  5.99052896e-01 4.42106660e-01 3.30590830e-02 5.19510436e-01\n",
      "  4.26826199e-01 8.39459133e-02]\n",
      " [2.23782579e-01 7.89510812e-01 4.29979470e-01 2.63282685e-01\n",
      "  8.93643150e-01 5.49655834e-01 2.68663032e-01 8.56012498e-01\n",
      "  4.43036467e-01 7.51629339e-01 8.83705250e-01 1.26724676e-01\n",
      "  3.25289780e-01 8.32980155e-01 9.52952419e-01 1.62531785e-01\n",
      "  6.39157752e-01 2.71103287e-01 9.54861236e-01 7.74667690e-01\n",
      "  6.93291820e-01 3.45051013e-01 2.48294537e-01 6.13396521e-01\n",
      "  1.38670919e-01 8.76976183e-01 8.54855149e-01 2.88228197e-01\n",
      "  6.77195342e-01 2.90006752e-01 6.59420634e-01 8.59161260e-01\n",
      "  3.31255657e-01 1.97782600e-03 7.57482378e-01 2.01428025e-01\n",
      "  4.40280111e-01 8.70272884e-01 7.34669265e-01 2.28971332e-02\n",
      "  4.90695271e-01 4.08265256e-01 3.08345030e-01 9.72841987e-01\n",
      "  5.99052896e-01 4.42106660e-01 3.30590830e-02 5.19510436e-01\n",
      "  4.26826199e-01 8.39459133e-02]\n",
      " [2.23782579e-01 7.89510812e-01 4.29979470e-01 2.63282685e-01\n",
      "  8.93643150e-01 5.49655834e-01 2.68663032e-01 8.56012498e-01\n",
      "  4.43036467e-01 7.51629339e-01 8.83705250e-01 1.26724676e-01\n",
      "  3.25289780e-01 8.32980155e-01 9.52952419e-01 1.62531785e-01\n",
      "  6.39157752e-01 2.71103287e-01 9.54861236e-01 7.74667690e-01\n",
      "  6.93291820e-01 3.45051013e-01 2.48294537e-01 6.13396521e-01\n",
      "  1.38670919e-01 8.76976183e-01 8.54855149e-01 2.88228197e-01\n",
      "  6.77195342e-01 2.90006752e-01 6.59420634e-01 8.59161260e-01\n",
      "  3.31255657e-01 1.97782600e-03 7.57482378e-01 2.01428025e-01\n",
      "  4.40280111e-01 8.70272884e-01 7.34669265e-01 2.28971332e-02\n",
      "  4.90695271e-01 4.08265256e-01 3.08345030e-01 9.72841987e-01\n",
      "  5.99052896e-01 4.42106660e-01 3.30590830e-02 5.19510436e-01\n",
      "  4.26826199e-01 8.39459133e-02]\n",
      " [2.23782579e-01 7.89510812e-01 4.29979470e-01 2.63282685e-01\n",
      "  8.93643150e-01 5.49655834e-01 2.68663032e-01 8.56012498e-01\n",
      "  4.43036467e-01 7.51629339e-01 8.83705250e-01 1.26724676e-01\n",
      "  3.25289780e-01 8.32980155e-01 9.52952419e-01 1.62531785e-01\n",
      "  6.39157752e-01 2.71103287e-01 9.54861236e-01 7.74667690e-01\n",
      "  6.93291820e-01 3.45051013e-01 2.48294537e-01 6.13396521e-01\n",
      "  1.38670919e-01 8.76976183e-01 8.54855149e-01 2.88228197e-01\n",
      "  6.77195342e-01 2.90006752e-01 6.59420634e-01 8.59161260e-01\n",
      "  3.31255657e-01 1.97782600e-03 7.57482378e-01 2.01428025e-01\n",
      "  4.40280111e-01 8.70272884e-01 7.34669265e-01 2.28971332e-02\n",
      "  4.90695271e-01 4.08265256e-01 3.08345030e-01 9.72841987e-01\n",
      "  5.99052896e-01 4.42106660e-01 3.30590830e-02 5.19510436e-01\n",
      "  4.26826199e-01 8.39459133e-02]\n",
      " [1.38019775e-01 6.15365693e-01 4.78806292e-01 8.67513311e-02\n",
      "  9.35871686e-01 5.14430965e-01 7.36435648e-01 9.95692692e-01\n",
      "  4.76521204e-01 3.37698544e-01 4.26581632e-01 4.51712702e-01\n",
      "  9.91097743e-01 5.90460809e-01 1.82462846e-01 7.57153665e-01\n",
      "  6.41390125e-01 5.73136453e-01 7.06942292e-02 9.58216055e-01\n",
      "  8.84906093e-01 4.21629967e-01 2.24782965e-01 2.42538375e-01\n",
      "  5.62103474e-01 6.97676436e-01 4.73850959e-01 2.53660151e-01\n",
      "  1.91256646e-01 9.03998338e-01 8.90838990e-01 9.02686395e-01\n",
      "  4.98864717e-01 3.64726227e-01 6.96111087e-02 5.01669765e-01\n",
      "  3.67302642e-01 6.99427711e-01 6.35717838e-01 2.91013200e-01\n",
      "  7.43049423e-01 5.77131462e-01 5.58708072e-01 2.18967822e-01\n",
      "  6.92859666e-02 7.10600519e-01 5.96760963e-01 3.13387271e-01\n",
      "  2.58341612e-02 1.69739798e-01]\n",
      " [9.80224982e-01 7.74686399e-01 2.27191145e-01 7.83250890e-01\n",
      "  5.90597256e-01 6.04575195e-01 7.09736895e-01 4.65203462e-01\n",
      "  3.14658192e-01 7.85943307e-01 1.20874630e-01 6.56000595e-03\n",
      "  5.72221642e-01 6.94157547e-01 7.90997845e-01 9.16906905e-01\n",
      "  6.45055007e-01 2.89732153e-01 8.82034778e-01 7.51924720e-01\n",
      "  8.01089760e-01 7.54885740e-01 7.45865970e-01 7.40202873e-01\n",
      "  9.50154851e-01 7.48811861e-01 7.50386310e-01 5.03392733e-01\n",
      "  2.91422247e-01 5.69075352e-01 6.95517140e-01 1.76293014e-01\n",
      "  5.31843437e-01 9.28917504e-02 6.76569810e-01 7.25928831e-01\n",
      "  9.54726895e-02 2.60932792e-01 5.82859406e-01 8.01560636e-02\n",
      "  8.30807245e-02 5.90065464e-01 3.97488016e-01 5.37400714e-01\n",
      "  1.85972608e-01 3.28454571e-02 8.86525489e-01 7.42287677e-01\n",
      "  3.76511218e-01 4.25773762e-01]\n",
      " [5.73742120e-01 5.28431393e-01 7.19805484e-01 7.64365470e-01\n",
      "  6.85013681e-01 1.53526346e-01 7.55275550e-01 5.37821537e-01\n",
      "  8.18368343e-01 5.83546558e-01 2.08307680e-01 7.27009702e-03\n",
      "  2.13918802e-01 5.43847275e-01 5.80338315e-01 7.37032399e-01\n",
      "  7.96838426e-01 1.16794322e-01 8.54477370e-01 2.58906224e-01\n",
      "  5.42980092e-01 6.54204535e-01 5.43153130e-01 8.12721496e-01\n",
      "  7.45949631e-01 6.93444412e-01 8.02197415e-01 2.49490155e-01\n",
      "  3.91030771e-01 1.63476788e-01 2.77500173e-01 5.87438511e-01\n",
      "  8.91109911e-01 6.31623849e-01 8.88700390e-01 9.53150395e-01\n",
      "  7.92079954e-02 9.42019271e-01 9.02815354e-01 2.34259220e-01\n",
      "  7.03619495e-01 7.84023054e-01 1.54955699e-01 7.63907733e-02\n",
      "  9.14555289e-01 7.62704780e-01 2.18371251e-01 5.22815848e-01\n",
      "  6.09016228e-01 8.19482788e-01]\n",
      " [9.15745501e-01 3.70858878e-01 5.97333584e-01 9.93702093e-01\n",
      "  7.82198636e-01 5.42429257e-01 5.89147538e-01 6.65155835e-01\n",
      "  1.12099077e-01 4.60200291e-01 8.58850794e-01 4.32241792e-01\n",
      "  3.16493559e-01 5.99230509e-01 9.38463243e-01 5.70036761e-01\n",
      "  8.28324500e-01 9.08823611e-01 8.43101150e-02 3.86084185e-01\n",
      "  7.82231647e-02 6.88610769e-01 9.54673363e-01 6.54549154e-01\n",
      "  7.78189959e-01 2.22579577e-01 8.84212985e-01 7.58502369e-01\n",
      "  3.65651487e-01 4.65736868e-01 8.50447815e-04 1.61078522e-01\n",
      "  4.43188813e-01 7.72358518e-01 9.18719393e-01 8.40771422e-01\n",
      "  1.40434047e-01 4.25487569e-01 6.54897452e-01 5.94933999e-01\n",
      "  8.95201794e-01 5.13357224e-01 1.79167429e-01 1.88718631e-01\n",
      "  3.70267767e-01 3.96214930e-01 7.13735871e-01 6.67371925e-01\n",
      "  5.91008823e-01 9.59591245e-01]]\n"
     ]
    }
   ],
   "source": [
    "print(char_embeddings[char_features[0]].shape)\n",
    "# 13 is the word of characters and 50 is the embedding size of each character\n",
    "\n",
    "print(char_embeddings[char_features[0]])\n",
    "# this is the embedding of each character in the first tokenized word, this is the 1st feature and the input of the model"
   ]
  },
  {
   "cell_type": "markdown",
   "metadata": {},
   "source": [
    "### 2 - The position of the character in a word segment:\n",
    "For example, given the word “wAlktAb” , which is composed of three segments “w+Al+ktAb”. Letters were marked as “B” if they begin a segment, “M” if they are in the middle of a segment, “E” if they end a segment, and “S” if they are single letter segments. So for “w+Al+ktAb”, the corresponding character positions are “S+BE+BMME.”"
   ]
  },
  {
   "cell_type": "code",
   "execution_count": 117,
   "metadata": {},
   "outputs": [
    {
     "name": "stderr",
     "output_type": "stream",
     "text": [
      "[2023-12-29 23:25:49,947 - farasapy_logger - WARNING]: Be careful with large lines as they may break on interactive mode. You may switch to Standalone mode for such cases.\n"
     ]
    }
   ],
   "source": [
    "segmenter = FarasaSegmenter(interactive=True) # The default behaviour"
   ]
  },
  {
   "cell_type": "code",
   "execution_count": 118,
   "metadata": {},
   "outputs": [
    {
     "name": "stdout",
     "output_type": "stream",
     "text": [
      "Segmented word: ['ك', 'قلم', 'ه']\n",
      "SEG tags: ['S', 'B', 'M', 'E', 'S']\n"
     ]
    }
   ],
   "source": [
    "def get_seg_tags(word):                 # word = \"wAlktAb\"\n",
    "    segments = segmenter.segment(word)  # segments will be a list: [\"w\", \"Al\", \"ktAb\"]\n",
    "    segments = segments.split('+')\n",
    "    seg_tags = []\n",
    "    for segment in segments:\n",
    "        if len(segment) == 1:\n",
    "            seg_tags.append(\"S\")\n",
    "        else:\n",
    "            seg_tags.append(\"B\")  # First letter\n",
    "            seg_tags.extend(\"M\" * (len(segment) - 2))  # Middle letters\n",
    "            seg_tags.append(\"E\")  # Last letter\n",
    "    return segments, seg_tags\n",
    "\n",
    "word = \"كقلمه\"\n",
    "segments, seg_tags = get_seg_tags(word)\n",
    "print(\"Segmented word:\", segments)\n",
    "print(\"SEG tags:\", seg_tags)\n"
   ]
  },
  {
   "cell_type": "code",
   "execution_count": 119,
   "metadata": {},
   "outputs": [],
   "source": [
    "# # DON'T RUN THIS CODE AGAIN, THIS CELL TOOK 25m 4.5s TO RUN\n",
    "# # The Output of this code is the input_segments.txt file\n",
    "\n",
    "# for i in range(len(tokenized_input)):\n",
    "#     segments, seg_tags = get_seg_tags(tokenized_input[i])\n",
    "#     # Write and append on the tokenized input to a file\n",
    "#     with open('./generatedFiles/input_segments.txt', 'a', encoding='utf-8') as file:\n",
    "#         for tag in seg_tags:\n",
    "#             file.write(tag)\n",
    "#         file.write('\\n')"
   ]
  },
  {
   "cell_type": "code",
   "execution_count": 120,
   "metadata": {},
   "outputs": [
    {
     "name": "stdout",
     "output_type": "stream",
     "text": [
      "2104308\n",
      "['BMES', 'BE', 'BME', 'BEBME', 'BES', 'BME', 'BME', 'BEBMMME', 'BME', 'BMES']\n"
     ]
    }
   ],
   "source": [
    "# Read the input_segments file\n",
    "with open('./generatedFiles/input_segments.txt', 'r', encoding='utf-8') as file:\n",
    "    input_segments = file.readlines()\n",
    "    print(len(input_segments))\n",
    "    # Remove '\\n' from each line\n",
    "    input_segments = [line.strip() for line in input_segments]\n",
    "    # Put the tokenized input of length 1 in the tokenized_input list\n",
    "    # tokenized_input = [(line.strip(), i) for i,line in enumerate(tokenized_input) if (len(line.strip())== 1 and line.strip() != '؟')]\n",
    "\n",
    "print(input_segments[:10])"
   ]
  },
  {
   "cell_type": "code",
   "execution_count": 121,
   "metadata": {},
   "outputs": [],
   "source": [
    "tokenizer_tags = Tokenizer(char_level=True)\n",
    "tokenizer_tags.fit_on_texts(input_segments)\n",
    "sequences_tags = tokenizer_tags.texts_to_sequences(input_segments)\n",
    "tags_features = pad_sequences(sequences_tags)   \n",
    "tags_embeddings = np.random.rand(len(tokenizer_tags.word_index) + 1, 50)"
   ]
  },
  {
   "cell_type": "code",
   "execution_count": 122,
   "metadata": {},
   "outputs": [
    {
     "name": "stdout",
     "output_type": "stream",
     "text": [
      "(2104308, 13)\n",
      "(5, 50)\n"
     ]
    }
   ],
   "source": [
    "print(tags_features.shape) \n",
    "print(tags_embeddings.shape)"
   ]
  },
  {
   "cell_type": "markdown",
   "metadata": {},
   "source": [
    "### 3 - PRIOR: \n",
    "diacritics seen in the training set per segment. Since we used a character-level model, this feature informed the model with word-level information. For example, the word “ktAb”  was observed to have two diacritized forms in the training set, namely “kitaAb” ( – book) and “kut∼aAb” ( – writers). The first letter in the word (“k”) accepted the diacritics “i” and “u.” Thus, given a binary vector representing whether a character is allowed to assume any of the eight primitive Arabic diacritic marks (a, i, u, o, K, N, F, and ∼ in order), the first letter would be given the following vector “01100000.” If a word segment was never observed during training, then the vector for all letters therein would be set to 11111111."
   ]
  },
  {
   "cell_type": "code",
   "execution_count": 123,
   "metadata": {},
   "outputs": [
    {
     "name": "stdout",
     "output_type": "stream",
     "text": [
      "2104308\n",
      "['قَوْلُهُ', 'أَوْ', 'قَطَعَ', 'الْأَوَّلُ', 'يَدَهُ', 'إلَخْ', 'قَالَ', 'الزَّرْكَشِيُّ', 'ابْنُ', 'عَرَفَةَ']\n"
     ]
    }
   ],
   "source": [
    "# read the gold_output file\n",
    "with open('./generatedFiles/gold_output.txt', 'r', encoding='utf-8') as file:\n",
    "    gold_output = file.readlines()\n",
    "    print(len(gold_output))\n",
    "    # remove '\\n' from each line\n",
    "    gold_output = [line.strip() for line in gold_output]\n",
    "    # put in tokenized_input list the tokenized input of length 1\n",
    "    # tokenized_input = [(line.strip(), i) for i,line in enumerate(tokenized_input) if (len(line.strip())== 1 and line.strip() != '؟')]\n",
    "    # get the inde\n",
    "\n",
    "print(gold_output[:10])"
   ]
  },
  {
   "cell_type": "code",
   "execution_count": 124,
   "metadata": {},
   "outputs": [
    {
     "name": "stdout",
     "output_type": "stream",
     "text": [
      "2104308\n",
      "['قوله', 'أو', 'قطع', 'الأول', 'يده', 'إلخ', 'قال', 'الزركشي', 'ابن', 'عرفة']\n"
     ]
    }
   ],
   "source": [
    "print(len(tokenized_input))\n",
    "print(tokenized_input[:10])"
   ]
  },
  {
   "cell_type": "code",
   "execution_count": 125,
   "metadata": {},
   "outputs": [],
   "source": [
    "# Map each diacrtics to its unicode\n",
    "diacritics_mapping = {\n",
    "    'FATHA': '\\u064E',\n",
    "    'DAMMA': '\\u064F',\n",
    "    'KASRA': '\\u0650',\n",
    "    'SHADDA': '\\u0651',\n",
    "    'SUKUN': '\\u0652',\n",
    "    'FATHATAN': '\\u064B',\n",
    "    'DAMMATAN': '\\u064C',\n",
    "    'KASRATAN': '\\u064D'\n",
    "}"
   ]
  },
  {
   "cell_type": "code",
   "execution_count": 126,
   "metadata": {},
   "outputs": [],
   "source": [
    "# # Extract diacritics by returning a list containing a tuple of 3 elements: (letter, tashkeel, shadda)\n",
    "# def extract_arabic_diacritics(word):\n",
    "#     diacritics_list = []\n",
    "#     extracted_word, tashkeel, shadda = araby.separate(word, extract_shadda=True)\n",
    "#     for i in range(len(extracted_word)):\n",
    "#         print(f'{araby.name(extracted_word[i])} {araby.name(tashkeel[i])} {araby.name(shadda[i])}')\n",
    "#         diacritics_list.append((extracted_word[i], (tashkeel[i].encode(\"utf8\")).decode(), (shadda[i].encode(\"utf8\")).decode()))\n",
    "#     return diacritics_list"
   ]
  },
  {
   "cell_type": "code",
   "execution_count": 127,
   "metadata": {},
   "outputs": [],
   "source": [
    "# # firstly, initialize an empty dictionary for the 'prior' feature\n",
    "# # the value will be the 8 arabic marks (FATHA, DAMMA, KASRA, FATHATAN, DAMMATAN, KASRATAN, SUKUN, SHADDA) as a binary vector\n",
    "\n",
    "# # then, loop over the tokenized input and check if the each character and word pair is not in the dictionary, get the indices of this word and its duplicates in the tokenized input array\n",
    "# def get_prior(tokenized_input, gold_output):\n",
    "#     prior = {} # this dictionary will hold a key of tuple of 3 elements (word, character, index of character in the word) and the value will be the 8 arabic marks\n",
    "#     for i in range(len(tokenized_input)):\n",
    "#         if (tokenized_input[i], tokenized_input[i][0], 0) not in prior:\n",
    "#             # get the indices of the word in the tokenized input array\n",
    "#             indices = [j for j, x in enumerate(tokenized_input) if x == tokenized_input[i]]\n",
    "#             print(indices)\n",
    "#             # get the words in the gold_output array with the same indices\n",
    "#             words = [gold_output[j] for j in indices]\n",
    "#             extracted_diac_all_words = []\n",
    "#             for word in words:\n",
    "#                 extracted_diac_all_words.append(extract_arabic_diacritics(word))\n",
    "#             for indx, charac in enumerate(tokenized_input[i]):\n",
    "#                 for extracted_diac_per_word in extracted_diac_all_words:\n",
    "#                     # extract the diacritics of word[indx]\n",
    "#                     prior[(tokenized_input[i], charac, indx)] = [0, 0, 0, 0, 0, 0, 0, 0] # initialize the value of the key with zeros\n",
    "#                     if diacritics_mapping['SHADDA'] in extracted_diac_per_word[indx]:\n",
    "#                         prior[(tokenized_input[i], charac, indx)][4] = 1 if diacritics_mapping['FATHA'] in extracted_diac_per_word[indx] else 0\n",
    "#                         prior[(tokenized_input[i], charac, indx)][5] = 1 if diacritics_mapping['DAMMA'] in extracted_diac_per_word[indx] else 0\n",
    "#                         prior[(tokenized_input[i], charac, indx)][6] = 1 if diacritics_mapping['KASRA'] in extracted_diac_per_word[indx] else 0\n",
    "#                         prior[(tokenized_input[i], charac, indx)][7] = 1 if not  diacritics_mapping['FATHA'] in extracted_diac_per_word[indx] and not diacritics_mapping['DAMMA'] in word[indx: indx+2]  and not diacritics_mapping['KASRA'] in word[indx: indx+2] else 0\n",
    "#                     else:\n",
    "#                         prior[(tokenized_input[i], charac,indx)][0] = 1 if diacritics_mapping['FATHA'] in extracted_diac_per_word[indx] else 0\n",
    "#                         prior[(tokenized_input[i], charac,indx)][1] = 1 if diacritics_mapping['DAMMA'] in extracted_diac_per_word[indx] else 0\n",
    "#                         prior[(tokenized_input[i], charac,indx)][2] = 1 if diacritics_mapping['KASRA'] in extracted_diac_per_word[indx] else 0\n",
    "#                         prior[(tokenized_input[i], charac,indx)][3] = 1 if diacritics_mapping['SUKUN'] in extracted_diac_per_word[indx] else 0\n",
    "#     return prior"
   ]
  },
  {
   "cell_type": "code",
   "execution_count": 278,
   "metadata": {},
   "outputs": [
    {
     "name": "stdout",
     "output_type": "stream",
     "text": [
      "FATHA in tashkeel:  True\n",
      "DAMMA in tashkeel:  False\n",
      "KASRA in tashkeel:  False\n",
      "SUKUN in tashkeel:  True\n",
      "FATHATAN in tashkeel:  False\n",
      "DAMMATAN in tashkeel:  False\n",
      "KASRATAN in tashkeel:  False\n",
      "SHADDA in tashkeel:  False\n",
      "=============================\n",
      "FATHA in shadda:  False\n",
      "DAMMA in shadda:  False\n",
      "KASRA in shadda:  False\n",
      "SUKUN in shadda:  False\n",
      "FATHATAN in shadda:  False\n",
      "DAMMATAN in shadda:  False\n",
      "KASRATAN in shadda:  False\n",
      "SHADDA in shadda:  True\n",
      "testt False\n",
      "yarab False\n"
     ]
    }
   ],
   "source": [
    "letter, tashkeel, shadda = araby.separate('زَّ', extract_shadda=True)   # SHADDA + FATHA Example\n",
    "# letter, tashkeel, shadda = araby.separate('وَ', extract_shadda=True)   # FATHA Example\n",
    "# letter, tashkeel, shadda = araby.separate('مً', extract_shadda=True)   # FATHATAN Example\n",
    "# letter, tashkeel, shadda = araby.separate('عٌ', extract_shadda=True)   # DAMMATAN Example\n",
    "# letter, tashkeel, shadda = araby.separate('يُّ', extract_shadda=True)   # SHADDA + DAMMA Example\n",
    "# letter, tashkeel, shadda = araby.separate('ذْ', extract_shadda=True)   # SUKUN Example\n",
    "enkar = 'كَإِنْكَارِ'\n",
    "# print(enkar[4:6])\n",
    "# print( diacritics_mapping['FATHA'] in enkar[0:1])\n",
    "# print( diacritics_mapping['SHADDA'] in 'زَّ')\n",
    "# print( diacritics_mapping['DAMMA'] in 'زَّ')\n",
    "\n",
    "print('FATHA in tashkeel: ', diacritics_mapping['FATHA'] in tashkeel)\n",
    "print('DAMMA in tashkeel: ', diacritics_mapping['DAMMA'] in tashkeel)\n",
    "print('KASRA in tashkeel: ', diacritics_mapping['KASRA'] in tashkeel)\n",
    "print('SUKUN in tashkeel: ', diacritics_mapping['SUKUN'] in tashkeel)\n",
    "print('FATHATAN in tashkeel: ', diacritics_mapping['FATHATAN'] in tashkeel)\n",
    "print('DAMMATAN in tashkeel: ', diacritics_mapping['DAMMATAN'] in tashkeel)\n",
    "print('KASRATAN in tashkeel: ', diacritics_mapping['KASRATAN'] in tashkeel)\n",
    "print('SHADDA in tashkeel: ', diacritics_mapping['SHADDA'] in tashkeel)\n",
    "print('=============================')\n",
    "print('FATHA in shadda: ', diacritics_mapping['FATHA'] in shadda)\n",
    "print('DAMMA in shadda: ', diacritics_mapping['DAMMA'] in shadda)\n",
    "print('KASRA in shadda: ', diacritics_mapping['KASRA'] in shadda)\n",
    "print('SUKUN in shadda: ', diacritics_mapping['SUKUN'] in shadda)\n",
    "print('FATHATAN in shadda: ', diacritics_mapping['FATHATAN'] in shadda)\n",
    "print('DAMMATAN in shadda: ', diacritics_mapping['DAMMATAN'] in shadda)\n",
    "print('KASRATAN in shadda: ', diacritics_mapping['KASRATAN'] in shadda)\n",
    "print('SHADDA in shadda: ', diacritics_mapping['SHADDA'] in shadda)\n",
    "\n",
    "print('testt', (diacritics_mapping['SUKUN'] in tashkeel and diacritics_mapping['FATHA'] not in tashkeel and diacritics_mapping['DAMMA'] not in tashkeel and diacritics_mapping['KASRA'] not in tashkeel))\n",
    "print('yarab', (diacritics_mapping['SUKUN'] in tashkeel and diacritics_mapping['SHADDA'] not in shadda))"
   ]
  },
  {
   "cell_type": "code",
   "execution_count": 314,
   "metadata": {},
   "outputs": [],
   "source": [
    "# firstly, initialize an empty dictionary for the 'prior' feature\n",
    "# the value will be the 8 arabic marks (FATHA, DAMMA, KASRA, FATHATAN, DAMMATAN, KASRATAN, SUKUN, SHADDA) as a binary vector\n",
    "\n",
    "# then, loop over the tokenized input and check if the each character and word pair is not in the dictionary, get the indices of this word and its duplicates in the tokenized input array\n",
    "def get_prior(tokenized_input, gold_output):\n",
    "    prior = {}  # this dictionary will hold a key of tuple of 3 elements (word, character, index of character in the word) and the value will be the 8 arabic marks\n",
    "    for i in range(len(tokenized_input)):\n",
    "        if (tokenized_input[i], tokenized_input[i][0], 0) not in prior:\n",
    "            # get the indices of the word in the tokenized input array\n",
    "            indices = [j for j, x in enumerate(tokenized_input) if x == tokenized_input[i]]\n",
    "            print(indices)\n",
    "            # get the words in the gold_output array with the same indices\n",
    "            words = []\n",
    "            maxi_len = 0\n",
    "            for j in indices:\n",
    "                if gold_output[j] not in words:\n",
    "                    words.append(gold_output[j])\n",
    "                    maxi_len = max(maxi_len, len(gold_output[j]))\n",
    "\n",
    "            for t in range(len(tokenized_input[i])):\n",
    "                prior[(tokenized_input[i], tokenized_input[i][t], t)] = [0, 0, 0, 0, 0, 0, 0, 0] # initialize the value of the key with zeros\n",
    "            \n",
    "            indx2 = 0\n",
    "            for word in words:\n",
    "                indx = 0\n",
    "                while indx < maxi_len:\n",
    "                    # extract the diacritics of word[indx]\n",
    "                    for iter in range(indx+1, len(word)):\n",
    "                        if is_not_arabic_diacritic(word[iter]):\n",
    "                            # print(iter)\n",
    "                            letter, tashkeel, shadda = araby.separate(word[indx: iter], extract_shadda=True) \n",
    "                            if diacritics_mapping['FATHA'] in tashkeel:         prior[(tokenized_input[i], word[indx], indx2)][0] = 1 \n",
    "                            if diacritics_mapping['DAMMA'] in tashkeel:         prior[(tokenized_input[i], word[indx], indx2)][1] = 1\n",
    "                            if diacritics_mapping['KASRA'] in tashkeel:         prior[(tokenized_input[i], word[indx], indx2)][2] = 1\n",
    "                            if diacritics_mapping['FATHATAN'] in tashkeel:      prior[(tokenized_input[i], word[indx], indx2)][3] = 1\n",
    "                            if diacritics_mapping['DAMMATAN'] in tashkeel:      prior[(tokenized_input[i], word[indx], indx2)][4] = 1\n",
    "                            if diacritics_mapping['KASRATAN'] in tashkeel:      prior[(tokenized_input[i], word[indx], indx2)][5] = 1\n",
    "                            if (diacritics_mapping['SUKUN'] in tashkeel and diacritics_mapping['SHADDA'] not in shadda):  \n",
    "                                prior[(tokenized_input[i], word[indx], indx2)][6] = 1 # if the letter has SHADDA, araby.separate() will return SUKUN in tashkeel and SHADDA in shadda, so to avoid this mislabeling we check if SHADDA not in shadda and if SUKUN in tashkeel, then this is a true SUKUN\n",
    "                            if diacritics_mapping['SHADDA'] in shadda:          prior[(tokenized_input[i], word[indx], indx2)][7] = 1\n",
    "                            indx = iter - 1\n",
    "                            indx2 += 1\n",
    "                            break \n",
    "                    indx += 1\n",
    "                indx2 = 0\n",
    "\n",
    "\n",
    "                indx = len(word) - 1    # my assumption is that the last character in the not a diacritic\n",
    "                if (not is_not_arabic_diacritic(word[len(word) - 1]) and is_not_arabic_diacritic(word[len(word) - 2])):  # if the last character is a diacritic and the one before it is not, then the index of the last character is len(word) - 2\n",
    "                    indx = len(word) - 2\n",
    "                elif (not is_not_arabic_diacritic(word[len(word) - 1]) and not is_not_arabic_diacritic(word[len(word) - 2])):  # if the last character is a diacritic and the one before it is also a diacritic (in shadda case), then the index of the last character is len(word) - 3\n",
    "                    indx = len(word) - 3\n",
    "\n",
    "\n",
    "                if (tokenized_input[i], word[indx], indx) not in prior:\n",
    "                    letter, tashkeel, shadda = araby.separate(word[indx: len(word)], extract_shadda=True) \n",
    "                    if diacritics_mapping['FATHA'] in tashkeel:         prior[(tokenized_input[i], word[indx], len(tokenized_input[i])-1)][0] = 1\n",
    "                    if diacritics_mapping['DAMMA'] in tashkeel:         prior[(tokenized_input[i], word[indx], len(tokenized_input[i])-1)][1] = 1\n",
    "                    if diacritics_mapping['KASRA'] in tashkeel:         prior[(tokenized_input[i], word[indx], len(tokenized_input[i])-1)][2] = 1 \n",
    "                    if diacritics_mapping['FATHATAN'] in tashkeel:      prior[(tokenized_input[i], word[indx], len(tokenized_input[i])-1)][3] = 1 \n",
    "                    if diacritics_mapping['DAMMATAN'] in tashkeel:      prior[(tokenized_input[i], word[indx], len(tokenized_input[i])-1)][4] = 1 \n",
    "                    if diacritics_mapping['KASRATAN'] in tashkeel:      prior[(tokenized_input[i], word[indx], len(tokenized_input[i])-1)][5] = 1\n",
    "                    if (diacritics_mapping['SUKUN'] in tashkeel and diacritics_mapping['SHADDA'] not in shadda):\n",
    "                        prior[(tokenized_input[i], word[indx], len(tokenized_input[i])-1)][6] = 1  # if the letter has SHADDA, araby.separate() will return SUKUN in tashkeel and SHADDA in shadda, so to avoid this mislabeling we check if SHADDA not in shadda and if SUKUN in tashkeel, then this is a true SUKUN\n",
    "                    if diacritics_mapping['SHADDA'] in shadda:          prior[(tokenized_input[i], word[indx], len(tokenized_input[i])-1)][7] = 1\n",
    "                    \n",
    "    return prior"
   ]
  },
  {
   "cell_type": "code",
   "execution_count": 315,
   "metadata": {},
   "outputs": [
    {
     "name": "stdout",
     "output_type": "stream",
     "text": [
      "[0, 1]\n",
      "[2, 3]\n",
      "[4, 5]\n",
      "[6]\n",
      "{('كإنكار', 'ك', 0): [1, 0, 0, 0, 0, 0, 0, 0], ('كإنكار', 'إ', 1): [0, 0, 1, 0, 0, 0, 0, 0], ('كإنكار', 'ن', 2): [0, 0, 0, 0, 0, 0, 1, 0], ('كإنكار', 'ك', 3): [1, 0, 0, 0, 0, 0, 0, 0], ('كإنكار', 'ا', 4): [0, 0, 0, 0, 0, 0, 0, 0], ('كإنكار', 'ر', 5): [0, 0, 1, 0, 0, 1, 0, 0], ('بقذر', 'ب', 0): [0, 0, 1, 0, 0, 0, 0, 0], ('بقذر', 'ق', 1): [1, 0, 0, 0, 0, 0, 0, 0], ('بقذر', 'ذ', 2): [1, 0, 0, 0, 0, 0, 0, 0], ('بقذر', 'ر', 3): [0, 0, 0, 0, 0, 1, 0, 0], ('أكثر', 'أ', 0): [1, 0, 0, 0, 0, 0, 0, 0], ('أكثر', 'ك', 1): [0, 0, 0, 0, 0, 0, 1, 0], ('أكثر', 'ث', 2): [1, 0, 0, 0, 0, 0, 0, 0], ('أكثر', 'ر', 3): [1, 1, 0, 0, 0, 0, 0, 0], ('الزركشي', 'ا', 0): [0, 0, 0, 0, 0, 0, 0, 0], ('الزركشي', 'ل', 1): [0, 0, 0, 0, 0, 0, 0, 0], ('الزركشي', 'ز', 2): [1, 0, 0, 0, 0, 0, 0, 1], ('الزركشي', 'ر', 3): [0, 0, 0, 0, 0, 0, 1, 0], ('الزركشي', 'ك', 4): [1, 0, 0, 0, 0, 0, 0, 0], ('الزركشي', 'ش', 5): [0, 0, 1, 0, 0, 0, 0, 0], ('الزركشي', 'ي', 6): [0, 1, 0, 0, 0, 0, 0, 1]}\n"
     ]
    }
   ],
   "source": [
    "test_tokenized_input = ['كإنكار', 'كإنكار', 'بقذر','بقذر', 'أكثر', 'أكثر', 'الزركشي']\n",
    "test_gold_output = ['كَإِنْكَارِ','كَإِنْكَارٍ', 'بِقَذَر', 'بِقَذَرٍ','أكْثَرَ', 'أَكْثَرُ', 'الزَّرْكَشِيُّ']\n",
    "print (get_prior(test_tokenized_input, test_gold_output))"
   ]
  }
 ],
 "metadata": {
  "kernelspec": {
   "display_name": "base",
   "language": "python",
   "name": "python3"
  },
  "language_info": {
   "codemirror_mode": {
    "name": "ipython",
    "version": 3
   },
   "file_extension": ".py",
   "mimetype": "text/x-python",
   "name": "python",
   "nbconvert_exporter": "python",
   "pygments_lexer": "ipython3",
   "version": "3.11.4"
  }
 },
 "nbformat": 4,
 "nbformat_minor": 2
}
