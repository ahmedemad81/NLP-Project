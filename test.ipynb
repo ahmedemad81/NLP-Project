{
 "cells": [
  {
   "cell_type": "code",
   "execution_count": 4,
   "metadata": {},
   "outputs": [],
   "source": [
    "import pickle\n",
    "import numpy as np\n",
    "import pandas as pd\n",
    "import matplotlib.pyplot as plt\n",
    "import re\n",
    "import pyarabic.araby as araby\n",
    "from keras.preprocessing.text import Tokenizer\n",
    "from keras.preprocessing.sequence import pad_sequences\n",
    "from keras.utils import to_categorical\n",
    "import farasa\n",
    "from farasa.segmenter import FarasaSegmenter "
   ]
  },
  {
   "cell_type": "code",
   "execution_count": 29,
   "metadata": {},
   "outputs": [],
   "source": [
    "# Load the dataset\n",
    "# Specify the file path\n",
    "file_path = \"./dataset/train.txt\"\n",
    "\n",
    "# Read the contents of the file located at file_path \n",
    "# and append each line to the list data_before_preprocessing\n",
    "with open(file_path, 'r', encoding='utf-8') as file:\n",
    "    data_before_preprocessing = file.readlines()\n",
    "    # remove '\\n' from each line\n",
    "    data_before_preprocessing = [line.strip() for line in data_before_preprocessing]\n",
    "    \n",
    "    "
   ]
  },
  {
   "cell_type": "code",
   "execution_count": 62,
   "metadata": {},
   "outputs": [],
   "source": [
    "# Remove diacritics\n",
    "def remove_diacritics(text):\n",
    "    text = araby.strip_tashkeel(text)\n",
    "    return text\n",
    "\n",
    "# Remove any non-Arabic letters\n",
    "def remove_non_arabic(text):\n",
    "    text = re.sub(r'[^\\u0600-\\u06FF\\s]|،|؛', '', text)\n",
    "    return text\n",
    "\n",
    "def input_preprocessing_text(text):\n",
    "    # Correct most common errors on word like repetetion of harakats, or tanween before alef\n",
    "    text = araby.autocorrect(text)\n",
    "\n",
    "    # Remove any non-Arabic letters\n",
    "    text = remove_non_arabic(text)\n",
    "\n",
    "    # Remove diacritics\n",
    "    text = remove_diacritics(text)\n",
    "\n",
    "    # Tokenize\n",
    "    text = araby.tokenize(text)\n",
    "\n",
    "    return text\n",
    "\n",
    "def save_tokenized_input(text):\n",
    "    words = input_preprocessing_text(text)\n",
    "    # Write and append on the tokenized input to a file\n",
    "    with open('./generatedFiles/tokenized_input.txt', 'a', encoding='utf-8') as file:\n",
    "        for word in words:\n",
    "            file.write(word + '\\n')\n",
    "\n",
    "def save_gold_output(text):\n",
    "    # Remove any non-Arabic letters and extra spaces\n",
    "    text = remove_non_arabic(text)\n",
    "\n",
    "    # Tokenize\n",
    "    text = araby.tokenize(text)\n",
    "\n",
    "    # Write and append on the gold output to a file\n",
    "    with open('./generatedFiles/gold_output.txt', 'a', encoding='utf-8') as file:\n",
    "        for word in text:\n",
    "            # if last word in the text don't add '\\n'\n",
    "            file.write(word + '\\n')"
   ]
  },
  {
   "cell_type": "code",
   "execution_count": 30,
   "metadata": {},
   "outputs": [],
   "source": [
    "# # RUN ONE TIME ONLY THIS CODE AGAIN \n",
    "# # Generate Gold Input file\n",
    "# for i in range(len(data_before_preprocessing)):\n",
    "#     save_tokenized_input(data_before_preprocessing[i])"
   ]
  },
  {
   "cell_type": "code",
   "execution_count": 31,
   "metadata": {},
   "outputs": [],
   "source": [
    "# #RUN ONE TIME ONLY THIS CODE AGAIN\n",
    "# # Generate Gold Output file\n",
    "# for i in range(len(data_before_preprocessing)):\n",
    "#     test = data_before_preprocessing[i]\n",
    "#     text1 = save_gold_output(test)"
   ]
  },
  {
   "cell_type": "code",
   "execution_count": 27,
   "metadata": {},
   "outputs": [
    {
     "name": "stdout",
     "output_type": "stream",
     "text": [
      "['قال', 'ابن', 'القاسم', 'قال', 'مالك', 'في', 'مكي', 'أحرم', 'بحجة', 'من', 'الحرم', 'ثم', 'أحصر', 'أنه', 'يخرج', 'إلى', 'الحل', 'فيلبي', 'من', 'هناك', 'لأنه', 'أمر', 'من', 'فاته', 'الحج', 'وقد', 'أحرم', 'من', 'مكة', 'أن', 'يخرج', 'إلى', 'الحل', 'فيعمل', 'فيما', 'بقي', 'عليه', 'ما', 'يعمل', 'المعتمر', 'ويحل']\n",
      "[('ق', 'فتحة', 'تطويل'), ('ا', 'تطويل', 'تطويل'), ('ل', 'فتحة', 'تطويل'), ('ا', 'تطويل', 'تطويل'), ('ب', 'سكون', 'تطويل'), ('ن', 'ضمة', 'تطويل'), ('ا', 'تطويل', 'تطويل'), ('ل', 'سكون', 'تطويل'), ('ق', 'فتحة', 'تطويل'), ('ا', 'تطويل', 'تطويل'), ('س', 'كسرة', 'تطويل'), ('م', 'كسرة', 'تطويل'), ('ق', 'فتحة', 'تطويل'), ('ا', 'تطويل', 'تطويل'), ('ل', 'فتحة', 'تطويل'), ('م', 'فتحة', 'تطويل'), ('ا', 'تطويل', 'تطويل'), ('ل', 'كسرة', 'تطويل'), ('ك', 'ضمتان', 'تطويل'), ('ف', 'كسرة', 'تطويل'), ('ي', 'تطويل', 'تطويل'), ('م', 'فتحة', 'تطويل'), ('ك', 'سكون', 'شدة'), ('ي', 'كسرة', 'شدة'), ('أ', 'فتحة', 'تطويل'), ('ح', 'سكون', 'تطويل'), ('ر', 'فتحة', 'تطويل'), ('م', 'فتحة', 'تطويل'), ('ب', 'كسرة', 'تطويل'), ('ح', 'فتحة', 'تطويل'), ('ج', 'سكون', 'شدة'), ('ة', 'فتحة', 'تطويل'), ('م', 'كسرة', 'تطويل'), ('ن', 'سكون', 'تطويل'), ('ا', 'تطويل', 'تطويل'), ('ل', 'سكون', 'تطويل'), ('ح', 'فتحة', 'تطويل'), ('ر', 'فتحة', 'تطويل'), ('م', 'كسرة', 'تطويل'), ('ث', 'ضمة', 'تطويل'), ('م', 'سكون', 'شدة'), ('أ', 'ضمة', 'تطويل'), ('ح', 'سكون', 'تطويل'), ('ص', 'كسرة', 'تطويل'), ('ر', 'فتحة', 'تطويل'), ('أ', 'فتحة', 'تطويل'), ('ن', 'سكون', 'شدة'), ('ه', 'فتحة', 'تطويل'), ('ي', 'فتحة', 'تطويل'), ('خ', 'سكون', 'تطويل'), ('ر', 'ضمة', 'تطويل'), ('ج', 'ضمة', 'تطويل'), ('إ', 'تطويل', 'تطويل'), ('ل', 'فتحة', 'تطويل'), ('ى', 'تطويل', 'تطويل'), ('ا', 'تطويل', 'تطويل'), ('ل', 'سكون', 'تطويل'), ('ح', 'كسرة', 'تطويل'), ('ل', 'سكون', 'شدة'), ('ف', 'فتحة', 'تطويل'), ('ي', 'ضمة', 'تطويل'), ('ل', 'فتحة', 'تطويل'), ('ب', 'سكون', 'شدة'), ('ي', 'كسرة', 'تطويل'), ('م', 'كسرة', 'تطويل'), ('ن', 'سكون', 'تطويل'), ('ه', 'ضمة', 'تطويل'), ('ن', 'فتحة', 'تطويل'), ('ا', 'تطويل', 'تطويل'), ('ك', 'فتحة', 'تطويل'), ('ل', 'كسرة', 'تطويل'), ('أ', 'فتحة', 'تطويل'), ('ن', 'سكون', 'شدة'), ('ه', 'فتحة', 'تطويل'), ('أ', 'فتحة', 'تطويل'), ('م', 'فتحة', 'تطويل'), ('ر', 'فتحة', 'تطويل'), ('م', 'فتحة', 'تطويل'), ('ن', 'سكون', 'تطويل'), ('ف', 'فتحة', 'تطويل'), ('ا', 'تطويل', 'تطويل'), ('ت', 'فتحة', 'تطويل'), ('ه', 'ضمة', 'تطويل'), ('ا', 'تطويل', 'تطويل'), ('ل', 'سكون', 'تطويل'), ('ح', 'فتحة', 'تطويل'), ('ج', 'سكون', 'شدة'), ('و', 'فتحة', 'تطويل'), ('ق', 'فتحة', 'تطويل'), ('د', 'سكون', 'تطويل'), ('أ', 'فتحة', 'تطويل'), ('ح', 'سكون', 'تطويل'), ('ر', 'فتحة', 'تطويل'), ('م', 'فتحة', 'تطويل'), ('م', 'كسرة', 'تطويل'), ('ن', 'سكون', 'تطويل'), ('م', 'فتحة', 'تطويل'), ('ك', 'سكون', 'شدة'), ('ة', 'فتحة', 'تطويل'), ('أ', 'فتحة', 'تطويل'), ('ن', 'سكون', 'تطويل'), ('ي', 'فتحة', 'تطويل'), ('خ', 'سكون', 'تطويل'), ('ر', 'ضمة', 'تطويل'), ('ج', 'فتحة', 'تطويل'), ('إ', 'تطويل', 'تطويل'), ('ل', 'فتحة', 'تطويل'), ('ى', 'تطويل', 'تطويل'), ('ا', 'تطويل', 'تطويل'), ('ل', 'سكون', 'تطويل'), ('ح', 'كسرة', 'تطويل'), ('ل', 'سكون', 'شدة'), ('ف', 'فتحة', 'تطويل'), ('ي', 'فتحة', 'تطويل'), ('ع', 'سكون', 'تطويل'), ('م', 'فتحة', 'تطويل'), ('ل', 'فتحة', 'تطويل'), ('ف', 'كسرة', 'تطويل'), ('ي', 'تطويل', 'تطويل'), ('م', 'فتحة', 'تطويل'), ('ا', 'تطويل', 'تطويل'), ('ب', 'فتحة', 'تطويل'), ('ق', 'كسرة', 'تطويل'), ('ي', 'فتحة', 'تطويل'), ('ع', 'فتحة', 'تطويل'), ('ل', 'فتحة', 'تطويل'), ('ي', 'سكون', 'تطويل'), ('ه', 'كسرة', 'تطويل'), ('م', 'فتحة', 'تطويل'), ('ا', 'تطويل', 'تطويل'), ('ي', 'فتحة', 'تطويل'), ('ع', 'سكون', 'تطويل'), ('م', 'فتحة', 'تطويل'), ('ل', 'ضمة', 'تطويل'), ('ا', 'تطويل', 'تطويل'), ('ل', 'سكون', 'تطويل'), ('م', 'ضمة', 'تطويل'), ('ع', 'سكون', 'تطويل'), ('ت', 'فتحة', 'تطويل'), ('م', 'كسرة', 'تطويل'), ('ر', 'ضمة', 'تطويل'), ('و', 'فتحة', 'تطويل'), ('ي', 'ضمة', 'تطويل'), ('ح', 'كسرة', 'تطويل'), ('ل', 'سكون', 'شدة')]\n"
     ]
    }
   ],
   "source": [
    "# For testing\n",
    "test = \"قَالَ ابْنُ الْقَاسِمِ : قَالَ مَالِكٌ فِي مَكِّيٍّ أَحْرَمَ بِحَجَّةٍ مِنْ الْحَرَمِ ثُمَّ أُحْصِرَ ، أَنَّهُ يَخْرُجُ إلَى الْحِلِّ فَيُلَبِّي مِنْ هُنَاكَ لِأَنَّهُ أَمَرَ مَنْ فَاتَهُ الْحَجُّ وَقَدْ أَحْرَمَ مِنْ مَكَّةَ ، أَنْ يَخْرُجَ إلَى الْحِلِّ فَيَعْمَلَ فِيمَا بَقِيَ عَلَيْهِ مَا يَعْمَلُ الْمُعْتَمِرُ وَيُحِلُّ .( 2 / 437 ) \"\n",
    "text2 = input_preprocessing_text(test)\n",
    "print(text2)\n",
    "text3 = remove_non_arabic(test)"
   ]
  },
  {
   "cell_type": "code",
   "execution_count": 39,
   "metadata": {},
   "outputs": [
    {
     "name": "stdout",
     "output_type": "stream",
     "text": [
      "('و', 'َ', 'ـ')\n",
      "('ي', 'ُ', 'ـ')\n",
      "('ح', 'ِ', 'ـ')\n",
      "('ل', 'ْ', 'ّ')\n"
     ]
    }
   ],
   "source": [
    "# Important functions in PyArabic\n",
    "\n",
    "# araby.tokenize(text) # Tokenize the sentence text into words\n",
    "# araby.is_arabicrange(text) # Check if the text is Arabic\n",
    "# araby.sentence_tokenize(text) # Tokenize the text into sentences\n",
    "# araby.strip_tashkeel(text) # Remove diacritics (FATHA, DAMMA, KASRA, SUKUN, SHADDA, FATHATAN, DAMMATAN, KASRATAN)\n",
    "# araby.strip_diacritics(text) # Remove diacritics (Small Alef الألف الخنجرية, Harakat + Shadda, Quranic marks)\n",
    "# araby.strip_tatweel(text) # Remove tatweel\n",
    "# araby.strip_shadda(text) # Remove shadda\n",
    "# araby.autocorrect(text) # Correct most common errors on word like repetetion of harakats,or tanwin befor alef\n",
    "# araby.arabicrange() # Return a list of Arabic characters\n",
    "\n",
    "# New Functions in PyArabic\n",
    "# araby.vocalized_similarity(word1, word2) # if the two words has the same letters and the same harakats, this function return True. \n",
    "# The two words can be full vocalized, or partial vocalized\n",
    "\n",
    "# araby.vocalizedlike(word1, word2) Same as vocalized_similarity but return True and False\n",
    "\n",
    "# araby.joint(word1, word2) # joint the letters with the marks the length ot letters and marks must be equal return word\n",
    "\n",
    "\n",
    "\n",
    "# Return the text, its tashkeel and shadda if extract_shadda is True\n",
    "# text, marks, shada = araby.separate(text,extract_shadda=True) # Separate diacritics from the text\n",
    "# print (text)\n",
    "# for m in marks:\n",
    "#     print (araby.name(m))\n",
    "\n",
    "# for s in shada:\n",
    "#     print (araby.name(s))"
   ]
  },
  {
   "cell_type": "code",
   "execution_count": 32,
   "metadata": {},
   "outputs": [
    {
     "name": "stdout",
     "output_type": "stream",
     "text": [
      "2104308\n",
      "['قوله', 'أو', 'قطع', 'الأول', 'يده', 'إلخ', 'قال', 'الزركشي', 'ابن', 'عرفة']\n"
     ]
    }
   ],
   "source": [
    "# read the tokenized input file\n",
    "with open('./generatedFiles/tokenized_input.txt', 'r', encoding='utf-8') as file:\n",
    "    tokenized_input = file.readlines()\n",
    "    print(len(tokenized_input))\n",
    "    # Remove '\\n' from each line\n",
    "    tokenized_input = [line.strip() for line in tokenized_input]\n",
    "    # Put the tokenized input of length 1 in tokenized_input list \n",
    "    # tokenized_input = [(line.strip(), i) for i,line in enumerate(tokenized_input) if (len(line.strip())== 1 and line.strip() != '؟')]\n",
    "\n",
    "print(tokenized_input[:10])\n",
    "\n"
   ]
  },
  {
   "cell_type": "code",
   "execution_count": 33,
   "metadata": {},
   "outputs": [
    {
     "name": "stdout",
     "output_type": "stream",
     "text": [
      "2104308\n"
     ]
    }
   ],
   "source": [
    "print(len(tokenized_input))"
   ]
  },
  {
   "cell_type": "markdown",
   "metadata": {},
   "source": [
    "# **Core Word (CW) Diacritization**"
   ]
  },
  {
   "cell_type": "markdown",
   "metadata": {},
   "source": [
    "## **Feature Extraction**"
   ]
  },
  {
   "cell_type": "markdown",
   "metadata": {},
   "source": [
    "### 1 - Characters: \n",
    "Here we extract each character from all tokenized words and create a vector of size 50 for each character."
   ]
  },
  {
   "cell_type": "code",
   "execution_count": 13,
   "metadata": {},
   "outputs": [],
   "source": [
    "tokenizer_char = Tokenizer(char_level=True)\n",
    "tokenizer_char.fit_on_texts(tokenized_input)\n",
    "sequences_char = tokenizer_char.texts_to_sequences(tokenized_input)\n",
    "char_features = pad_sequences(sequences_char)   # padding the sequences to have the same length as the longest sequence (word)\n",
    "char_embeddings = np.random.rand(len(tokenizer_char.word_index) + 1, 50)"
   ]
  },
  {
   "cell_type": "code",
   "execution_count": 14,
   "metadata": {},
   "outputs": [
    {
     "name": "stdout",
     "output_type": "stream",
     "text": [
      "(2104308, 13)\n",
      "(38, 50)\n"
     ]
    }
   ],
   "source": [
    "print(char_features.shape) # (number of words, max length of word in the dataset)\n",
    "\n",
    "\n",
    "print(char_embeddings.shape)\n",
    "\n",
    "# 38 rows: 37 unique characters identified by the tokenizer, 1 row for handling characters not seen in the training data\n",
    "# 50 columns: Each character is encoded as a 50-dimensional vector"
   ]
  },
  {
   "cell_type": "code",
   "execution_count": 18,
   "metadata": {},
   "outputs": [
    {
     "name": "stdout",
     "output_type": "stream",
     "text": [
      "[ 0  0  0  0  0  0  0  0  0 13  5  1  7]\n"
     ]
    }
   ],
   "source": [
    "print(char_features[0]) \n",
    "# the number of non zero elements corresponds to the length of the word \n",
    "# and the value of each element corresponds to the index of the character in the tokenizer\n",
    "# which means that every character now is encoded as a number and this number is the index of the character in the tokenizer"
   ]
  },
  {
   "cell_type": "code",
   "execution_count": 16,
   "metadata": {},
   "outputs": [
    {
     "name": "stdout",
     "output_type": "stream",
     "text": [
      "[0.65808165 0.67859712 0.37857418 0.05729307 0.16844044 0.09742982\n",
      " 0.2169748  0.91470632 0.43389268 0.58588166 0.54723408 0.12546778\n",
      " 0.17251674 0.44287323 0.16775361 0.33303545 0.44449254 0.205117\n",
      " 0.16857703 0.36003937 0.10014065 0.08227665 0.38123091 0.98653497\n",
      " 0.75348113 0.07184227 0.93294644 0.72263745 0.81069287 0.50381816\n",
      " 0.03120286 0.56881649 0.93061897 0.33776564 0.60368215 0.08283269\n",
      " 0.894368   0.66279828 0.70483728 0.63704414 0.35612931 0.97088608\n",
      " 0.92261441 0.66482183 0.96771065 0.0461699  0.32664472 0.87844461\n",
      " 0.28151782 0.59198042]\n"
     ]
    }
   ],
   "source": [
    "print(char_embeddings[0])\n",
    "# this is the embedding of each character in the tokenizer"
   ]
  },
  {
   "cell_type": "code",
   "execution_count": 17,
   "metadata": {},
   "outputs": [
    {
     "name": "stdout",
     "output_type": "stream",
     "text": [
      "(13, 50)\n",
      "[[0.65808165 0.67859712 0.37857418 0.05729307 0.16844044 0.09742982\n",
      "  0.2169748  0.91470632 0.43389268 0.58588166 0.54723408 0.12546778\n",
      "  0.17251674 0.44287323 0.16775361 0.33303545 0.44449254 0.205117\n",
      "  0.16857703 0.36003937 0.10014065 0.08227665 0.38123091 0.98653497\n",
      "  0.75348113 0.07184227 0.93294644 0.72263745 0.81069287 0.50381816\n",
      "  0.03120286 0.56881649 0.93061897 0.33776564 0.60368215 0.08283269\n",
      "  0.894368   0.66279828 0.70483728 0.63704414 0.35612931 0.97088608\n",
      "  0.92261441 0.66482183 0.96771065 0.0461699  0.32664472 0.87844461\n",
      "  0.28151782 0.59198042]\n",
      " [0.65808165 0.67859712 0.37857418 0.05729307 0.16844044 0.09742982\n",
      "  0.2169748  0.91470632 0.43389268 0.58588166 0.54723408 0.12546778\n",
      "  0.17251674 0.44287323 0.16775361 0.33303545 0.44449254 0.205117\n",
      "  0.16857703 0.36003937 0.10014065 0.08227665 0.38123091 0.98653497\n",
      "  0.75348113 0.07184227 0.93294644 0.72263745 0.81069287 0.50381816\n",
      "  0.03120286 0.56881649 0.93061897 0.33776564 0.60368215 0.08283269\n",
      "  0.894368   0.66279828 0.70483728 0.63704414 0.35612931 0.97088608\n",
      "  0.92261441 0.66482183 0.96771065 0.0461699  0.32664472 0.87844461\n",
      "  0.28151782 0.59198042]\n",
      " [0.65808165 0.67859712 0.37857418 0.05729307 0.16844044 0.09742982\n",
      "  0.2169748  0.91470632 0.43389268 0.58588166 0.54723408 0.12546778\n",
      "  0.17251674 0.44287323 0.16775361 0.33303545 0.44449254 0.205117\n",
      "  0.16857703 0.36003937 0.10014065 0.08227665 0.38123091 0.98653497\n",
      "  0.75348113 0.07184227 0.93294644 0.72263745 0.81069287 0.50381816\n",
      "  0.03120286 0.56881649 0.93061897 0.33776564 0.60368215 0.08283269\n",
      "  0.894368   0.66279828 0.70483728 0.63704414 0.35612931 0.97088608\n",
      "  0.92261441 0.66482183 0.96771065 0.0461699  0.32664472 0.87844461\n",
      "  0.28151782 0.59198042]\n",
      " [0.65808165 0.67859712 0.37857418 0.05729307 0.16844044 0.09742982\n",
      "  0.2169748  0.91470632 0.43389268 0.58588166 0.54723408 0.12546778\n",
      "  0.17251674 0.44287323 0.16775361 0.33303545 0.44449254 0.205117\n",
      "  0.16857703 0.36003937 0.10014065 0.08227665 0.38123091 0.98653497\n",
      "  0.75348113 0.07184227 0.93294644 0.72263745 0.81069287 0.50381816\n",
      "  0.03120286 0.56881649 0.93061897 0.33776564 0.60368215 0.08283269\n",
      "  0.894368   0.66279828 0.70483728 0.63704414 0.35612931 0.97088608\n",
      "  0.92261441 0.66482183 0.96771065 0.0461699  0.32664472 0.87844461\n",
      "  0.28151782 0.59198042]\n",
      " [0.65808165 0.67859712 0.37857418 0.05729307 0.16844044 0.09742982\n",
      "  0.2169748  0.91470632 0.43389268 0.58588166 0.54723408 0.12546778\n",
      "  0.17251674 0.44287323 0.16775361 0.33303545 0.44449254 0.205117\n",
      "  0.16857703 0.36003937 0.10014065 0.08227665 0.38123091 0.98653497\n",
      "  0.75348113 0.07184227 0.93294644 0.72263745 0.81069287 0.50381816\n",
      "  0.03120286 0.56881649 0.93061897 0.33776564 0.60368215 0.08283269\n",
      "  0.894368   0.66279828 0.70483728 0.63704414 0.35612931 0.97088608\n",
      "  0.92261441 0.66482183 0.96771065 0.0461699  0.32664472 0.87844461\n",
      "  0.28151782 0.59198042]\n",
      " [0.65808165 0.67859712 0.37857418 0.05729307 0.16844044 0.09742982\n",
      "  0.2169748  0.91470632 0.43389268 0.58588166 0.54723408 0.12546778\n",
      "  0.17251674 0.44287323 0.16775361 0.33303545 0.44449254 0.205117\n",
      "  0.16857703 0.36003937 0.10014065 0.08227665 0.38123091 0.98653497\n",
      "  0.75348113 0.07184227 0.93294644 0.72263745 0.81069287 0.50381816\n",
      "  0.03120286 0.56881649 0.93061897 0.33776564 0.60368215 0.08283269\n",
      "  0.894368   0.66279828 0.70483728 0.63704414 0.35612931 0.97088608\n",
      "  0.92261441 0.66482183 0.96771065 0.0461699  0.32664472 0.87844461\n",
      "  0.28151782 0.59198042]\n",
      " [0.65808165 0.67859712 0.37857418 0.05729307 0.16844044 0.09742982\n",
      "  0.2169748  0.91470632 0.43389268 0.58588166 0.54723408 0.12546778\n",
      "  0.17251674 0.44287323 0.16775361 0.33303545 0.44449254 0.205117\n",
      "  0.16857703 0.36003937 0.10014065 0.08227665 0.38123091 0.98653497\n",
      "  0.75348113 0.07184227 0.93294644 0.72263745 0.81069287 0.50381816\n",
      "  0.03120286 0.56881649 0.93061897 0.33776564 0.60368215 0.08283269\n",
      "  0.894368   0.66279828 0.70483728 0.63704414 0.35612931 0.97088608\n",
      "  0.92261441 0.66482183 0.96771065 0.0461699  0.32664472 0.87844461\n",
      "  0.28151782 0.59198042]\n",
      " [0.65808165 0.67859712 0.37857418 0.05729307 0.16844044 0.09742982\n",
      "  0.2169748  0.91470632 0.43389268 0.58588166 0.54723408 0.12546778\n",
      "  0.17251674 0.44287323 0.16775361 0.33303545 0.44449254 0.205117\n",
      "  0.16857703 0.36003937 0.10014065 0.08227665 0.38123091 0.98653497\n",
      "  0.75348113 0.07184227 0.93294644 0.72263745 0.81069287 0.50381816\n",
      "  0.03120286 0.56881649 0.93061897 0.33776564 0.60368215 0.08283269\n",
      "  0.894368   0.66279828 0.70483728 0.63704414 0.35612931 0.97088608\n",
      "  0.92261441 0.66482183 0.96771065 0.0461699  0.32664472 0.87844461\n",
      "  0.28151782 0.59198042]\n",
      " [0.65808165 0.67859712 0.37857418 0.05729307 0.16844044 0.09742982\n",
      "  0.2169748  0.91470632 0.43389268 0.58588166 0.54723408 0.12546778\n",
      "  0.17251674 0.44287323 0.16775361 0.33303545 0.44449254 0.205117\n",
      "  0.16857703 0.36003937 0.10014065 0.08227665 0.38123091 0.98653497\n",
      "  0.75348113 0.07184227 0.93294644 0.72263745 0.81069287 0.50381816\n",
      "  0.03120286 0.56881649 0.93061897 0.33776564 0.60368215 0.08283269\n",
      "  0.894368   0.66279828 0.70483728 0.63704414 0.35612931 0.97088608\n",
      "  0.92261441 0.66482183 0.96771065 0.0461699  0.32664472 0.87844461\n",
      "  0.28151782 0.59198042]\n",
      " [0.31757893 0.55440068 0.5517314  0.75772581 0.72567876 0.64001403\n",
      "  0.08101882 0.47772671 0.66000904 0.40408533 0.71140741 0.28691021\n",
      "  0.31187809 0.21884817 0.88496511 0.50768249 0.13514787 0.4895502\n",
      "  0.27463723 0.36194394 0.04735811 0.084196   0.76362065 0.86850145\n",
      "  0.43223871 0.52551333 0.0078482  0.04958487 0.73714832 0.50858693\n",
      "  0.86257173 0.71433622 0.64313021 0.91540662 0.54379541 0.92488352\n",
      "  0.44145275 0.28341887 0.2190596  0.78323367 0.82802535 0.8149444\n",
      "  0.43830495 0.9652569  0.19815845 0.69004058 0.10430045 0.24438398\n",
      "  0.14925652 0.70892601]\n",
      " [0.48733363 0.45950474 0.70081758 0.22733451 0.40430193 0.76074448\n",
      "  0.54595792 0.40321282 0.15984464 0.37695241 0.42679462 0.57109756\n",
      "  0.37785502 0.31791424 0.49248359 0.1939258  0.44441705 0.27820608\n",
      "  0.15052054 0.71119724 0.47592295 0.32407213 0.78164108 0.75383741\n",
      "  0.1217668  0.2263418  0.95561807 0.94496725 0.55639837 0.24907842\n",
      "  0.51868089 0.67583747 0.21525997 0.75646205 0.07874734 0.99234913\n",
      "  0.98280155 0.37852761 0.87566313 0.36884152 0.54163013 0.52237648\n",
      "  0.76051127 0.56283656 0.82527179 0.37008864 0.25526742 0.60405643\n",
      "  0.91430451 0.51186226]\n",
      " [0.85652336 0.41200087 0.68022773 0.61547895 0.29125947 0.64302412\n",
      "  0.10733013 0.27381069 0.09419166 0.82626791 0.39080384 0.50594975\n",
      "  0.20767016 0.80956323 0.35033487 0.61307833 0.89061913 0.62860682\n",
      "  0.75045694 0.06634533 0.38671877 0.42449241 0.63645519 0.98694574\n",
      "  0.60640701 0.48592452 0.41126499 0.03472134 0.55899633 0.01033198\n",
      "  0.1590964  0.34727165 0.36755797 0.24188256 0.37444976 0.12137278\n",
      "  0.7178731  0.62063503 0.98923334 0.43512105 0.70713645 0.15793932\n",
      "  0.23139888 0.8194943  0.03266666 0.29862726 0.57500288 0.39104524\n",
      "  0.72768541 0.30018937]\n",
      " [0.54884113 0.26400592 0.97448704 0.95083479 0.21264857 0.66830504\n",
      "  0.78649368 0.88611693 0.36477076 0.61090884 0.65768436 0.26103829\n",
      "  0.82719327 0.75884561 0.59588326 0.76703254 0.3939318  0.23406388\n",
      "  0.08657818 0.13956542 0.14936964 0.43462078 0.50126962 0.31617779\n",
      "  0.88676529 0.65990597 0.57563486 0.24065104 0.90336477 0.04803493\n",
      "  0.88949799 0.60764081 0.8056868  0.2071098  0.06572012 0.06974149\n",
      "  0.62183907 0.51765296 0.22476214 0.41856424 0.06141878 0.38197389\n",
      "  0.10051853 0.19197628 0.45534479 0.11746041 0.48819846 0.54995622\n",
      "  0.88406072 0.77912501]]\n"
     ]
    }
   ],
   "source": [
    "print(char_embeddings[char_features[0]].shape)\n",
    "# 13 is the word of characters and 50 is the embedding size of each character\n",
    "\n",
    "print(char_embeddings[char_features[0]])\n",
    "# this is the embedding of each character in the first tokenized word, this is the 1st feature and the input of the model"
   ]
  },
  {
   "cell_type": "markdown",
   "metadata": {},
   "source": [
    "### 2 - The position of the character in a word segment:\n",
    "For example, given the word “wAlktAb” , which is composed of three segments “w+Al+ktAb”. Letters were marked as “B” if they begin a segment, “M” if they are in the middle of a segment, “E” if they end a segment, and “S” if they are single letter segments. So for “w+Al+ktAb”, the corresponding character positions are “S+BE+BMME.”"
   ]
  },
  {
   "cell_type": "code",
   "execution_count": 12,
   "metadata": {},
   "outputs": [
    {
     "name": "stderr",
     "output_type": "stream",
     "text": [
      "d:\\anaconda3\\Lib\\site-packages\\urllib3\\connectionpool.py:1061: InsecureRequestWarning: Unverified HTTPS request is being made to host 'farasa-api.qcri.org'. Adding certificate verification is strongly advised. See: https://urllib3.readthedocs.io/en/1.26.x/advanced-usage.html#ssl-warnings\n",
      "  warnings.warn(\n"
     ]
    },
    {
     "name": "stdout",
     "output_type": "stream",
     "text": [
      "100%|██████████| 241M/241M [05:22<00:00, 749kiB/s] \n"
     ]
    },
    {
     "name": "stderr",
     "output_type": "stream",
     "text": [
      "[2023-12-26 12:58:39,880 - farasapy_logger - WARNING]: Be careful with large lines as they may break on interactive mode. You may switch to Standalone mode for such cases.\n"
     ]
    }
   ],
   "source": [
    "segmenter = FarasaSegmenter(interactive=True) # The default behaviour"
   ]
  },
  {
   "cell_type": "code",
   "execution_count": 14,
   "metadata": {},
   "outputs": [
    {
     "name": "stdout",
     "output_type": "stream",
     "text": [
      "Segmented word: ['ك', 'قلم', 'ه']\n",
      "SEG tags: ['S', 'B', 'M', 'E', 'S']\n"
     ]
    }
   ],
   "source": [
    "def get_seg_tags(word):                 # word = \"wAlktAb\"\n",
    "    segments = segmenter.segment(word)  # segments will be a list: [\"w\", \"Al\", \"ktAb\"]\n",
    "    segments = segments.split('+')\n",
    "    seg_tags = []\n",
    "    for segment in segments:\n",
    "        if len(segment) == 1:\n",
    "            seg_tags.append(\"S\")\n",
    "        else:\n",
    "            seg_tags.append(\"B\")  # First letter\n",
    "            seg_tags.extend(\"M\" * (len(segment) - 2))  # Middle letters\n",
    "            seg_tags.append(\"E\")  # Last letter\n",
    "    return segments, seg_tags\n",
    "\n",
    "word = \"كقلمه\"\n",
    "segments, seg_tags = get_seg_tags(word)\n",
    "print(\"Segmented word:\", segments)\n",
    "print(\"SEG tags:\", seg_tags)\n"
   ]
  },
  {
   "cell_type": "code",
   "execution_count": 55,
   "metadata": {},
   "outputs": [],
   "source": [
    "# # DON'T RUN THIS CODE AGAIN, THIS CELL TOOK 25m 4.5s TO RUN\n",
    "# # The Output of this code is the input_segments.txt file\n",
    "\n",
    "# for i in range(len(tokenized_input)):\n",
    "#     segments, seg_tags = get_seg_tags(tokenized_input[i])\n",
    "#     # Write and append on the tokenized input to a file\n",
    "#     with open('./generatedFiles/input_segments.txt', 'a', encoding='utf-8') as file:\n",
    "#         for tag in seg_tags:\n",
    "#             file.write(tag)\n",
    "#         file.write('\\n')"
   ]
  },
  {
   "cell_type": "code",
   "execution_count": 15,
   "metadata": {},
   "outputs": [
    {
     "name": "stdout",
     "output_type": "stream",
     "text": [
      "2104308\n",
      "['BMES', 'BE', 'BME', 'BEBME', 'BES', 'BME', 'BME', 'BEBMMME', 'BME', 'BMES']\n"
     ]
    }
   ],
   "source": [
    "# Read the input_segments file\n",
    "with open('./generatedFiles/input_segments.txt', 'r', encoding='utf-8') as file:\n",
    "    input_segments = file.readlines()\n",
    "    print(len(input_segments))\n",
    "    # Remove '\\n' from each line\n",
    "    input_segments = [line.strip() for line in input_segments]\n",
    "    # Put the tokenized input of length 1 in the tokenized_input list\n",
    "    # tokenized_input = [(line.strip(), i) for i,line in enumerate(tokenized_input) if (len(line.strip())== 1 and line.strip() != '؟')]\n",
    "\n",
    "print(input_segments[:10])"
   ]
  },
  {
   "cell_type": "code",
   "execution_count": 16,
   "metadata": {},
   "outputs": [],
   "source": [
    "tokenizer_tags = Tokenizer(char_level=True)\n",
    "tokenizer_tags.fit_on_texts(input_segments)\n",
    "sequences_tags = tokenizer_tags.texts_to_sequences(input_segments)\n",
    "tags_features = pad_sequences(sequences_tags)   \n",
    "tags_embeddings = np.random.rand(len(tokenizer_tags.word_index) + 1, 50)"
   ]
  },
  {
   "cell_type": "code",
   "execution_count": 17,
   "metadata": {},
   "outputs": [
    {
     "name": "stdout",
     "output_type": "stream",
     "text": [
      "(2104308, 13)\n",
      "(5, 50)\n"
     ]
    }
   ],
   "source": [
    "print(tags_features.shape) \n",
    "print(tags_embeddings.shape)"
   ]
  },
  {
   "cell_type": "markdown",
   "metadata": {},
   "source": [
    "### 3 - PRIOR: \n",
    "diacritics seen in the training set per segment. Since we used a character-level model, this feature informed the model with word-level information. For example, the word “ktAb”  was observed to have two diacritized forms in the training set, namely “kitaAb” ( – book) and “kut∼aAb” ( – writers). The first letter in the word (“k”) accepted the diacritics “i” and “u.” Thus, given a binary vector representing whether a character is allowed to assume any of the eight primitive Arabic diacritic marks (a, i, u, o, K, N, F, and ∼ in order), the first letter would be given the following vector “01100000.” If a word segment was never observed during training, then the vector for all letters therein would be set to 11111111."
   ]
  },
  {
   "cell_type": "code",
   "execution_count": 11,
   "metadata": {},
   "outputs": [
    {
     "name": "stdout",
     "output_type": "stream",
     "text": [
      "2104308\n",
      "['قَوْلُهُ', 'أَوْ', 'قَطَعَ', 'الْأَوَّلُ', 'يَدَهُ', 'إلَخْ', 'قَالَ', 'الزَّرْكَشِيُّ', 'ابْنُ', 'عَرَفَةَ']\n"
     ]
    }
   ],
   "source": [
    "# read the gold_output file\n",
    "with open('./generatedFiles/gold_output.txt', 'r', encoding='utf-8') as file:\n",
    "    gold_output = file.readlines()\n",
    "    print(len(gold_output))\n",
    "    # remove '\\n' from each line\n",
    "    gold_output = [line.strip() for line in gold_output]\n",
    "    # put in tokenized_input list the tokenized input of length 1\n",
    "    # tokenized_input = [(line.strip(), i) for i,line in enumerate(tokenized_input) if (len(line.strip())== 1 and line.strip() != '؟')]\n",
    "    # get the inde\n",
    "\n",
    "print(gold_output[:10])"
   ]
  },
  {
   "cell_type": "code",
   "execution_count": 13,
   "metadata": {},
   "outputs": [
    {
     "name": "stdout",
     "output_type": "stream",
     "text": [
      "2104308\n",
      "['قوله', 'أو', 'قطع', 'الأول', 'يده', 'إلخ', 'قال', 'الزركشي', 'ابن', 'عرفة']\n"
     ]
    }
   ],
   "source": [
    "print(len(tokenized_input))\n",
    "print(tokenized_input[:10])"
   ]
  },
  {
   "cell_type": "code",
   "execution_count": 49,
   "metadata": {},
   "outputs": [
    {
     "name": "stdout",
     "output_type": "stream",
     "text": [
      "َ\n"
     ]
    }
   ],
   "source": [
    "# Map each diacrtics to its unicode\n",
    "diacritics_mapping = {\n",
    "    'FATHA': '\\u064E',\n",
    "    'DAMMA': '\\u064F',\n",
    "    'KASRA': '\\u0650',\n",
    "    'SUKUN': '\\u0652',\n",
    "    'SHADDA': '\\u0651',\n",
    "    'FATHATAN': '\\u064B',\n",
    "    'DAMMATAN': '\\u064C',\n",
    "    'KASRATAN': '\\u064D',\n",
    "    'TANWEEN': '\\u0640'\n",
    "}"
   ]
  },
  {
   "cell_type": "code",
   "execution_count": 81,
   "metadata": {},
   "outputs": [],
   "source": [
    "# Extract diacritics by returning a list containing a tuple of 3 elements: (letter, tashkeel, shadda)\n",
    "def extract_arabic_diacritics(word):\n",
    "    diacritics_list = []\n",
    "    extracted_word, tashkeel, shadda = araby.separate(word, extract_shadda=True)\n",
    "    for i in range(len(extracted_word)):\n",
    "        print(f'{araby.name(extracted_word[i])} {araby.name(tashkeel[i])} {araby.name(shadda[i])}')\n",
    "        diacritics_list.append((extracted_word[i], (tashkeel[i].encode(\"utf8\")).decode(), (shadda[i].encode(\"utf8\")).decode()))\n",
    "    return diacritics_list"
   ]
  },
  {
   "cell_type": "code",
   "execution_count": 82,
   "metadata": {},
   "outputs": [],
   "source": [
    "# firstly, initialize an empty dictionary for the 'prior' feature\n",
    "# the value will be the 8 arabic marks (FATHA, DAMMA, KASRA, SUKUN, SHADDA with FATHA, SHADDA with DAMMA, SHADDA with KASRA, NULL) as a binary vector\n",
    "\n",
    "# then, loop over the tokenized input and check if the each character and word pair is not in the dictionary, get the indices of this word and its duplicates in the tokenized input array\n",
    "def get_prior(tokenized_input, gold_output):\n",
    "    prior = {} # this dictionary will hold a key of tuple of 2 elements (word, character) and \n",
    "    for i in range(len(tokenized_input)):\n",
    "        if (tokenized_input[i], tokenized_input[i][0], 0) not in prior:\n",
    "            # get the indices of the word in the tokenized input array\n",
    "            indices = [j for j, x in enumerate(tokenized_input) if x == tokenized_input[i]]\n",
    "            print(indices)\n",
    "            # get the words in the gold_output array with the same indices\n",
    "            words = [gold_output[j] for j in indices]\n",
    "            extracted_diac_all_words = []\n",
    "            for word in words:\n",
    "                extracted_diac_all_words.append(extract_arabic_diacritics(word))\n",
    "            for indx, charac in enumerate(tokenized_input[i]):\n",
    "                for extracted_diac_per_word in extracted_diac_all_words:\n",
    "                    # extract the diacritics of word[indx]\n",
    "                    prior[(tokenized_input[i], charac, indx)] = [0, 0, 0, 0, 0, 0, 0, 0] # initialize the value of the key with zeros\n",
    "                    if diacritics_mapping['SHADDA'] in extracted_diac_per_word[indx]:\n",
    "                        prior[(tokenized_input[i], charac, indx)][4] = 1 if diacritics_mapping['FATHA'] in extracted_diac_per_word[indx] else 0\n",
    "                        prior[(tokenized_input[i], charac, indx)][5] = 1 if diacritics_mapping['DAMMA'] in extracted_diac_per_word[indx] else 0\n",
    "                        prior[(tokenized_input[i], charac, indx)][6] = 1 if diacritics_mapping['KASRA'] in extracted_diac_per_word[indx] else 0\n",
    "                        prior[(tokenized_input[i], charac, indx)][7] = 1 if not  diacritics_mapping['FATHA'] in extracted_diac_per_word[indx] and not diacritics_mapping['DAMMA'] in word[indx: indx+2]  and not diacritics_mapping['KASRA'] in word[indx: indx+2] else 0\n",
    "                    else:\n",
    "                        prior[(tokenized_input[i], charac,indx)][0] = 1 if diacritics_mapping['FATHA'] in extracted_diac_per_word[indx] else 0\n",
    "                        prior[(tokenized_input[i], charac,indx)][1] = 1 if diacritics_mapping['DAMMA'] in extracted_diac_per_word[indx] else 0\n",
    "                        prior[(tokenized_input[i], charac,indx)][2] = 1 if diacritics_mapping['KASRA'] in extracted_diac_per_word[indx] else 0\n",
    "                        prior[(tokenized_input[i], charac,indx)][3] = 1 if diacritics_mapping['SUKUN'] in extracted_diac_per_word[indx] else 0\n",
    "    return prior"
   ]
  },
  {
   "cell_type": "code",
   "execution_count": 83,
   "metadata": {},
   "outputs": [
    {
     "name": "stdout",
     "output_type": "stream",
     "text": [
      "[0, 1]\n",
      "كاف فتحة تطويل\n",
      "همزة تحت الألف كسرة تطويل\n",
      "نون سكون تطويل\n",
      "كاف فتحة تطويل\n",
      "ألف تطويل تطويل\n",
      "راء كسرة تطويل\n",
      "كاف فتحة تطويل\n",
      "همزة تحت الألف كسرة تطويل\n",
      "نون سكون تطويل\n",
      "كاف فتحة تطويل\n",
      "ألف تطويل تطويل\n",
      "راء كسرتان تطويل\n",
      "[2, 3]\n",
      "باء كسرة تطويل\n",
      "قاف فتحة تطويل\n",
      "ذال فتحة تطويل\n",
      "راء تطويل تطويل\n",
      "باء كسرة تطويل\n",
      "قاف فتحة تطويل\n",
      "ذال فتحة تطويل\n",
      "راء كسرتان تطويل\n",
      "[4, 5]\n",
      "همزة على الألف تطويل تطويل\n",
      "كاف سكون تطويل\n",
      "ثاء فتحة تطويل\n",
      "راء فتحة تطويل\n",
      "همزة على الألف فتحة تطويل\n",
      "كاف سكون تطويل\n",
      "ثاء فتحة تطويل\n",
      "راء ضمة تطويل\n",
      "[6]\n",
      "ألف تطويل تطويل\n",
      "لام تطويل تطويل\n",
      "زاي سكون شدة\n",
      "راء فتحة تطويل\n",
      "كاف سكون تطويل\n",
      "شين فتحة تطويل\n",
      "ياء كسرة شدة\n",
      "{('كإنكار', 'ك', 0): [1, 0, 0, 0, 0, 0, 0, 0], ('كإنكار', 'إ', 1): [0, 0, 1, 0, 0, 0, 0, 0], ('كإنكار', 'ن', 2): [0, 0, 0, 1, 0, 0, 0, 0], ('كإنكار', 'ك', 3): [1, 0, 0, 0, 0, 0, 0, 0], ('كإنكار', 'ا', 4): [0, 0, 0, 0, 0, 0, 0, 0], ('كإنكار', 'ر', 5): [0, 0, 0, 0, 0, 0, 0, 0], ('بقذر', 'ب', 0): [0, 0, 1, 0, 0, 0, 0, 0], ('بقذر', 'ق', 1): [1, 0, 0, 0, 0, 0, 0, 0], ('بقذر', 'ذ', 2): [1, 0, 0, 0, 0, 0, 0, 0], ('بقذر', 'ر', 3): [0, 0, 0, 0, 0, 0, 0, 0], ('أكثر', 'أ', 0): [1, 0, 0, 0, 0, 0, 0, 0], ('أكثر', 'ك', 1): [0, 0, 0, 1, 0, 0, 0, 0], ('أكثر', 'ث', 2): [1, 0, 0, 0, 0, 0, 0, 0], ('أكثر', 'ر', 3): [0, 1, 0, 0, 0, 0, 0, 0], ('الزركشي', 'ا', 0): [0, 0, 0, 0, 0, 0, 0, 0], ('الزركشي', 'ل', 1): [0, 0, 0, 0, 0, 0, 0, 0], ('الزركشي', 'ز', 2): [0, 0, 0, 0, 0, 0, 0, 1], ('الزركشي', 'ر', 3): [1, 0, 0, 0, 0, 0, 0, 0], ('الزركشي', 'ك', 4): [0, 0, 0, 1, 0, 0, 0, 0], ('الزركشي', 'ش', 5): [1, 0, 0, 0, 0, 0, 0, 0], ('الزركشي', 'ي', 6): [0, 0, 0, 0, 0, 0, 1, 1]}\n",
      "ألف تطويل تطويل\n",
      "لام تطويل تطويل\n",
      "زاي سكون شدة\n",
      "راء فتحة تطويل\n",
      "كاف سكون تطويل\n",
      "شين فتحة تطويل\n",
      "ياء كسرة شدة\n",
      "[('ا', 'ـ', 'ـ'), ('ل', 'ـ', 'ـ'), ('ز', 'ْ', 'ّ'), ('ر', 'َ', 'ـ'), ('ك', 'ْ', 'ـ'), ('ش', 'َ', 'ـ'), ('ي', 'ِ', 'ّ')]\n"
     ]
    }
   ],
   "source": [
    "test_tokenized_input = ['كإنكار', 'كإنكار', 'بقذر','بقذر', 'أكثر', 'أكثر', 'الزركشي']\n",
    "test_gold_output = ['كَإِنْكَارِ','كَإِنْكَارٍ', 'بِقَذَر', 'بِقَذَرٍ','أكْثَرَ', 'أَكْثَرُ', 'الزَّرْكَشِيُّ']\n",
    "print (get_prior(test_tokenized_input, test_gold_output))\n",
    "print(extract_arabic_diacritics(test_gold_output[6]))"
   ]
  },
  {
   "cell_type": "code",
   "execution_count": 38,
   "metadata": {},
   "outputs": [
    {
     "name": "stdout",
     "output_type": "stream",
     "text": [
      "نْ\n",
      "False\n",
      "True\n",
      "False\n"
     ]
    }
   ],
   "source": [
    "letter, tashkeel, shadda = araby.separate('زَّ', extract_shadda=True)\n",
    "enkar = 'كَإِنْكَارِ'\n",
    "print(enkar[4:6])\n",
    "print( diacritics_mapping['FATHA'] in enkar[0:1])\n",
    "print( diacritics_mapping['SHADDA'] in 'زَّ')\n",
    "print( diacritics_mapping['DAMMA'] in 'زَّ')"
   ]
  }
 ],
 "metadata": {
  "kernelspec": {
   "display_name": "base",
   "language": "python",
   "name": "python3"
  },
  "language_info": {
   "codemirror_mode": {
    "name": "ipython",
    "version": 3
   },
   "file_extension": ".py",
   "mimetype": "text/x-python",
   "name": "python",
   "nbconvert_exporter": "python",
   "pygments_lexer": "ipython3",
   "version": "3.11.5"
  }
 },
 "nbformat": 4,
 "nbformat_minor": 2
}
