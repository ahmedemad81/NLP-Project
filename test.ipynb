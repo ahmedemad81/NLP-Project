{
 "cells": [
  {
   "cell_type": "code",
   "execution_count": 2,
   "metadata": {},
   "outputs": [],
   "source": [
    "import pickle\n",
    "import numpy as np\n",
    "import pandas as pd\n",
    "import matplotlib.pyplot as plt\n",
    "import re\n"
   ]
  },
  {
   "cell_type": "code",
   "execution_count": 9,
   "metadata": {},
   "outputs": [
    {
     "name": "stdout",
     "output_type": "stream",
     "text": [
      "( قَوْلُهُ لِعَدَمِ مَا تَتَعَلَّقُ إلَخْ ) أَيْ الْوَصِيَّةُ ( قَوْلُهُ مَا مَرَّ ) أَيْ قُبَيْلَ قَوْلِ الْمَتْنِ لَغَتْ وَلَوْ اقْتَصَرَ عَلَى أَوْصَيْت لَهُ بِشَاةٍ أَوْ أَعْطُوهُ شَاةً وَلَا غَنَمَ لَهُ عِنْدَ الْمَوْتِ هَلْ تَبْطُلُ الْوَصِيَّةُ أَوْ يُشْتَرَى لَهُ شَاةٌ وَيُؤْخَذُ مِنْ قَوْلِهِ الْآتِي كَمَا لَوْ لَمْ يَقُلْ مِنْ مَالِي وَلَا مِنْ غَنَمِي أَنَّهَا لَا تَبْطُلُ ، وَعِبَارَةُ الْكَنْزِ وَلَوْ لَمْ يَقُلْ مِنْ مَالِي وَلَا مِنْ غَنَمِي لَمْ يَتَعَيَّنْ غَنَمُهُ إنْ كَانَتْ انْتَهَتْ ا ه سم ( قَوْلُهُ فَيُعْطَى وَاحِدَةً مِنْهَا إلَخْ ) كَمَا لَوْ كَانَتْ مَوْجُودَةً عِنْدَ الْوَصِيَّةِ وَالْمَوْتِ ، وَلَا يَجُوزُ أَنْ يُعْطَى وَاحِدَةً مِنْ غَيْرِ غَنَمِهِ فِي الصُّورَتَيْنِ وَإِنْ تَرَاضَيَا ؛ لِأَنَّهُ صُلْحٌ عَلَى مَجْهُولٍ مُغْنِي وَنِهَايَةٌ قَالَ ع ش قَوْلُهُ وَاحِدَةً مِنْهَا أَيْ كَامِلَةً ، وَلَا يَجُوزُ أَنْ يُعْطَى نِصْفَيْنِ مِنْ شَاتَيْنِ ؛ لِأَنَّهُ لَا يُسَمَّى شَاةً وَقَوْلُهُ وَلَا يَجُوزُ أَنْ يُعْطَى وَاحِدَةً مِنْ غَيْرِ غَنَمِهِ وَيَنْبَغِي أَنْ يُقَالَ مِثْلُ ذَلِكَ فِي الْأَرِقَّاءِ ا ه .\n",
      "وَحَيَوَانٌ غَيْرُ مَوْجُودٍ .\n",
      "فَائِدَةٌ : قَالَ بَعْضُهُمْ : يُؤْخَذُ مِنْ شَرْطِ تَمَامِ الْمِلْكِ عَدَمُ زَكَاةِ حُلِيِّ الْكَعْبَةِ وَالْمَسَاجِدِ مِنْ قَنَادِيلَ وَعَلَائِقَ وَصَفَائِحِ أَبْوَابٍ .\n",
      "وَقَوْلُهُ ( لَزِمَتْهُ لِمَا قُلْنَا ) يُرِيدُ قَوْلَهُ ؛ لِأَنَّ الْجَمْعَ بَيْنَهُمَا مَشْرُوعٌ فِي حَقِّ الْآفَاقِيِّ .\n"
     ]
    }
   ],
   "source": [
    "# Load the data\n",
    "# Specify the file path\n",
    "file_path = \"./dataset/train.txt\"\n",
    "\n",
    "# Read the contents of the file\n",
    "with open(file_path, 'r', encoding='utf-8') as file:\n",
    "    data_content = file.read()\n",
    "\n",
    "# Split the data into lines\n",
    "X_train = data_content.split('\\n')\n",
    "\n",
    "def remove_non_arabic(text):\n",
    "    # Use regex to keep only Arabic letters, spaces, tashkeel, and longation\n",
    "    arabic_letters = re.sub(r'[^ ؀-ۿ\\u0617-\\u061A\\u064B-\\u0652\\u0640]', '', text)\n",
    "    # Remove tasheel\n",
    "    arabic_letters = re.sub(r'[\\u064B-\\u0652]', '', arabic_letters)\n",
    "    # Remove longation\n",
    "    arabic_letters = re.sub(r'[\\u0640]', '', arabic_letters)\n",
    "    # Remove 3alamat tarkeem (.  ,  ~  :  !  ?  ;  ؟)\n",
    "    arabic_letters = re.sub(r'[\\.\\,\\~\\:\\!\\؟\\؛]', '', arabic_letters)\n",
    "    # Remove extra spaces\n",
    "    arabic_letters = re.sub(r'\\s+', ' ', arabic_letters)\n",
    "    \n",
    "    return arabic_letters\n",
    "\n",
    "\n",
    "# # Remove non-Arabic letters\n",
    "# X_train = [remove_non_arabic(text) for text in X_train]\n",
    "\n",
    "\n",
    "\n",
    "# print the first 2:6 lines in different lines\n",
    "for i in range(2,6):\n",
    "    print(X_train[i])\n",
    "\n"
   ]
  },
  {
   "cell_type": "code",
   "execution_count": 12,
   "metadata": {},
   "outputs": [
    {
     "data": {
      "text/plain": [
       "('( قوله لعدم ما تتعلق إلخ ) أي الوصية ( قوله ما مر ) أي قبيل قول المتن لغت ولو اقتصر على أوصيت له بشاة أو أعطوه شاة ولا غنم له عند الموت هل تبطل الوصية أو يشترى له شاة ويؤخذ من قوله الآتي كما لو لم يقل من مالي ولا من غنمي أنها لا تبطل ، وعبارة الكنز ولو لم يقل من مالي ولا من غنمي لم يتعين غنمه إن كانت انتهت ا ه سم ( قوله فيعطى واحدة منها إلخ ) كما لو كانت موجودة عند الوصية والموت ، ولا يجوز أن يعطى واحدة من غير غنمه في الصورتين وإن تراضيا ؛ لأنه صلح على مجهول مغني ونهاية قال ع ش قوله واحدة منها أي كاملة ، ولا يجوز أن يعطى نصفين من شاتين ؛ لأنه لا يسمى شاة وقوله ولا يجوز أن يعطى واحدة من غير غنمه وينبغي أن يقال مثل ذلك في الأرقاء ا ه .',\n",
       " [])"
      ]
     },
     "execution_count": 12,
     "metadata": {},
     "output_type": "execute_result"
    }
   ],
   "source": [
    "def extract_arabic_diacritics(text):\n",
    "    \"\"\"Extracts Arabic diacritics from the given text.\n",
    "\n",
    "    Args:\n",
    "        text: The Arabic text from which to extract diacritics.\n",
    "\n",
    "    Returns:\n",
    "        A list of the extracted diacritics.\n",
    "    \"\"\"\n",
    "\n",
    "    diacritics_pattern = r\"[\\u064B-\\u065F]\"  # Matches all Arabic diacritics\n",
    "    # Remove all non-Arabic letters\n",
    "    text = re.sub(r'[\\u064B-\\u065F]', '', text)\n",
    "    \n",
    "    diacritics = re.findall(diacritics_pattern, text)\n",
    "    return text,diacritics\n",
    "\n",
    "extract_arabic_diacritics(X_train[2])"
   ]
  },
  {
   "cell_type": "code",
   "execution_count": null,
   "metadata": {},
   "outputs": [],
   "source": []
  }
 ],
 "metadata": {
  "kernelspec": {
   "display_name": "base",
   "language": "python",
   "name": "python3"
  },
  "language_info": {
   "codemirror_mode": {
    "name": "ipython",
    "version": 3
   },
   "file_extension": ".py",
   "mimetype": "text/x-python",
   "name": "python",
   "nbconvert_exporter": "python",
   "pygments_lexer": "ipython3",
   "version": "3.11.5"
  }
 },
 "nbformat": 4,
 "nbformat_minor": 2
}
