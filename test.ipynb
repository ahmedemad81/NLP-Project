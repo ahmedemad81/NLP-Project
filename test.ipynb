{
 "cells": [
  {
   "cell_type": "code",
   "execution_count": 185,
   "metadata": {},
   "outputs": [],
   "source": [
    "import pickle\n",
    "import numpy as np\n",
    "import pandas as pd\n",
    "import matplotlib.pyplot as plt\n",
    "import re\n",
    "import pyarabic.araby as araby\n"
   ]
  },
  {
   "cell_type": "code",
   "execution_count": 186,
   "metadata": {},
   "outputs": [],
   "source": [
    "# Load the dataset\n",
    "# Specify the file path\n",
    "file_path = \"./dataset/train.txt\"\n",
    "\n",
    "# Read the contents of the file located at file_path \n",
    "# and append each line to the list data_before_preprocessing\n",
    "with open(file_path, 'r', encoding='utf-8') as file:\n",
    "    data_before_preprocessing = file.readlines()\n",
    "    # remove '\\n' from each line\n",
    "    data_before_preprocessing = [line.strip() for line in data_before_preprocessing]\n",
    "    \n",
    "    "
   ]
  },
  {
   "cell_type": "code",
   "execution_count": 187,
   "metadata": {},
   "outputs": [],
   "source": [
    "# Remove diacritics\n",
    "def remove_diacritics(text):\n",
    "    text = araby.strip_tashkeel(text)\n",
    "    return text\n",
    "\n",
    "# Remove any non-Arabic letters\n",
    "def remove_non_arabic(text):\n",
    "    text = re.sub(r'[^\\u0600-\\u06FF\\s]|،|؛', '', text)\n",
    "    return text\n",
    "\n",
    "def input_preprocessing_text(text):\n",
    "    # Correct most common errors on word like repetetion of harakats, or tanween before alef\n",
    "    text = araby.autocorrect(text)\n",
    "\n",
    "    # Remove any non-Arabic letters\n",
    "    text = remove_non_arabic(text)\n",
    "\n",
    "    # Remove diacritics\n",
    "    text = remove_diacritics(text)\n",
    "\n",
    "    # Tokenize\n",
    "    text = araby.tokenize(text)\n",
    "\n",
    "    return text\n",
    "\n",
    "def save_tokenized_input(text):\n",
    "    words = input_preprocessing_text(text)\n",
    "    # Write and append on the tokenized input to a file\n",
    "    with open('./generatedFiles/tokenized_input.txt', 'a', encoding='utf-8') as file:\n",
    "        for word in words:\n",
    "            file.write(word + '\\n')\n",
    "\n",
    "def save_gold_output(text):\n",
    "    # Remove any non-Arabic letters and extra spaces\n",
    "    text = remove_non_arabic(text)\n",
    "\n",
    "    # Tokenize\n",
    "    text = araby.tokenize(text)\n",
    "\n",
    "    # Write and append on the gold output to a file\n",
    "    with open('./generatedFiles/gold_output.txt', 'a', encoding='utf-8') as file:\n",
    "        for word in text:\n",
    "            # if last word in the text don't add '\\n'\n",
    "            file.write(word + '\\n')\n",
    "\n",
    "# Extract diacritics by returning a list containing a tuple of 3 elements: (letter, tashkeel, shadda)\n",
    "def extract_arabic_diacritics(tokenized_text):\n",
    "    diacritics_list = []\n",
    "    for word in tokenized_text:\n",
    "        extracted_word, tashkeel, shadda = araby.separate(word, extract_shadda=True)\n",
    "        for i in range(len(extracted_word)):\n",
    "            diacritics_list.append((extracted_word[i], araby.name(tashkeel[i]), araby.name(shadda[i])))\n",
    "    return diacritics_list"
   ]
  },
  {
   "cell_type": "code",
   "execution_count": 188,
   "metadata": {},
   "outputs": [],
   "source": [
    "# # RUN ONE TIME ONLY THIS CODE AGAIN \n",
    "# # Generate Gold Input file\n",
    "# for i in range(len(data_before_preprocessing)):\n",
    "#     save_tokenized_input(data_before_preprocessing[i])"
   ]
  },
  {
   "cell_type": "code",
   "execution_count": 189,
   "metadata": {},
   "outputs": [],
   "source": [
    "# #RUN ONE TIME ONLY THIS CODE AGAIN\n",
    "# # Generate Gold Output file\n",
    "# for i in range(len(data_before_preprocessing)):\n",
    "#     test = data_before_preprocessing[i]\n",
    "#     text1 = save_gold_output(test)"
   ]
  },
  {
   "cell_type": "code",
   "execution_count": 190,
   "metadata": {},
   "outputs": [
    {
     "name": "stdout",
     "output_type": "stream",
     "text": [
      "['قال', 'ابن', 'القاسم', 'قال', 'مالك', 'في', 'مكي', 'أحرم', 'بحجة', 'من', 'الحرم', 'ثم', 'أحصر', 'أنه', 'يخرج', 'إلى', 'الحل', 'فيلبي', 'من', 'هناك', 'لأنه', 'أمر', 'من', 'فاته', 'الحج', 'وقد', 'أحرم', 'من', 'مكة', 'أن', 'يخرج', 'إلى', 'الحل', 'فيعمل', 'فيما', 'بقي', 'عليه', 'ما', 'يعمل', 'المعتمر', 'ويحل']\n",
      "[('ق', 'فتحة', 'تطويل'), ('ا', 'تطويل', 'تطويل'), ('ل', 'فتحة', 'تطويل'), ('ا', 'تطويل', 'تطويل'), ('ب', 'سكون', 'تطويل'), ('ن', 'ضمة', 'تطويل'), ('ا', 'تطويل', 'تطويل'), ('ل', 'سكون', 'تطويل'), ('ق', 'فتحة', 'تطويل'), ('ا', 'تطويل', 'تطويل'), ('س', 'كسرة', 'تطويل'), ('م', 'كسرة', 'تطويل'), ('ق', 'فتحة', 'تطويل'), ('ا', 'تطويل', 'تطويل'), ('ل', 'فتحة', 'تطويل'), ('م', 'فتحة', 'تطويل'), ('ا', 'تطويل', 'تطويل'), ('ل', 'كسرة', 'تطويل'), ('ك', 'ضمتان', 'تطويل'), ('ف', 'كسرة', 'تطويل'), ('ي', 'تطويل', 'تطويل'), ('م', 'فتحة', 'تطويل'), ('ك', 'سكون', 'شدة'), ('ي', 'كسرة', 'شدة'), ('أ', 'فتحة', 'تطويل'), ('ح', 'سكون', 'تطويل'), ('ر', 'فتحة', 'تطويل'), ('م', 'فتحة', 'تطويل'), ('ب', 'كسرة', 'تطويل'), ('ح', 'فتحة', 'تطويل'), ('ج', 'سكون', 'شدة'), ('ة', 'فتحة', 'تطويل'), ('م', 'كسرة', 'تطويل'), ('ن', 'سكون', 'تطويل'), ('ا', 'تطويل', 'تطويل'), ('ل', 'سكون', 'تطويل'), ('ح', 'فتحة', 'تطويل'), ('ر', 'فتحة', 'تطويل'), ('م', 'كسرة', 'تطويل'), ('ث', 'ضمة', 'تطويل'), ('م', 'سكون', 'شدة'), ('أ', 'ضمة', 'تطويل'), ('ح', 'سكون', 'تطويل'), ('ص', 'كسرة', 'تطويل'), ('ر', 'فتحة', 'تطويل'), ('أ', 'فتحة', 'تطويل'), ('ن', 'سكون', 'شدة'), ('ه', 'فتحة', 'تطويل'), ('ي', 'فتحة', 'تطويل'), ('خ', 'سكون', 'تطويل'), ('ر', 'ضمة', 'تطويل'), ('ج', 'ضمة', 'تطويل'), ('إ', 'تطويل', 'تطويل'), ('ل', 'فتحة', 'تطويل'), ('ى', 'تطويل', 'تطويل'), ('ا', 'تطويل', 'تطويل'), ('ل', 'سكون', 'تطويل'), ('ح', 'كسرة', 'تطويل'), ('ل', 'سكون', 'شدة'), ('ف', 'فتحة', 'تطويل'), ('ي', 'ضمة', 'تطويل'), ('ل', 'فتحة', 'تطويل'), ('ب', 'سكون', 'شدة'), ('ي', 'كسرة', 'تطويل'), ('م', 'كسرة', 'تطويل'), ('ن', 'سكون', 'تطويل'), ('ه', 'ضمة', 'تطويل'), ('ن', 'فتحة', 'تطويل'), ('ا', 'تطويل', 'تطويل'), ('ك', 'فتحة', 'تطويل'), ('ل', 'كسرة', 'تطويل'), ('أ', 'فتحة', 'تطويل'), ('ن', 'سكون', 'شدة'), ('ه', 'فتحة', 'تطويل'), ('أ', 'فتحة', 'تطويل'), ('م', 'فتحة', 'تطويل'), ('ر', 'فتحة', 'تطويل'), ('م', 'فتحة', 'تطويل'), ('ن', 'سكون', 'تطويل'), ('ف', 'فتحة', 'تطويل'), ('ا', 'تطويل', 'تطويل'), ('ت', 'فتحة', 'تطويل'), ('ه', 'ضمة', 'تطويل'), ('ا', 'تطويل', 'تطويل'), ('ل', 'سكون', 'تطويل'), ('ح', 'فتحة', 'تطويل'), ('ج', 'سكون', 'شدة'), ('و', 'فتحة', 'تطويل'), ('ق', 'فتحة', 'تطويل'), ('د', 'سكون', 'تطويل'), ('أ', 'فتحة', 'تطويل'), ('ح', 'سكون', 'تطويل'), ('ر', 'فتحة', 'تطويل'), ('م', 'فتحة', 'تطويل'), ('م', 'كسرة', 'تطويل'), ('ن', 'سكون', 'تطويل'), ('م', 'فتحة', 'تطويل'), ('ك', 'سكون', 'شدة'), ('ة', 'فتحة', 'تطويل'), ('أ', 'فتحة', 'تطويل'), ('ن', 'سكون', 'تطويل'), ('ي', 'فتحة', 'تطويل'), ('خ', 'سكون', 'تطويل'), ('ر', 'ضمة', 'تطويل'), ('ج', 'فتحة', 'تطويل'), ('إ', 'تطويل', 'تطويل'), ('ل', 'فتحة', 'تطويل'), ('ى', 'تطويل', 'تطويل'), ('ا', 'تطويل', 'تطويل'), ('ل', 'سكون', 'تطويل'), ('ح', 'كسرة', 'تطويل'), ('ل', 'سكون', 'شدة'), ('ف', 'فتحة', 'تطويل'), ('ي', 'فتحة', 'تطويل'), ('ع', 'سكون', 'تطويل'), ('م', 'فتحة', 'تطويل'), ('ل', 'فتحة', 'تطويل'), ('ف', 'كسرة', 'تطويل'), ('ي', 'تطويل', 'تطويل'), ('م', 'فتحة', 'تطويل'), ('ا', 'تطويل', 'تطويل'), ('ب', 'فتحة', 'تطويل'), ('ق', 'كسرة', 'تطويل'), ('ي', 'فتحة', 'تطويل'), ('ع', 'فتحة', 'تطويل'), ('ل', 'فتحة', 'تطويل'), ('ي', 'سكون', 'تطويل'), ('ه', 'كسرة', 'تطويل'), ('م', 'فتحة', 'تطويل'), ('ا', 'تطويل', 'تطويل'), ('ي', 'فتحة', 'تطويل'), ('ع', 'سكون', 'تطويل'), ('م', 'فتحة', 'تطويل'), ('ل', 'ضمة', 'تطويل'), ('ا', 'تطويل', 'تطويل'), ('ل', 'سكون', 'تطويل'), ('م', 'ضمة', 'تطويل'), ('ع', 'سكون', 'تطويل'), ('ت', 'فتحة', 'تطويل'), ('م', 'كسرة', 'تطويل'), ('ر', 'ضمة', 'تطويل'), ('و', 'فتحة', 'تطويل'), ('ي', 'ضمة', 'تطويل'), ('ح', 'كسرة', 'تطويل'), ('ل', 'سكون', 'شدة')]\n"
     ]
    }
   ],
   "source": [
    "# For testing\n",
    "\n",
    "test = \"قَالَ ابْنُ الْقَاسِمِ : قَالَ مَالِكٌ فِي مَكِّيٍّ أَحْرَمَ بِحَجَّةٍ مِنْ الْحَرَمِ ثُمَّ أُحْصِرَ ، أَنَّهُ يَخْرُجُ إلَى الْحِلِّ فَيُلَبِّي مِنْ هُنَاكَ لِأَنَّهُ أَمَرَ مَنْ فَاتَهُ الْحَجُّ وَقَدْ أَحْرَمَ مِنْ مَكَّةَ ، أَنْ يَخْرُجَ إلَى الْحِلِّ فَيَعْمَلَ فِيمَا بَقِيَ عَلَيْهِ مَا يَعْمَلُ الْمُعْتَمِرُ وَيُحِلُّ .( 2 / 437 ) \"\n",
    "text2 = input_preprocessing_text(test)\n",
    "print(text2)\n",
    "text3 = remove_non_arabic(test)\n",
    "text3 = araby.tokenize(text3)\n",
    "diacritics_list = extract_arabic_diacritics(text3)\n",
    "print(diacritics_list)"
   ]
  },
  {
   "cell_type": "code",
   "execution_count": 191,
   "metadata": {},
   "outputs": [],
   "source": [
    "# Important functions in PyArabic\n",
    "\n",
    "# araby.tokenize(text) # Tokenize the sentence text into words\n",
    "# araby.is_arabicrange(text) # Check if the text is Arabic\n",
    "# araby.sentence_tokenize(text) # Tokenize the text into sentences\n",
    "# araby.strip_tashkeel(text) # Remove diacritics (FATHA, DAMMA, KASRA, SUKUN, SHADDA, FATHATAN, DAMMATAN, KASRATAN)\n",
    "# araby.strip_diacritics(text) # Remove diacritics (Small Alef الألف الخنجرية, Harakat + Shadda, Quranic marks)\n",
    "# araby.strip_tatweel(text) # Remove tatweel\n",
    "# araby.strip_shadda(text) # Remove shadda\n",
    "# araby.autocorrect(text) # Correct most common errors on word like repetetion of harakats,or tanwin befor alef\n",
    "# araby.arabicrange() # Return a list of Arabic characters\n",
    "\n",
    "# New Functions in PyArabic\n",
    "# araby.vocalized_similarity(word1, word2) # if the two words has the same letters and the same harakats, this function return True. \n",
    "# The two words can be full vocalized, or partial vocalized\n",
    "\n",
    "# araby.vocalizedlike(word1, word2) Same as vocalized_similarity but return True and False\n",
    "\n",
    "# araby.joint(word1, word2) # joint the letters with the marks the length ot letters and marks must be equal return word\n",
    "\n",
    "\n",
    "\n",
    "# Return the text, its tashkeel and shadda if extract_shadda is True\n",
    "# text, marks, shada = araby.separate(text,extract_shadda=True) # Separate diacritics from the text\n",
    "# print (text)\n",
    "# for m in marks:\n",
    "#     print (araby.name(m))\n",
    "\n",
    "# for s in shada:\n",
    "#     print (araby.name(s))"
   ]
  },
  {
   "cell_type": "code",
   "execution_count": null,
   "metadata": {},
   "outputs": [],
   "source": []
  }
 ],
 "metadata": {
  "kernelspec": {
   "display_name": "base",
   "language": "python",
   "name": "python3"
  },
  "language_info": {
   "codemirror_mode": {
    "name": "ipython",
    "version": 3
   },
   "file_extension": ".py",
   "mimetype": "text/x-python",
   "name": "python",
   "nbconvert_exporter": "python",
   "pygments_lexer": "ipython3",
   "version": "3.11.5"
  }
 },
 "nbformat": 4,
 "nbformat_minor": 2
}
