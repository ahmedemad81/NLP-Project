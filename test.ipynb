{
 "cells": [
  {
   "cell_type": "code",
   "execution_count": 53,
   "metadata": {},
   "outputs": [],
   "source": [
    "import pickle\n",
    "import numpy as np\n",
    "import pandas as pd\n",
    "import matplotlib.pyplot as plt\n",
    "import re\n",
    "import pyarabic.araby as araby\n",
    "from keras.preprocessing.text import Tokenizer\n",
    "from keras.preprocessing.sequence import pad_sequences\n",
    "from keras.utils import to_categorical\n",
    "import farasa\n",
    "from farasa.segmenter import FarasaSegmenter "
   ]
  },
  {
   "cell_type": "code",
   "execution_count": 2,
   "metadata": {},
   "outputs": [],
   "source": [
    "# Load the dataset\n",
    "# Specify the file path\n",
    "file_path = \"./dataset/train.txt\"\n",
    "\n",
    "# Read the contents of the file located at file_path \n",
    "# and append each line to the list data_before_preprocessing\n",
    "with open(file_path, 'r', encoding='utf-8') as file:\n",
    "    data_before_preprocessing = file.readlines()\n",
    "    # remove '\\n' from each line\n",
    "    data_before_preprocessing = [line.strip() for line in data_before_preprocessing]\n",
    "    \n",
    "    "
   ]
  },
  {
   "cell_type": "code",
   "execution_count": 3,
   "metadata": {},
   "outputs": [],
   "source": [
    "# Remove diacritics\n",
    "def remove_diacritics(text):\n",
    "    text = araby.strip_tashkeel(text)\n",
    "    return text\n",
    "\n",
    "# Remove any non-Arabic letters\n",
    "def remove_non_arabic(text):\n",
    "    text = re.sub(r'[^\\u0600-\\u06FF\\s]|،|؛', '', text)\n",
    "    return text\n",
    "\n",
    "def input_preprocessing_text(text):\n",
    "    # Correct most common errors on word like repetetion of harakats, or tanween before alef\n",
    "    text = araby.autocorrect(text)\n",
    "\n",
    "    # Remove any non-Arabic letters\n",
    "    text = remove_non_arabic(text)\n",
    "\n",
    "    # Remove diacritics\n",
    "    text = remove_diacritics(text)\n",
    "\n",
    "    # Tokenize\n",
    "    text = araby.tokenize(text)\n",
    "\n",
    "    return text\n",
    "\n",
    "def save_tokenized_input(text):\n",
    "    words = input_preprocessing_text(text)\n",
    "    # Write and append on the tokenized input to a file\n",
    "    with open('./generatedFiles/tokenized_input.txt', 'a', encoding='utf-8') as file:\n",
    "        for word in words:\n",
    "            file.write(word + '\\n')\n",
    "\n",
    "def save_gold_output(text):\n",
    "    # Remove any non-Arabic letters and extra spaces\n",
    "    text = remove_non_arabic(text)\n",
    "\n",
    "    # Tokenize\n",
    "    text = araby.tokenize(text)\n",
    "\n",
    "    # Write and append on the gold output to a file\n",
    "    with open('./generatedFiles/gold_output.txt', 'a', encoding='utf-8') as file:\n",
    "        for word in text:\n",
    "            # if last word in the text don't add '\\n'\n",
    "            file.write(word + '\\n')\n",
    "\n",
    "# Extract diacritics by returning a list containing a tuple of 3 elements: (letter, tashkeel, shadda)\n",
    "def extract_arabic_diacritics(tokenized_text):\n",
    "    diacritics_list = []\n",
    "    for word in tokenized_text:\n",
    "        extracted_word, tashkeel, shadda = araby.separate(word, extract_shadda=True)\n",
    "        for i in range(len(extracted_word)):\n",
    "            diacritics_list.append((extracted_word[i], araby.name(tashkeel[i]), araby.name(shadda[i])))\n",
    "    return diacritics_list"
   ]
  },
  {
   "cell_type": "code",
   "execution_count": 4,
   "metadata": {},
   "outputs": [],
   "source": [
    "# # RUN ONE TIME ONLY THIS CODE AGAIN \n",
    "# # Generate Gold Input file\n",
    "# for i in range(len(data_before_preprocessing)):\n",
    "#     save_tokenized_input(data_before_preprocessing[i])"
   ]
  },
  {
   "cell_type": "code",
   "execution_count": 5,
   "metadata": {},
   "outputs": [],
   "source": [
    "# #RUN ONE TIME ONLY THIS CODE AGAIN\n",
    "# # Generate Gold Output file\n",
    "# for i in range(len(data_before_preprocessing)):\n",
    "#     test = data_before_preprocessing[i]\n",
    "#     text1 = save_gold_output(test)"
   ]
  },
  {
   "cell_type": "code",
   "execution_count": 4,
   "metadata": {},
   "outputs": [
    {
     "name": "stdout",
     "output_type": "stream",
     "text": [
      "['قال', 'ابن', 'القاسم', 'قال', 'مالك', 'في', 'مكي', 'أحرم', 'بحجة', 'من', 'الحرم', 'ثم', 'أحصر', 'أنه', 'يخرج', 'إلى', 'الحل', 'فيلبي', 'من', 'هناك', 'لأنه', 'أمر', 'من', 'فاته', 'الحج', 'وقد', 'أحرم', 'من', 'مكة', 'أن', 'يخرج', 'إلى', 'الحل', 'فيعمل', 'فيما', 'بقي', 'عليه', 'ما', 'يعمل', 'المعتمر', 'ويحل']\n",
      "[('ق', 'فتحة', 'تطويل'), ('ا', 'تطويل', 'تطويل'), ('ل', 'فتحة', 'تطويل'), ('ا', 'تطويل', 'تطويل'), ('ب', 'سكون', 'تطويل'), ('ن', 'ضمة', 'تطويل'), ('ا', 'تطويل', 'تطويل'), ('ل', 'سكون', 'تطويل'), ('ق', 'فتحة', 'تطويل'), ('ا', 'تطويل', 'تطويل'), ('س', 'كسرة', 'تطويل'), ('م', 'كسرة', 'تطويل'), ('ق', 'فتحة', 'تطويل'), ('ا', 'تطويل', 'تطويل'), ('ل', 'فتحة', 'تطويل'), ('م', 'فتحة', 'تطويل'), ('ا', 'تطويل', 'تطويل'), ('ل', 'كسرة', 'تطويل'), ('ك', 'ضمتان', 'تطويل'), ('ف', 'كسرة', 'تطويل'), ('ي', 'تطويل', 'تطويل'), ('م', 'فتحة', 'تطويل'), ('ك', 'سكون', 'شدة'), ('ي', 'كسرة', 'شدة'), ('أ', 'فتحة', 'تطويل'), ('ح', 'سكون', 'تطويل'), ('ر', 'فتحة', 'تطويل'), ('م', 'فتحة', 'تطويل'), ('ب', 'كسرة', 'تطويل'), ('ح', 'فتحة', 'تطويل'), ('ج', 'سكون', 'شدة'), ('ة', 'فتحة', 'تطويل'), ('م', 'كسرة', 'تطويل'), ('ن', 'سكون', 'تطويل'), ('ا', 'تطويل', 'تطويل'), ('ل', 'سكون', 'تطويل'), ('ح', 'فتحة', 'تطويل'), ('ر', 'فتحة', 'تطويل'), ('م', 'كسرة', 'تطويل'), ('ث', 'ضمة', 'تطويل'), ('م', 'سكون', 'شدة'), ('أ', 'ضمة', 'تطويل'), ('ح', 'سكون', 'تطويل'), ('ص', 'كسرة', 'تطويل'), ('ر', 'فتحة', 'تطويل'), ('أ', 'فتحة', 'تطويل'), ('ن', 'سكون', 'شدة'), ('ه', 'فتحة', 'تطويل'), ('ي', 'فتحة', 'تطويل'), ('خ', 'سكون', 'تطويل'), ('ر', 'ضمة', 'تطويل'), ('ج', 'ضمة', 'تطويل'), ('إ', 'تطويل', 'تطويل'), ('ل', 'فتحة', 'تطويل'), ('ى', 'تطويل', 'تطويل'), ('ا', 'تطويل', 'تطويل'), ('ل', 'سكون', 'تطويل'), ('ح', 'كسرة', 'تطويل'), ('ل', 'سكون', 'شدة'), ('ف', 'فتحة', 'تطويل'), ('ي', 'ضمة', 'تطويل'), ('ل', 'فتحة', 'تطويل'), ('ب', 'سكون', 'شدة'), ('ي', 'كسرة', 'تطويل'), ('م', 'كسرة', 'تطويل'), ('ن', 'سكون', 'تطويل'), ('ه', 'ضمة', 'تطويل'), ('ن', 'فتحة', 'تطويل'), ('ا', 'تطويل', 'تطويل'), ('ك', 'فتحة', 'تطويل'), ('ل', 'كسرة', 'تطويل'), ('أ', 'فتحة', 'تطويل'), ('ن', 'سكون', 'شدة'), ('ه', 'فتحة', 'تطويل'), ('أ', 'فتحة', 'تطويل'), ('م', 'فتحة', 'تطويل'), ('ر', 'فتحة', 'تطويل'), ('م', 'فتحة', 'تطويل'), ('ن', 'سكون', 'تطويل'), ('ف', 'فتحة', 'تطويل'), ('ا', 'تطويل', 'تطويل'), ('ت', 'فتحة', 'تطويل'), ('ه', 'ضمة', 'تطويل'), ('ا', 'تطويل', 'تطويل'), ('ل', 'سكون', 'تطويل'), ('ح', 'فتحة', 'تطويل'), ('ج', 'سكون', 'شدة'), ('و', 'فتحة', 'تطويل'), ('ق', 'فتحة', 'تطويل'), ('د', 'سكون', 'تطويل'), ('أ', 'فتحة', 'تطويل'), ('ح', 'سكون', 'تطويل'), ('ر', 'فتحة', 'تطويل'), ('م', 'فتحة', 'تطويل'), ('م', 'كسرة', 'تطويل'), ('ن', 'سكون', 'تطويل'), ('م', 'فتحة', 'تطويل'), ('ك', 'سكون', 'شدة'), ('ة', 'فتحة', 'تطويل'), ('أ', 'فتحة', 'تطويل'), ('ن', 'سكون', 'تطويل'), ('ي', 'فتحة', 'تطويل'), ('خ', 'سكون', 'تطويل'), ('ر', 'ضمة', 'تطويل'), ('ج', 'فتحة', 'تطويل'), ('إ', 'تطويل', 'تطويل'), ('ل', 'فتحة', 'تطويل'), ('ى', 'تطويل', 'تطويل'), ('ا', 'تطويل', 'تطويل'), ('ل', 'سكون', 'تطويل'), ('ح', 'كسرة', 'تطويل'), ('ل', 'سكون', 'شدة'), ('ف', 'فتحة', 'تطويل'), ('ي', 'فتحة', 'تطويل'), ('ع', 'سكون', 'تطويل'), ('م', 'فتحة', 'تطويل'), ('ل', 'فتحة', 'تطويل'), ('ف', 'كسرة', 'تطويل'), ('ي', 'تطويل', 'تطويل'), ('م', 'فتحة', 'تطويل'), ('ا', 'تطويل', 'تطويل'), ('ب', 'فتحة', 'تطويل'), ('ق', 'كسرة', 'تطويل'), ('ي', 'فتحة', 'تطويل'), ('ع', 'فتحة', 'تطويل'), ('ل', 'فتحة', 'تطويل'), ('ي', 'سكون', 'تطويل'), ('ه', 'كسرة', 'تطويل'), ('م', 'فتحة', 'تطويل'), ('ا', 'تطويل', 'تطويل'), ('ي', 'فتحة', 'تطويل'), ('ع', 'سكون', 'تطويل'), ('م', 'فتحة', 'تطويل'), ('ل', 'ضمة', 'تطويل'), ('ا', 'تطويل', 'تطويل'), ('ل', 'سكون', 'تطويل'), ('م', 'ضمة', 'تطويل'), ('ع', 'سكون', 'تطويل'), ('ت', 'فتحة', 'تطويل'), ('م', 'كسرة', 'تطويل'), ('ر', 'ضمة', 'تطويل'), ('و', 'فتحة', 'تطويل'), ('ي', 'ضمة', 'تطويل'), ('ح', 'كسرة', 'تطويل'), ('ل', 'سكون', 'شدة')]\n"
     ]
    }
   ],
   "source": [
    "# For testing\n",
    "\n",
    "test = \"قَالَ ابْنُ الْقَاسِمِ : قَالَ مَالِكٌ فِي مَكِّيٍّ أَحْرَمَ بِحَجَّةٍ مِنْ الْحَرَمِ ثُمَّ أُحْصِرَ ، أَنَّهُ يَخْرُجُ إلَى الْحِلِّ فَيُلَبِّي مِنْ هُنَاكَ لِأَنَّهُ أَمَرَ مَنْ فَاتَهُ الْحَجُّ وَقَدْ أَحْرَمَ مِنْ مَكَّةَ ، أَنْ يَخْرُجَ إلَى الْحِلِّ فَيَعْمَلَ فِيمَا بَقِيَ عَلَيْهِ مَا يَعْمَلُ الْمُعْتَمِرُ وَيُحِلُّ .( 2 / 437 ) \"\n",
    "text2 = input_preprocessing_text(test)\n",
    "print(text2)\n",
    "text3 = remove_non_arabic(test)\n",
    "text3 = araby.tokenize(text3)\n",
    "diacritics_list = extract_arabic_diacritics(text3)\n",
    "print(diacritics_list)"
   ]
  },
  {
   "cell_type": "code",
   "execution_count": 7,
   "metadata": {},
   "outputs": [],
   "source": [
    "# Important functions in PyArabic\n",
    "\n",
    "# araby.tokenize(text) # Tokenize the sentence text into words\n",
    "# araby.is_arabicrange(text) # Check if the text is Arabic\n",
    "# araby.sentence_tokenize(text) # Tokenize the text into sentences\n",
    "# araby.strip_tashkeel(text) # Remove diacritics (FATHA, DAMMA, KASRA, SUKUN, SHADDA, FATHATAN, DAMMATAN, KASRATAN)\n",
    "# araby.strip_diacritics(text) # Remove diacritics (Small Alef الألف الخنجرية, Harakat + Shadda, Quranic marks)\n",
    "# araby.strip_tatweel(text) # Remove tatweel\n",
    "# araby.strip_shadda(text) # Remove shadda\n",
    "# araby.autocorrect(text) # Correct most common errors on word like repetetion of harakats,or tanwin befor alef\n",
    "# araby.arabicrange() # Return a list of Arabic characters\n",
    "\n",
    "# New Functions in PyArabic\n",
    "# araby.vocalized_similarity(word1, word2) # if the two words has the same letters and the same harakats, this function return True. \n",
    "# The two words can be full vocalized, or partial vocalized\n",
    "\n",
    "# araby.vocalizedlike(word1, word2) Same as vocalized_similarity but return True and False\n",
    "\n",
    "# araby.joint(word1, word2) # joint the letters with the marks the length ot letters and marks must be equal return word\n",
    "\n",
    "\n",
    "\n",
    "# Return the text, its tashkeel and shadda if extract_shadda is True\n",
    "# text, marks, shada = araby.separate(text,extract_shadda=True) # Separate diacritics from the text\n",
    "# print (text)\n",
    "# for m in marks:\n",
    "#     print (araby.name(m))\n",
    "\n",
    "# for s in shada:\n",
    "#     print (araby.name(s))"
   ]
  },
  {
   "cell_type": "code",
   "execution_count": 5,
   "metadata": {},
   "outputs": [
    {
     "name": "stdout",
     "output_type": "stream",
     "text": [
      "2104308\n",
      "['قوله', 'أو', 'قطع', 'الأول', 'يده', 'إلخ', 'قال', 'الزركشي', 'ابن', 'عرفة']\n"
     ]
    }
   ],
   "source": [
    "# read the tokenized input file\n",
    "with open('./generatedFiles/tokenized_input.txt', 'r', encoding='utf-8') as file:\n",
    "    tokenized_input = file.readlines()\n",
    "    print(len(tokenized_input))\n",
    "    # remove '\\n' from each line\n",
    "    tokenized_input = [line.strip() for line in tokenized_input]\n",
    "    # put in tokenized_input list the tokenized input of length 1\n",
    "    # tokenized_input = [(line.strip(), i) for i,line in enumerate(tokenized_input) if (len(line.strip())== 1 and line.strip() != '؟')]\n",
    "    # get the inde\n",
    "\n",
    "print(tokenized_input[:10])\n",
    "\n"
   ]
  },
  {
   "cell_type": "code",
   "execution_count": 6,
   "metadata": {},
   "outputs": [
    {
     "name": "stdout",
     "output_type": "stream",
     "text": [
      "2104308\n"
     ]
    }
   ],
   "source": [
    "print(len(tokenized_input))"
   ]
  },
  {
   "cell_type": "markdown",
   "metadata": {},
   "source": [
    "# **Core Word (CW) Diacritization**"
   ]
  },
  {
   "cell_type": "markdown",
   "metadata": {},
   "source": [
    "## **Feature Extraction**"
   ]
  },
  {
   "cell_type": "markdown",
   "metadata": {},
   "source": [
    "### 1 - Characters: here we extract each character from all tokenized words and create a vector of size 50 for each character."
   ]
  },
  {
   "cell_type": "code",
   "execution_count": 7,
   "metadata": {},
   "outputs": [],
   "source": [
    "tokenizer_char = Tokenizer(char_level=True)\n",
    "tokenizer_char.fit_on_texts(tokenized_input)\n",
    "sequences_char = tokenizer_char.texts_to_sequences(tokenized_input)\n",
    "char_features = pad_sequences(sequences_char)   # padding the sequences to have the same length as the longest sequence (word)\n",
    "char_embeddings = np.random.rand(len(tokenizer_char.word_index) + 1, 50)"
   ]
  },
  {
   "cell_type": "code",
   "execution_count": 16,
   "metadata": {},
   "outputs": [
    {
     "name": "stdout",
     "output_type": "stream",
     "text": [
      "(2104308, 13)\n",
      "(38, 50)\n"
     ]
    }
   ],
   "source": [
    "print(char_features.shape) # (number of words, max length of word in the dataset)\n",
    "\n",
    "\n",
    "print(char_embeddings.shape)\n",
    "\n",
    "# 38 rows: 37 unique characters identified by the tokenizer, 1 row for handling characters not seen in the training data\n",
    "# 50 columns: Each character is encoded as a 50-dimensional vector"
   ]
  },
  {
   "cell_type": "code",
   "execution_count": 34,
   "metadata": {},
   "outputs": [
    {
     "name": "stdout",
     "output_type": "stream",
     "text": [
      "[ 0  0  0  0  0  0  0  0  0 13  5  1  7]\n"
     ]
    }
   ],
   "source": [
    "print(char_features[0]) \n",
    "# the number of non zero elements corresponds to the length of the word \n",
    "# and the value of each element corresponds to the index of the character in the tokenizer\n",
    "# which means that every character now is encoded as a number and this number is the index of the character in the tokenizer"
   ]
  },
  {
   "cell_type": "code",
   "execution_count": 22,
   "metadata": {},
   "outputs": [
    {
     "name": "stdout",
     "output_type": "stream",
     "text": [
      "[0.86195503 0.59008126 0.83725693 0.73929862 0.66616833 0.81910771\n",
      " 0.71172063 0.94267168 0.88679032 0.43549008 0.30622242 0.27341291\n",
      " 0.69025231 0.20282245 0.36969012 0.96650502 0.74223839 0.84328157\n",
      " 0.43048005 0.89512908 0.8854725  0.69841678 0.37804537 0.3830333\n",
      " 0.03532254 0.03730501 0.69246895 0.1543971  0.98933985 0.44368365\n",
      " 0.15487945 0.30406823 0.67457616 0.82795006 0.97912149 0.23908356\n",
      " 0.65721243 0.70694422 0.44093428 0.30594358 0.07333034 0.30502391\n",
      " 0.77360985 0.20836156 0.68177455 0.507877   0.60646692 0.89776849\n",
      " 0.39232471 0.12408547]\n"
     ]
    }
   ],
   "source": [
    "print(char_embeddings[0])\n",
    "# this is the embedding of each character in the tokenizer"
   ]
  },
  {
   "cell_type": "code",
   "execution_count": 23,
   "metadata": {},
   "outputs": [
    {
     "name": "stdout",
     "output_type": "stream",
     "text": [
      "(13, 50)\n",
      "[[0.86195503 0.59008126 0.83725693 0.73929862 0.66616833 0.81910771\n",
      "  0.71172063 0.94267168 0.88679032 0.43549008 0.30622242 0.27341291\n",
      "  0.69025231 0.20282245 0.36969012 0.96650502 0.74223839 0.84328157\n",
      "  0.43048005 0.89512908 0.8854725  0.69841678 0.37804537 0.3830333\n",
      "  0.03532254 0.03730501 0.69246895 0.1543971  0.98933985 0.44368365\n",
      "  0.15487945 0.30406823 0.67457616 0.82795006 0.97912149 0.23908356\n",
      "  0.65721243 0.70694422 0.44093428 0.30594358 0.07333034 0.30502391\n",
      "  0.77360985 0.20836156 0.68177455 0.507877   0.60646692 0.89776849\n",
      "  0.39232471 0.12408547]\n",
      " [0.86195503 0.59008126 0.83725693 0.73929862 0.66616833 0.81910771\n",
      "  0.71172063 0.94267168 0.88679032 0.43549008 0.30622242 0.27341291\n",
      "  0.69025231 0.20282245 0.36969012 0.96650502 0.74223839 0.84328157\n",
      "  0.43048005 0.89512908 0.8854725  0.69841678 0.37804537 0.3830333\n",
      "  0.03532254 0.03730501 0.69246895 0.1543971  0.98933985 0.44368365\n",
      "  0.15487945 0.30406823 0.67457616 0.82795006 0.97912149 0.23908356\n",
      "  0.65721243 0.70694422 0.44093428 0.30594358 0.07333034 0.30502391\n",
      "  0.77360985 0.20836156 0.68177455 0.507877   0.60646692 0.89776849\n",
      "  0.39232471 0.12408547]\n",
      " [0.86195503 0.59008126 0.83725693 0.73929862 0.66616833 0.81910771\n",
      "  0.71172063 0.94267168 0.88679032 0.43549008 0.30622242 0.27341291\n",
      "  0.69025231 0.20282245 0.36969012 0.96650502 0.74223839 0.84328157\n",
      "  0.43048005 0.89512908 0.8854725  0.69841678 0.37804537 0.3830333\n",
      "  0.03532254 0.03730501 0.69246895 0.1543971  0.98933985 0.44368365\n",
      "  0.15487945 0.30406823 0.67457616 0.82795006 0.97912149 0.23908356\n",
      "  0.65721243 0.70694422 0.44093428 0.30594358 0.07333034 0.30502391\n",
      "  0.77360985 0.20836156 0.68177455 0.507877   0.60646692 0.89776849\n",
      "  0.39232471 0.12408547]\n",
      " [0.86195503 0.59008126 0.83725693 0.73929862 0.66616833 0.81910771\n",
      "  0.71172063 0.94267168 0.88679032 0.43549008 0.30622242 0.27341291\n",
      "  0.69025231 0.20282245 0.36969012 0.96650502 0.74223839 0.84328157\n",
      "  0.43048005 0.89512908 0.8854725  0.69841678 0.37804537 0.3830333\n",
      "  0.03532254 0.03730501 0.69246895 0.1543971  0.98933985 0.44368365\n",
      "  0.15487945 0.30406823 0.67457616 0.82795006 0.97912149 0.23908356\n",
      "  0.65721243 0.70694422 0.44093428 0.30594358 0.07333034 0.30502391\n",
      "  0.77360985 0.20836156 0.68177455 0.507877   0.60646692 0.89776849\n",
      "  0.39232471 0.12408547]\n",
      " [0.86195503 0.59008126 0.83725693 0.73929862 0.66616833 0.81910771\n",
      "  0.71172063 0.94267168 0.88679032 0.43549008 0.30622242 0.27341291\n",
      "  0.69025231 0.20282245 0.36969012 0.96650502 0.74223839 0.84328157\n",
      "  0.43048005 0.89512908 0.8854725  0.69841678 0.37804537 0.3830333\n",
      "  0.03532254 0.03730501 0.69246895 0.1543971  0.98933985 0.44368365\n",
      "  0.15487945 0.30406823 0.67457616 0.82795006 0.97912149 0.23908356\n",
      "  0.65721243 0.70694422 0.44093428 0.30594358 0.07333034 0.30502391\n",
      "  0.77360985 0.20836156 0.68177455 0.507877   0.60646692 0.89776849\n",
      "  0.39232471 0.12408547]\n",
      " [0.86195503 0.59008126 0.83725693 0.73929862 0.66616833 0.81910771\n",
      "  0.71172063 0.94267168 0.88679032 0.43549008 0.30622242 0.27341291\n",
      "  0.69025231 0.20282245 0.36969012 0.96650502 0.74223839 0.84328157\n",
      "  0.43048005 0.89512908 0.8854725  0.69841678 0.37804537 0.3830333\n",
      "  0.03532254 0.03730501 0.69246895 0.1543971  0.98933985 0.44368365\n",
      "  0.15487945 0.30406823 0.67457616 0.82795006 0.97912149 0.23908356\n",
      "  0.65721243 0.70694422 0.44093428 0.30594358 0.07333034 0.30502391\n",
      "  0.77360985 0.20836156 0.68177455 0.507877   0.60646692 0.89776849\n",
      "  0.39232471 0.12408547]\n",
      " [0.86195503 0.59008126 0.83725693 0.73929862 0.66616833 0.81910771\n",
      "  0.71172063 0.94267168 0.88679032 0.43549008 0.30622242 0.27341291\n",
      "  0.69025231 0.20282245 0.36969012 0.96650502 0.74223839 0.84328157\n",
      "  0.43048005 0.89512908 0.8854725  0.69841678 0.37804537 0.3830333\n",
      "  0.03532254 0.03730501 0.69246895 0.1543971  0.98933985 0.44368365\n",
      "  0.15487945 0.30406823 0.67457616 0.82795006 0.97912149 0.23908356\n",
      "  0.65721243 0.70694422 0.44093428 0.30594358 0.07333034 0.30502391\n",
      "  0.77360985 0.20836156 0.68177455 0.507877   0.60646692 0.89776849\n",
      "  0.39232471 0.12408547]\n",
      " [0.86195503 0.59008126 0.83725693 0.73929862 0.66616833 0.81910771\n",
      "  0.71172063 0.94267168 0.88679032 0.43549008 0.30622242 0.27341291\n",
      "  0.69025231 0.20282245 0.36969012 0.96650502 0.74223839 0.84328157\n",
      "  0.43048005 0.89512908 0.8854725  0.69841678 0.37804537 0.3830333\n",
      "  0.03532254 0.03730501 0.69246895 0.1543971  0.98933985 0.44368365\n",
      "  0.15487945 0.30406823 0.67457616 0.82795006 0.97912149 0.23908356\n",
      "  0.65721243 0.70694422 0.44093428 0.30594358 0.07333034 0.30502391\n",
      "  0.77360985 0.20836156 0.68177455 0.507877   0.60646692 0.89776849\n",
      "  0.39232471 0.12408547]\n",
      " [0.86195503 0.59008126 0.83725693 0.73929862 0.66616833 0.81910771\n",
      "  0.71172063 0.94267168 0.88679032 0.43549008 0.30622242 0.27341291\n",
      "  0.69025231 0.20282245 0.36969012 0.96650502 0.74223839 0.84328157\n",
      "  0.43048005 0.89512908 0.8854725  0.69841678 0.37804537 0.3830333\n",
      "  0.03532254 0.03730501 0.69246895 0.1543971  0.98933985 0.44368365\n",
      "  0.15487945 0.30406823 0.67457616 0.82795006 0.97912149 0.23908356\n",
      "  0.65721243 0.70694422 0.44093428 0.30594358 0.07333034 0.30502391\n",
      "  0.77360985 0.20836156 0.68177455 0.507877   0.60646692 0.89776849\n",
      "  0.39232471 0.12408547]\n",
      " [0.13151801 0.72956207 0.30068138 0.16131336 0.36724302 0.51355768\n",
      "  0.16190731 0.58119101 0.95722648 0.4980261  0.36962903 0.69531605\n",
      "  0.03895506 0.30601319 0.37951437 0.04594584 0.02012819 0.20442618\n",
      "  0.96002775 0.87533435 0.76660256 0.03367603 0.03320252 0.1694268\n",
      "  0.98381492 0.47432946 0.87361348 0.85862585 0.88010434 0.7380477\n",
      "  0.79270674 0.5113002  0.06727857 0.93550776 0.87217235 0.3137912\n",
      "  0.25839461 0.83797488 0.55747874 0.57177939 0.46380344 0.9385437\n",
      "  0.67844516 0.5665634  0.63359282 0.52409771 0.34305783 0.88478328\n",
      "  0.07732809 0.39476995]\n",
      " [0.52367054 0.40116117 0.20895206 0.02127335 0.56074758 0.22738311\n",
      "  0.40626234 0.07966875 0.09364979 0.33790582 0.7696735  0.27037457\n",
      "  0.85074753 0.33062904 0.51248893 0.26972127 0.86191673 0.93727828\n",
      "  0.52094666 0.64869912 0.6433419  0.92220063 0.95600788 0.08674931\n",
      "  0.23339848 0.35107832 0.92226061 0.47202304 0.58587865 0.4488172\n",
      "  0.41883845 0.19209761 0.05630875 0.74245246 0.60989661 0.77116109\n",
      "  0.42830356 0.197459   0.72426515 0.09641296 0.39926523 0.23920543\n",
      "  0.85078142 0.58023463 0.78085543 0.64332355 0.84894576 0.01149273\n",
      "  0.2455678  0.99102436]\n",
      " [0.1602833  0.29461818 0.61838997 0.84386549 0.43873458 0.59508756\n",
      "  0.38682868 0.10716948 0.0186715  0.74788872 0.31222239 0.78872634\n",
      "  0.01143977 0.60467398 0.5635752  0.20767874 0.43972396 0.46475119\n",
      "  0.22464114 0.2931651  0.67273602 0.75301422 0.69494374 0.7731092\n",
      "  0.68345245 0.92367511 0.90956716 0.01277639 0.14334614 0.01372661\n",
      "  0.39300258 0.21906572 0.38519809 0.70436332 0.51573835 0.91483999\n",
      "  0.9066249  0.56521098 0.8297105  0.07348008 0.89434446 0.27178889\n",
      "  0.73964174 0.5466081  0.94362846 0.56841849 0.70288087 0.2979398\n",
      "  0.67579485 0.4365619 ]\n",
      " [0.29911788 0.32959471 0.28044657 0.62294716 0.86792823 0.0912431\n",
      "  0.63314694 0.34013523 0.82980753 0.30797284 0.59078146 0.14897311\n",
      "  0.29600094 0.43381433 0.24090876 0.25280115 0.94058716 0.73576262\n",
      "  0.00610961 0.5810277  0.76799344 0.83943124 0.6537505  0.86109961\n",
      "  0.6835803  0.12506976 0.77851975 0.13420524 0.15049642 0.28339127\n",
      "  0.37577055 0.29206715 0.42695718 0.25213135 0.4696708  0.45804628\n",
      "  0.70808703 0.34618584 0.16923941 0.35858395 0.98505298 0.69687695\n",
      "  0.22699344 0.05301576 0.6175704  0.25442184 0.53355074 0.85529495\n",
      "  0.98243867 0.89816268]]\n"
     ]
    }
   ],
   "source": [
    "print(char_embeddings[char_features[0]].shape)\n",
    "# 13 is the word of characters and 50 is the embedding size of each character\n",
    "\n",
    "print(char_embeddings[char_features[0]])\n",
    "# this is the embedding of each character in the first tokenized word, this is the 1st feature and the input of the model"
   ]
  },
  {
   "cell_type": "markdown",
   "metadata": {},
   "source": [
    "### 2 - The position of the character in a word segment. For example, given the word “wAlktAb” , which is composed of three segments “w+Al+ktAb”. Letters were marked as “B” if they begin a segment, “M” if they are in the middle of a segment, “E” if they end a segment, and “S” if they are single letter segments. So for “w+Al+ktAb”, the corresponding character positions are “S+BE+BMME.”"
   ]
  },
  {
   "cell_type": "code",
   "execution_count": 41,
   "metadata": {},
   "outputs": [
    {
     "name": "stderr",
     "output_type": "stream",
     "text": [
      "c:\\Python311\\Lib\\site-packages\\urllib3\\connectionpool.py:1099: InsecureRequestWarning: Unverified HTTPS request is being made to host 'farasa-api.qcri.org'. Adding certificate verification is strongly advised. See: https://urllib3.readthedocs.io/en/latest/advanced-usage.html#tls-warnings\n",
      "  warnings.warn(\n"
     ]
    },
    {
     "name": "stdout",
     "output_type": "stream",
     "text": [
      "100%|██████████| 241M/241M [08:46<00:00, 458kiB/s]  \n"
     ]
    },
    {
     "name": "stderr",
     "output_type": "stream",
     "text": [
      "[2023-12-25 19:48:49,619 - farasapy_logger - WARNING]: Be careful with large lines as they may break on interactive mode. You may switch to Standalone mode for such cases.\n"
     ]
    },
    {
     "name": "stdout",
     "output_type": "stream",
     "text": [
      "و+ال+كتاب\n"
     ]
    }
   ],
   "source": [
    "segmenter = FarasaSegmenter(interactive=True) # The default behaviour\n"
   ]
  },
  {
   "cell_type": "code",
   "execution_count": 54,
   "metadata": {},
   "outputs": [
    {
     "name": "stdout",
     "output_type": "stream",
     "text": [
      "Segmented word: ['ك', 'قلم', 'ه']\n",
      "SEG tags: ['S', 'B', 'M', 'E', 'S']\n"
     ]
    }
   ],
   "source": [
    "def get_seg_tags(word):                 # word = \"wAlktAb\"\n",
    "    segments = segmenter.segment(word)  # segments will be a list: [\"w\", \"Al\", \"ktAb\"]\n",
    "    segments = segments.split('+')\n",
    "    seg_tags = []\n",
    "    for segment in segments:\n",
    "        if len(segment) == 1:\n",
    "            seg_tags.append(\"S\")\n",
    "        else:\n",
    "            seg_tags.append(\"B\")  # First letter\n",
    "            seg_tags.extend(\"M\" * (len(segment) - 2))  # Middle letters\n",
    "            seg_tags.append(\"E\")  # Last letter\n",
    "    return segments, seg_tags\n",
    "\n",
    "word = \"كقلمه\"\n",
    "segments, seg_tags = get_seg_tags(word)\n",
    "print(\"Segmented word:\", segments)\n",
    "print(\"SEG tags:\", seg_tags)\n"
   ]
  },
  {
   "cell_type": "code",
   "execution_count": 55,
   "metadata": {},
   "outputs": [],
   "source": [
    "# # DON'T RUN THIS CODE AGAIN, THIS CELL TOOK 25m 4.5s TO RUN\n",
    "# # The Output of this code is the input_segments.txt file\n",
    "\n",
    "# for i in range(len(tokenized_input)):\n",
    "#     segments, seg_tags = get_seg_tags(tokenized_input[i])\n",
    "#     # Write and append on the tokenized input to a file\n",
    "#     with open('./generatedFiles/input_segments.txt', 'a', encoding='utf-8') as file:\n",
    "#         for tag in seg_tags:\n",
    "#             file.write(tag)\n",
    "#         file.write('\\n')"
   ]
  },
  {
   "cell_type": "code",
   "execution_count": 56,
   "metadata": {},
   "outputs": [
    {
     "name": "stdout",
     "output_type": "stream",
     "text": [
      "2104308\n",
      "['BMES', 'BE', 'BME', 'BEBME', 'BES', 'BME', 'BME', 'BEBMMME', 'BME', 'BMES']\n"
     ]
    }
   ],
   "source": [
    "# read the input_segments file\n",
    "with open('./generatedFiles/input_segments.txt', 'r', encoding='utf-8') as file:\n",
    "    input_segments = file.readlines()\n",
    "    print(len(input_segments))\n",
    "    # remove '\\n' from each line\n",
    "    input_segments = [line.strip() for line in input_segments]\n",
    "    # put in tokenized_input list the tokenized input of length 1\n",
    "    # tokenized_input = [(line.strip(), i) for i,line in enumerate(tokenized_input) if (len(line.strip())== 1 and line.strip() != '؟')]\n",
    "    # get the inde\n",
    "\n",
    "print(input_segments[:10])"
   ]
  },
  {
   "cell_type": "code",
   "execution_count": 57,
   "metadata": {},
   "outputs": [],
   "source": [
    "tokenizer_tags = Tokenizer(char_level=True)\n",
    "tokenizer_tags.fit_on_texts(input_segments)\n",
    "sequences_tags = tokenizer_tags.texts_to_sequences(input_segments)\n",
    "tags_features = pad_sequences(sequences_tags)   \n",
    "tags_embeddings = np.random.rand(len(tokenizer_tags.word_index) + 1, 50)"
   ]
  },
  {
   "cell_type": "code",
   "execution_count": 59,
   "metadata": {},
   "outputs": [
    {
     "name": "stdout",
     "output_type": "stream",
     "text": [
      "(2104308, 13)\n",
      "(5, 50)\n"
     ]
    }
   ],
   "source": [
    "print(tags_features.shape) \n",
    "print(tags_embeddings.shape)"
   ]
  },
  {
   "cell_type": "markdown",
   "metadata": {},
   "source": [
    "### 3 - PRIOR: diacritics seen in the training set per segment. Since we used a character-level model, this feature informed the model with word-level information. For example, the word “ktAb”  was observed to have two diacritized forms in the training set, namely “kitaAb” ( – book) and “kut∼aAb” ( – writers). The first letter in the word (“k”) accepted the diacritics “i” and “u.” Thus, given a binary vector representing whether a character is allowed to assume any of the eight primitive Arabic diacritic marks (a, i, u, o, K, N, F, and ∼ in order), the first letter would be given the following vector “01100000.” If a word segment was never observed during training, then the vector for all letters therein would be set to 11111111."
   ]
  },
  {
   "cell_type": "code",
   "execution_count": 70,
   "metadata": {},
   "outputs": [
    {
     "name": "stdout",
     "output_type": "stream",
     "text": [
      "2104308\n",
      "['قَوْلُهُ', 'أَوْ', 'قَطَعَ', 'الْأَوَّلُ', 'يَدَهُ', 'إلَخْ', 'قَالَ', 'الزَّرْكَشِيُّ', 'ابْنُ', 'عَرَفَةَ']\n"
     ]
    }
   ],
   "source": [
    "# read the gold_output file\n",
    "with open('./generatedFiles/gold_output.txt', 'r', encoding='utf-8') as file:\n",
    "    gold_output = file.readlines()\n",
    "    print(len(gold_output))\n",
    "    # remove '\\n' from each line\n",
    "    gold_output = [line.strip() for line in gold_output]\n",
    "    # put in tokenized_input list the tokenized input of length 1\n",
    "    # tokenized_input = [(line.strip(), i) for i,line in enumerate(tokenized_input) if (len(line.strip())== 1 and line.strip() != '؟')]\n",
    "    # get the inde\n",
    "\n",
    "print(gold_output[:10])"
   ]
  },
  {
   "cell_type": "code",
   "execution_count": 73,
   "metadata": {},
   "outputs": [
    {
     "name": "stdout",
     "output_type": "stream",
     "text": [
      "2104308\n",
      "['قوله', 'أو', 'قطع', 'الأول', 'يده', 'إلخ', 'قال', 'الزركشي', 'ابن', 'عرفة']\n"
     ]
    }
   ],
   "source": [
    "print(len(tokenized_input))\n",
    "print(tokenized_input[:10])"
   ]
  },
  {
   "cell_type": "code",
   "execution_count": null,
   "metadata": {},
   "outputs": [],
   "source": [
    "# firstly, initialize an empty dictionary for the 'prior' feature\n",
    "prior = {} # this dictionary will hold a key of tuple of 2 elements (word, character) and \n",
    "# the value will be the 8 arabic marks (FATHA, DAMMA, KASRA, SUKUN, SHADDA with FATHA, SHADDA with DAMMA, SHADDA with KASRA, NULL) as a binary vector\n",
    "\n",
    "# then, loop over the tokenized input and check if the each character and word pair is not in the dictionary, get the indices of this word and its duplicates in the tokenized input array\n",
    "\n",
    "for i in range(len(tokenized_input)):\n",
    "    if (tokenized_input[i], tokenized_input[i][0]) not in prior:\n",
    "        # get the indices of the word in the tokenized input array\n",
    "        indices = [j for j, x in enumerate(tokenized_input) if x == tokenized_input[i]]\n",
    "        # get the words in the gold_output array with the same indices\n",
    "        words = [gold_output[j] for j in indices]\n",
    "        for indx, charac in enumerate(tokenized_input[i]):\n",
    "            for word in words:\n",
    "                # extract the diacritics of word[indx]\n",
    "                letter, tashkeel, shadda = araby.separate(word[indx], extract_shadda=True)\n",
    "                prior[(tokenized_input[i], charac)] = [0, 0, 0, 0, 0, 0, 0, 0] # initialize the value of the key with zeros\n",
    "                prior[(tokenized_input[i], charac)][0] = 1 if araby.name(tashkeel) == 'FATHA' else 0\n",
    "                prior[(tokenized_input[i], charac)][1] = 1 if araby.name(tashkeel) == 'DAMMA' else 0\n",
    "                prior[(tokenized_input[i], charac)][2] = 1 if araby.name(tashkeel) == 'KASRA' else 0\n",
    "                prior[(tokenized_input[i], charac)][3] = 1 if araby.name(tashkeel) == 'SUKUN' else 0\n",
    "                # THE LINES BELOW ARE NOT CORRECT, THE CONDITIONS NEED TO BE CORRECTED\n",
    "                # prior[(tokenized_input[i], charac)][4] = 1 if araby.name(shadda) == 'SHADDA' and araby.name(tashkeel) == 'FATHA' else 0\n",
    "                # prior[(tokenized_input[i], charac)][5] = 1 if araby.name(shadda) == 'SHADDA' and araby.name(tashkeel) == 'DAMMA' else 0\n",
    "                # prior[(tokenized_input[i], charac)][6] = 1 if araby.name(shadda) == 'SHADDA' and araby.name(tashkeel) == 'KASRA' else 0\n",
    "                # prior[(tokenized_input[i], charac)][7] = 1 if araby.name(shadda) == 'SHADDA' and araby.name(tashkeel) == 'NULL' else 0\n"
   ]
  },
  {
   "cell_type": "code",
   "execution_count": 83,
   "metadata": {},
   "outputs": [
    {
     "name": "stdout",
     "output_type": "stream",
     "text": [
      "شدة\n"
     ]
    }
   ],
   "source": [
    "letter, tashkeel, shadda = araby.separate('دِّ', extract_shadda=True)\n",
    "print(araby.name(shadda))"
   ]
  },
  {
   "cell_type": "code",
   "execution_count": null,
   "metadata": {},
   "outputs": [],
   "source": []
  }
 ],
 "metadata": {
  "kernelspec": {
   "display_name": "base",
   "language": "python",
   "name": "python3"
  },
  "language_info": {
   "codemirror_mode": {
    "name": "ipython",
    "version": 3
   },
   "file_extension": ".py",
   "mimetype": "text/x-python",
   "name": "python",
   "nbconvert_exporter": "python",
   "pygments_lexer": "ipython3",
   "version": "3.11.4"
  }
 },
 "nbformat": 4,
 "nbformat_minor": 2
}
